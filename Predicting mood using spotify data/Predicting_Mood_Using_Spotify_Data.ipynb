{
  "nbformat": 4,
  "nbformat_minor": 0,
  "metadata": {
    "kernelspec": {
      "display_name": "Python 3",
      "language": "python",
      "name": "python3"
    },
    "language_info": {
      "codemirror_mode": {
        "name": "ipython",
        "version": 3
      },
      "file_extension": ".py",
      "mimetype": "text/x-python",
      "name": "python",
      "nbconvert_exporter": "python",
      "pygments_lexer": "ipython3",
      "version": "3.8.3"
    },
    "colab": {
      "name": "Predicting Mood Using Spotify Data.ipynb",
      "provenance": [],
      "toc_visible": true
    }
  },
  "cells": [
    {
      "cell_type": "code",
      "metadata": {
        "id": "4zbS1xMtHleL",
        "colab_type": "code",
        "colab": {
          "base_uri": "https://localhost:8080/",
          "height": 138
        },
        "outputId": "e8323765-6c0e-4822-b18c-c02133c65396"
      },
      "source": [
        "# Supporting both python 2 and python 3.\n",
        "from __future__ import division, print_function, unicode_literals\n",
        "\n",
        "#importing neccessary libraries.\n",
        "import numpy as np\n",
        "import os\n",
        "import pandas as pd\n",
        "\n",
        "#Importing matplotlib.\n",
        "#matplotlib is a visualization library in Python for 2D plots of arrays.\n",
        "%matplotlib inline\n",
        "import matplotlib as mpl\n",
        "import matplotlib.pyplot as plt\n",
        "mpl.rc('axes', labelsize=14)\n",
        "mpl.rc('xtick', labelsize=12)\n",
        "mpl.rc('ytick', labelsize=12)\n",
        "\n",
        "#Importing Seabron.\n",
        "#Seaborn is a library that uses Matplotlib underneath to plot graphs. It will be used to visualize random distributions.\n",
        "import seaborn as sns\n",
        "sns.set_style('white')\n",
        "\n",
        "#Defining custom palette.\n",
        "customPalette = ['#630C3A', '#20B2AA', '#D3500C', '#FFB139']\n",
        "sns.set_palette(customPalette)\n",
        "sns.palplot(customPalette)\n"
      ],
      "execution_count": null,
      "outputs": [
        {
          "output_type": "stream",
          "text": [
            "/usr/local/lib/python3.6/dist-packages/statsmodels/tools/_testing.py:19: FutureWarning: pandas.util.testing is deprecated. Use the functions in the public API at pandas.testing instead.\n",
            "  import pandas.util.testing as tm\n"
          ],
          "name": "stderr"
        },
        {
          "output_type": "display_data",
          "data": {
            "image/png": "[encoded data removed]",
            "text/plain": [
              "<Figure size 288x72 with 1 Axes>"
            ]
          },
          "metadata": {
            "tags": []
          }
        }
      ]
    },
    {
      "cell_type": "code",
      "metadata": {
        "id": "8FrSxeYqHleW",
        "colab_type": "code",
        "colab": {
          "base_uri": "https://localhost:8080/",
          "height": 418
        },
        "outputId": "5219e78f-4345-460f-b805-34c645d2b16a"
      },
      "source": [
        "# Import my spotify data.\n",
        "songs = pd.read_csv(r\"spotify.csv\")\n",
        "songs.info()"
      ],
      "execution_count": null,
      "outputs": [
        {
          "output_type": "stream",
          "text": [
            "<class 'pandas.core.frame.DataFrame'>\n",
            "RangeIndex: 100 entries, 0 to 99\n",
            "Data columns (total 17 columns):\n",
            " #   Column            Non-Null Count  Dtype  \n",
            "---  ------            --------------  -----  \n",
            " 0   Unnamed: 0        100 non-null    int64  \n",
            " 1   name              100 non-null    object \n",
            " 2   album             100 non-null    object \n",
            " 3   artist            100 non-null    object \n",
            " 4   release_date      100 non-null    object \n",
            " 5   length            100 non-null    int64  \n",
            " 6   popularity        100 non-null    int64  \n",
            " 7   danceability      100 non-null    float64\n",
            " 8   acousticness      100 non-null    float64\n",
            " 9   danceability.1    100 non-null    float64\n",
            " 10  energy            100 non-null    float64\n",
            " 11  instrumentalness  100 non-null    float64\n",
            " 12  liveness          100 non-null    float64\n",
            " 13  loudness          100 non-null    float64\n",
            " 14  speechiness       100 non-null    float64\n",
            " 15  tempo             100 non-null    float64\n",
            " 16  time_signature    100 non-null    int64  \n",
            "dtypes: float64(9), int64(4), object(4)\n",
            "memory usage: 13.4+ KB\n"
          ],
          "name": "stdout"
        }
      ]
    },
    {
      "cell_type": "code",
      "metadata": {
        "scrolled": true,
        "id": "TsSCNSvoHlec",
        "colab_type": "code",
        "colab": {
          "base_uri": "https://localhost:8080/",
          "height": 196
        },
        "outputId": "d345a45c-a9d7-4553-b43d-f6b5be777af9"
      },
      "source": [
        "#Dropping unneccessary columns/data\n",
        "songs = songs.drop(['Unnamed: 0','album','energy','release_date','tempo','length','popularity',\n",
        "                    'danceability.1','instrumentalness','time_signature'],axis=1)\n",
        "songs.head()"
      ],
      "execution_count": null,
      "outputs": [
        {
          "output_type": "execute_result",
          "data": {
            "text/html": [
              "<div>\n",
              "<style scoped>\n",
              "    .dataframe tbody tr th:only-of-type {\n",
              "        vertical-align: middle;\n",
              "    }\n",
              "\n",
              "    .dataframe tbody tr th {\n",
              "        vertical-align: top;\n",
              "    }\n",
              "\n",
              "    .dataframe thead th {\n",
              "        text-align: right;\n",
              "    }\n",
              "</style>\n",
              "<table border=\"1\" class=\"dataframe\">\n",
              "  <thead>\n",
              "    <tr style=\"text-align: right;\">\n",
              "      <th></th>\n",
              "      <th>name</th>\n",
              "      <th>artist</th>\n",
              "      <th>danceability</th>\n",
              "      <th>acousticness</th>\n",
              "      <th>liveness</th>\n",
              "      <th>loudness</th>\n",
              "      <th>speechiness</th>\n",
              "    </tr>\n",
              "  </thead>\n",
              "  <tbody>\n",
              "    <tr>\n",
              "      <th>0</th>\n",
              "      <td>I Will Always Love You</td>\n",
              "      <td>Whitney Houston</td>\n",
              "      <td>0.306</td>\n",
              "      <td>0.8440</td>\n",
              "      <td>0.0839</td>\n",
              "      <td>-12.518</td>\n",
              "      <td>0.0356</td>\n",
              "    </tr>\n",
              "    <tr>\n",
              "      <th>1</th>\n",
              "      <td>Love of the Common People</td>\n",
              "      <td>Paul Young</td>\n",
              "      <td>0.744</td>\n",
              "      <td>0.0883</td>\n",
              "      <td>0.0599</td>\n",
              "      <td>-11.202</td>\n",
              "      <td>0.0758</td>\n",
              "    </tr>\n",
              "    <tr>\n",
              "      <th>2</th>\n",
              "      <td>Because I Love You</td>\n",
              "      <td>Shakin' Stevens</td>\n",
              "      <td>0.587</td>\n",
              "      <td>0.2440</td>\n",
              "      <td>0.1180</td>\n",
              "      <td>-12.891</td>\n",
              "      <td>0.0255</td>\n",
              "    </tr>\n",
              "    <tr>\n",
              "      <th>3</th>\n",
              "      <td>Song For Zula</td>\n",
              "      <td>Phosphorescent</td>\n",
              "      <td>0.492</td>\n",
              "      <td>0.7290</td>\n",
              "      <td>0.0509</td>\n",
              "      <td>-8.260</td>\n",
              "      <td>0.0349</td>\n",
              "    </tr>\n",
              "    <tr>\n",
              "      <th>4</th>\n",
              "      <td>Song for Zula</td>\n",
              "      <td>Ronnie Fauss</td>\n",
              "      <td>0.506</td>\n",
              "      <td>0.7340</td>\n",
              "      <td>0.0737</td>\n",
              "      <td>-6.931</td>\n",
              "      <td>0.0246</td>\n",
              "    </tr>\n",
              "  </tbody>\n",
              "</table>\n",
              "</div>"
            ],
            "text/plain": [
              "                        name           artist  ...  loudness  speechiness\n",
              "0     I Will Always Love You  Whitney Houston  ...   -12.518       0.0356\n",
              "1  Love of the Common People       Paul Young  ...   -11.202       0.0758\n",
              "2         Because I Love You  Shakin' Stevens  ...   -12.891       0.0255\n",
              "3              Song For Zula   Phosphorescent  ...    -8.260       0.0349\n",
              "4              Song for Zula     Ronnie Fauss  ...    -6.931       0.0246\n",
              "\n",
              "[5 rows x 7 columns]"
            ]
          },
          "metadata": {
            "tags": []
          },
          "execution_count": 4
        }
      ]
    },
    {
      "cell_type": "code",
      "metadata": {
        "id": "jpuhEAiiHlej",
        "colab_type": "code",
        "colab": {
          "base_uri": "https://localhost:8080/",
          "height": 286
        },
        "outputId": "087720f0-e8b9-48a4-c41e-157a85675b8c"
      },
      "source": [
        "#Describing numerical features.\n",
        "songs.describe()"
      ],
      "execution_count": null,
      "outputs": [
        {
          "output_type": "execute_result",
          "data": {
            "text/html": [
              "<div>\n",
              "<style scoped>\n",
              "    .dataframe tbody tr th:only-of-type {\n",
              "        vertical-align: middle;\n",
              "    }\n",
              "\n",
              "    .dataframe tbody tr th {\n",
              "        vertical-align: top;\n",
              "    }\n",
              "\n",
              "    .dataframe thead th {\n",
              "        text-align: right;\n",
              "    }\n",
              "</style>\n",
              "<table border=\"1\" class=\"dataframe\">\n",
              "  <thead>\n",
              "    <tr style=\"text-align: right;\">\n",
              "      <th></th>\n",
              "      <th>danceability</th>\n",
              "      <th>acousticness</th>\n",
              "      <th>liveness</th>\n",
              "      <th>loudness</th>\n",
              "      <th>speechiness</th>\n",
              "    </tr>\n",
              "  </thead>\n",
              "  <tbody>\n",
              "    <tr>\n",
              "      <th>count</th>\n",
              "      <td>100.000000</td>\n",
              "      <td>100.000000</td>\n",
              "      <td>100.000000</td>\n",
              "      <td>100.000000</td>\n",
              "      <td>100.000000</td>\n",
              "    </tr>\n",
              "    <tr>\n",
              "      <th>mean</th>\n",
              "      <td>0.625380</td>\n",
              "      <td>0.298293</td>\n",
              "      <td>0.170778</td>\n",
              "      <td>-7.264860</td>\n",
              "      <td>0.081449</td>\n",
              "    </tr>\n",
              "    <tr>\n",
              "      <th>std</th>\n",
              "      <td>0.153444</td>\n",
              "      <td>0.328817</td>\n",
              "      <td>0.112697</td>\n",
              "      <td>4.239447</td>\n",
              "      <td>0.071516</td>\n",
              "    </tr>\n",
              "    <tr>\n",
              "      <th>min</th>\n",
              "      <td>0.157000</td>\n",
              "      <td>0.000688</td>\n",
              "      <td>0.050900</td>\n",
              "      <td>-23.562000</td>\n",
              "      <td>0.024600</td>\n",
              "    </tr>\n",
              "    <tr>\n",
              "      <th>25%</th>\n",
              "      <td>0.558500</td>\n",
              "      <td>0.040075</td>\n",
              "      <td>0.093475</td>\n",
              "      <td>-8.034000</td>\n",
              "      <td>0.036600</td>\n",
              "    </tr>\n",
              "    <tr>\n",
              "      <th>50%</th>\n",
              "      <td>0.660000</td>\n",
              "      <td>0.169500</td>\n",
              "      <td>0.124000</td>\n",
              "      <td>-6.004500</td>\n",
              "      <td>0.054150</td>\n",
              "    </tr>\n",
              "    <tr>\n",
              "      <th>75%</th>\n",
              "      <td>0.728250</td>\n",
              "      <td>0.535250</td>\n",
              "      <td>0.217500</td>\n",
              "      <td>-4.784000</td>\n",
              "      <td>0.091025</td>\n",
              "    </tr>\n",
              "    <tr>\n",
              "      <th>max</th>\n",
              "      <td>0.903000</td>\n",
              "      <td>0.990000</td>\n",
              "      <td>0.638000</td>\n",
              "      <td>-2.528000</td>\n",
              "      <td>0.375000</td>\n",
              "    </tr>\n",
              "  </tbody>\n",
              "</table>\n",
              "</div>"
            ],
            "text/plain": [
              "       danceability  acousticness    liveness    loudness  speechiness\n",
              "count    100.000000    100.000000  100.000000  100.000000   100.000000\n",
              "mean       0.625380      0.298293    0.170778   -7.264860     0.081449\n",
              "std        0.153444      0.328817    0.112697    4.239447     0.071516\n",
              "min        0.157000      0.000688    0.050900  -23.562000     0.024600\n",
              "25%        0.558500      0.040075    0.093475   -8.034000     0.036600\n",
              "50%        0.660000      0.169500    0.124000   -6.004500     0.054150\n",
              "75%        0.728250      0.535250    0.217500   -4.784000     0.091025\n",
              "max        0.903000      0.990000    0.638000   -2.528000     0.375000"
            ]
          },
          "metadata": {
            "tags": []
          },
          "execution_count": 5
        }
      ]
    },
    {
      "cell_type": "code",
      "metadata": {
        "scrolled": true,
        "id": "GIau9oR8Hlep",
        "colab_type": "code",
        "colab": {
          "base_uri": "https://localhost:8080/",
          "height": 866
        },
        "outputId": "48cbfb0f-09d1-4279-ba7f-bf298498c96d"
      },
      "source": [
        "#Importing preprocessing from sklearn.\n",
        "#The sklearn.preprocessing package provides several common utility functions and transformer classes.\n",
        "from sklearn import preprocessing\n",
        "\n",
        "#Normalising loudness value between 0 to 1.\n",
        "loudness = songs[['loudness']].values\n",
        "min_max_scaler = preprocessing.MinMaxScaler()\n",
        "loudness_scaled = min_max_scaler.fit_transform(loudness)\n",
        "songs['loudness'] = pd.DataFrame(loudness_scaled)\n",
        "\n",
        "#plotting histogram for different features we selected.\n",
        "songs.hist(bins=50,figsize=(20,15))"
      ],
      "execution_count": null,
      "outputs": [
        {
          "output_type": "execute_result",
          "data": {
            "text/plain": [
              "array([[<matplotlib.axes._subplots.AxesSubplot object at 0x7efc420512b0>,\n",
              "        <matplotlib.axes._subplots.AxesSubplot object at 0x7efc42002940>],\n",
              "       [<matplotlib.axes._subplots.AxesSubplot object at 0x7efc42035f98>,\n",
              "        <matplotlib.axes._subplots.AxesSubplot object at 0x7efc41ff0630>],\n",
              "       [<matplotlib.axes._subplots.AxesSubplot object at 0x7efc41f9fc88>,\n",
              "        <matplotlib.axes._subplots.AxesSubplot object at 0x7efc41f5e320>]],\n",
              "      dtype=object)"
            ]
          },
          "metadata": {
            "tags": []
          },
          "execution_count": 6
        },
        {
          "output_type": "display_data",
          "data": {
            "image/png": "[encoded data removed]",
            "text/plain": [
              "<Figure size 1440x1080 with 6 Axes>"
            ]
          },
          "metadata": {
            "tags": [],
            "needs_background": "light"
          }
        }
      ]
    },
    {
      "cell_type": "code",
      "metadata": {
        "id": "jkyZ0I3gHlev",
        "colab_type": "code",
        "colab": {}
      },
      "source": [
        "#Dropping song names and artist before clustering.\n",
        "songs_features = songs.copy()\n",
        "songs_features = songs_features.drop(['name','artist'],axis=1)"
      ],
      "execution_count": null,
      "outputs": []
    },
    {
      "cell_type": "markdown",
      "metadata": {
        "id": "AGoK-WtMHle1",
        "colab_type": "text"
      },
      "source": [
        "*Now the Data is Prepared, will now cluster the songs and identify a mood represented by each cluster.*"
      ]
    },
    {
      "cell_type": "markdown",
      "metadata": {
        "id": "zu8ZFiuAHle2",
        "colab_type": "text"
      },
      "source": [
        "# K-Means Clustering Algorithm"
      ]
    },
    {
      "cell_type": "markdown",
      "metadata": {
        "id": "iUTWcFp5Hle3",
        "colab_type": "text"
      },
      "source": [
        "*Clustering is the process of dividing the entire data into groups (also known as clusters) based on the patterns in the data. In clustering, we do not have a target to predict. We look at the data and then try to club similar observations and form different groups. Hence it is an unsupervised learning problem.\n",
        "Using K-Means Clustering Algorithm, we can group data points into k-groups and discover emphazing patterns. To execute that it looks for a predefined number (k) of clusters. There are many ways of doing, One of the best method is the ELBOW METHOD.\n",
        "The elbow method runs k-means clustering on the dataset for a range of values for k (say from 1-10) and then for each value of k computes an average score for all clusters.*"
      ]
    },
    {
      "cell_type": "code",
      "metadata": {
        "id": "pO1HVO7AHle4",
        "colab_type": "code",
        "colab": {}
      },
      "source": [
        "from sklearn.cluster import KMeans\n",
        "Sum_of_squared_distances = []\n",
        "K = range(1,15)\n",
        "for k in K:\n",
        "    kmeanModel = KMeans(n_clusters=k)\n",
        "    kmeanModel = kmeanModel.fit(songs_features)\n",
        "    Sum_of_squared_distances.append(kmeanModel.inertia_)"
      ],
      "execution_count": null,
      "outputs": []
    },
    {
      "cell_type": "code",
      "metadata": {
        "id": "a-OOenh5HlfA",
        "colab_type": "code",
        "colab": {
          "base_uri": "https://localhost:8080/",
          "height": 234
        },
        "outputId": "551fed95-de76-4444-a9c8-dce8376c6bbd"
      },
      "source": [
        "from sklearn.metrics import silhouette_score\n",
        "for n_clusters in range(2,15):\n",
        "    clusterer = KMeans (n_clusters=n_clusters)\n",
        "    preds = clusterer.fit_predict(songs_features)\n",
        "    centers = clusterer.cluster_centers_\n",
        "\n",
        "    score = silhouette_score (songs_features, preds, metric='euclidean')\n",
        "    print (\"For n_clusters = {}, silhouette score is {})\".format(n_clusters, score))"
      ],
      "execution_count": null,
      "outputs": [
        {
          "output_type": "stream",
          "text": [
            "For n_clusters = 2, silhouette score is 0.587199598360731)\n",
            "For n_clusters = 3, silhouette score is 0.5430140962106473)\n",
            "For n_clusters = 4, silhouette score is 0.3132710911997776)\n",
            "For n_clusters = 5, silhouette score is 0.27948874554193365)\n",
            "For n_clusters = 6, silhouette score is 0.2831428014884143)\n",
            "For n_clusters = 7, silhouette score is 0.26012064414433306)\n",
            "For n_clusters = 8, silhouette score is 0.28030881240695643)\n",
            "For n_clusters = 9, silhouette score is 0.28173686519557506)\n",
            "For n_clusters = 10, silhouette score is 0.2654568166332299)\n",
            "For n_clusters = 11, silhouette score is 0.28835882786110556)\n",
            "For n_clusters = 12, silhouette score is 0.2847169410607815)\n",
            "For n_clusters = 13, silhouette score is 0.26217748296175425)\n",
            "For n_clusters = 14, silhouette score is 0.28868158415259765)\n"
          ],
          "name": "stdout"
        }
      ]
    },
    {
      "cell_type": "code",
      "metadata": {
        "id": "vLTvSbwDHlfF",
        "colab_type": "code",
        "colab": {
          "base_uri": "https://localhost:8080/",
          "height": 302
        },
        "outputId": "dd095375-1641-4af2-b836-4e6c90a88154"
      },
      "source": [
        "#Plotting graphs for Optimal k\n",
        "plt.plot(K, Sum_of_squared_distances, 'gx-')\n",
        "plt.xlabel('k')\n",
        "plt.ylabel('Sum_of_squared_distances')\n",
        "plt.title('Elbow Method For Optimal k')\n",
        "plt.show()"
      ],
      "execution_count": null,
      "outputs": [
        {
          "output_type": "display_data",
          "data": {
            "image/png": "[encoded data removed]",
            "text/plain": [
              "<Figure size 432x288 with 1 Axes>"
            ]
          },
          "metadata": {
            "tags": [],
            "needs_background": "light"
          }
        }
      ]
    },
    {
      "cell_type": "markdown",
      "metadata": {
        "id": "hubs-TCdHlfL",
        "colab_type": "text"
      },
      "source": [
        "**It' visible now, when k = 4 the average squared distance to cluster centre starts to trail off remarkably. This is, our optimal k.**"
      ]
    },
    {
      "cell_type": "code",
      "metadata": {
        "id": "A8WYNic-HlfM",
        "colab_type": "code",
        "colab": {
          "base_uri": "https://localhost:8080/",
          "height": 67
        },
        "outputId": "d3f28ebd-9c66-4ced-ff35-cf222c301029"
      },
      "source": [
        "#Making Clusters using sklearn.cluster.Kmeans\n",
        "KMeans(algorithm='auto', copy_x=True, init='k-means++', max_iter=300,\n",
        "    n_clusters=4, n_init=10, n_jobs=None, precompute_distances='auto',\n",
        "    random_state=None, tol=0.0001, verbose=0)"
      ],
      "execution_count": null,
      "outputs": [
        {
          "output_type": "execute_result",
          "data": {
            "text/plain": [
              "KMeans(algorithm='auto', copy_x=True, init='k-means++', max_iter=300,\n",
              "       n_clusters=4, n_init=10, n_jobs=None, precompute_distances='auto',\n",
              "       random_state=None, tol=0.0001, verbose=0)"
            ]
          },
          "metadata": {
            "tags": []
          },
          "execution_count": 11
        }
      ]
    },
    {
      "cell_type": "code",
      "metadata": {
        "id": "_x1OmvjCHlfS",
        "colab_type": "code",
        "colab": {}
      },
      "source": [
        "#Principal component analysis (PCA) is a technique for reducing the dimensionality of such datasets, increasing interpretability, for visualisation.\n",
        "from sklearn.decomposition import PCA\n",
        "kmeans = KMeans(n_clusters=4)\n",
        "kmeans.fit(songs_features)\n",
        "y_kmeans = kmeans.predict(songs_features)\n",
        "pca = PCA(n_components=2)\n",
        "principal_components = pca.fit_transform(songs_features)"
      ],
      "execution_count": null,
      "outputs": []
    },
    {
      "cell_type": "code",
      "metadata": {
        "id": "LgUfU3pIHlfY",
        "colab_type": "code",
        "colab": {
          "base_uri": "https://localhost:8080/",
          "height": 369
        },
        "outputId": "06c5a3e9-1e4f-4b03-c846-96867d97118e"
      },
      "source": [
        "pc = pd.DataFrame(principal_components)\n",
        "pc['label'] = y_kmeans\n",
        "pc.columns = ['x', 'y','label']\n",
        "\n",
        "#Plotting data with seaborn\n",
        "cluster = sns.lmplot(data=pc, x='x', y='y', hue='label', \n",
        "                   fit_reg=False, legend=True, legend_out=True)"
      ],
      "execution_count": null,
      "outputs": [
        {
          "output_type": "display_data",
          "data": {
            "image/png": "[encoded data removed]",
            "text/plain": [
              "<Figure size 402.375x360 with 1 Axes>"
            ]
          },
          "metadata": {
            "tags": [],
            "needs_background": "light"
          }
        }
      ]
    },
    {
      "cell_type": "code",
      "metadata": {
        "id": "jGajxSthHlfd",
        "colab_type": "code",
        "colab": {}
      },
      "source": [
        "#Distributed Stochastic Neighbor Embedding (t-SNE) is a technique for dimensionality reduction that is particularly well suited for the visualization of high-dimensional datasets.\n",
        "from sklearn.manifold import TSNE \n",
        "\n",
        "#T-SNE with two dimensions\n",
        "tsne = TSNE(n_components=2, perplexity=50)\n",
        "\n",
        "tsne_components = tsne.fit_transform(songs_features)"
      ],
      "execution_count": null,
      "outputs": []
    },
    {
      "cell_type": "code",
      "metadata": {
        "id": "Yqysv3cPHlfi",
        "colab_type": "code",
        "colab": {
          "base_uri": "https://localhost:8080/",
          "height": 369
        },
        "outputId": "cc5fb8b8-0bf4-476d-f570-3d131d6f0e1e"
      },
      "source": [
        "ts = pd.DataFrame(tsne_components)\n",
        "ts['label'] = y_kmeans\n",
        "ts.columns = ['x', 'y','label']\n",
        "\n",
        "#plot data with seaborn\n",
        "cluster = sns.lmplot(data=ts, x='x', y='y', hue='label', \n",
        "                   fit_reg=False, legend=True, legend_out=True)"
      ],
      "execution_count": null,
      "outputs": [
        {
          "output_type": "display_data",
          "data": {
            "image/png": "[encoded data removed]",
            "text/plain": [
              "<Figure size 402.375x360 with 1 Axes>"
            ]
          },
          "metadata": {
            "tags": [],
            "needs_background": "light"
          }
        }
      ]
    },
    {
      "cell_type": "code",
      "metadata": {
        "id": "Wf8CvQCqHlfo",
        "colab_type": "code",
        "colab": {
          "base_uri": "https://localhost:8080/",
          "height": 33
        },
        "outputId": "e90f5572-3346-448b-f6e4-f8312014166e"
      },
      "source": [
        "pca.explained_variance_ratio_"
      ],
      "execution_count": null,
      "outputs": [
        {
          "output_type": "execute_result",
          "data": {
            "text/plain": [
              "array([0.73646499, 0.09879449])"
            ]
          },
          "metadata": {
            "tags": []
          },
          "execution_count": 16
        }
      ]
    },
    {
      "cell_type": "markdown",
      "metadata": {
        "id": "wrVZq6SiHlft",
        "colab_type": "text"
      },
      "source": [
        "**The explained variance tells you how much information (variance) can be attributed to each of the principal components.**"
      ]
    },
    {
      "cell_type": "markdown",
      "metadata": {
        "id": "u5weO0NAHlfu",
        "colab_type": "text"
      },
      "source": [
        "# Exploring each of the 4 clusters and see what songs they contain."
      ]
    },
    {
      "cell_type": "code",
      "metadata": {
        "id": "FVQ0wIJTHlfv",
        "colab_type": "code",
        "colab": {
          "base_uri": "https://localhost:8080/",
          "height": 100
        },
        "outputId": "88370a9f-ba0c-41a0-df2f-024788a9641b"
      },
      "source": [
        "songs['label'] = y_kmeans\n",
        "\n",
        "#Shuffling the dataset\n",
        "\n",
        "songs = songs.sample(frac=1)\n",
        "songs['label'].value_counts()"
      ],
      "execution_count": null,
      "outputs": [
        {
          "output_type": "execute_result",
          "data": {
            "text/plain": [
              "0    60\n",
              "3    18\n",
              "2    15\n",
              "1     7\n",
              "Name: label, dtype: int64"
            ]
          },
          "metadata": {
            "tags": []
          },
          "execution_count": 17
        }
      ]
    },
    {
      "cell_type": "markdown",
      "metadata": {
        "id": "QS2VReIJHlf0",
        "colab_type": "text"
      },
      "source": [
        "**Assigning the mood to each cluster at the songs within them and identifying the emotions that I associate with majority of songs in a cluster.**"
      ]
    },
    {
      "cell_type": "code",
      "metadata": {
        "id": "vYk-z780Hlf1",
        "colab_type": "code",
        "colab": {
          "base_uri": "https://localhost:8080/",
          "height": 345
        },
        "outputId": "88187b8d-18fa-49f8-effe-261963d1df3e"
      },
      "source": [
        "#MOOD LABEL: CHILL MOOD\n",
        "songs[songs['label'] == 0].tail(10)"
      ],
      "execution_count": null,
      "outputs": [
        {
          "output_type": "execute_result",
          "data": {
            "text/html": [
              "<div>\n",
              "<style scoped>\n",
              "    .dataframe tbody tr th:only-of-type {\n",
              "        vertical-align: middle;\n",
              "    }\n",
              "\n",
              "    .dataframe tbody tr th {\n",
              "        vertical-align: top;\n",
              "    }\n",
              "\n",
              "    .dataframe thead th {\n",
              "        text-align: right;\n",
              "    }\n",
              "</style>\n",
              "<table border=\"1\" class=\"dataframe\">\n",
              "  <thead>\n",
              "    <tr style=\"text-align: right;\">\n",
              "      <th></th>\n",
              "      <th>name</th>\n",
              "      <th>artist</th>\n",
              "      <th>danceability</th>\n",
              "      <th>acousticness</th>\n",
              "      <th>liveness</th>\n",
              "      <th>loudness</th>\n",
              "      <th>speechiness</th>\n",
              "      <th>label</th>\n",
              "    </tr>\n",
              "  </thead>\n",
              "  <tbody>\n",
              "    <tr>\n",
              "      <th>51</th>\n",
              "      <td>Boyfriend</td>\n",
              "      <td>Justin Bieber</td>\n",
              "      <td>0.717</td>\n",
              "      <td>0.03580</td>\n",
              "      <td>0.1260</td>\n",
              "      <td>0.834031</td>\n",
              "      <td>0.0521</td>\n",
              "      <td>0</td>\n",
              "    </tr>\n",
              "    <tr>\n",
              "      <th>90</th>\n",
              "      <td>Bang Bang</td>\n",
              "      <td>Jessie J</td>\n",
              "      <td>0.707</td>\n",
              "      <td>0.26900</td>\n",
              "      <td>0.3770</td>\n",
              "      <td>0.910954</td>\n",
              "      <td>0.0885</td>\n",
              "      <td>0</td>\n",
              "    </tr>\n",
              "    <tr>\n",
              "      <th>70</th>\n",
              "      <td>Rude</td>\n",
              "      <td>MAGIC!</td>\n",
              "      <td>0.774</td>\n",
              "      <td>0.04230</td>\n",
              "      <td>0.3050</td>\n",
              "      <td>0.882714</td>\n",
              "      <td>0.0389</td>\n",
              "      <td>0</td>\n",
              "    </tr>\n",
              "    <tr>\n",
              "      <th>77</th>\n",
              "      <td>Only You (with Little Mix)</td>\n",
              "      <td>Cheat Codes</td>\n",
              "      <td>0.607</td>\n",
              "      <td>0.08290</td>\n",
              "      <td>0.1050</td>\n",
              "      <td>0.892317</td>\n",
              "      <td>0.1720</td>\n",
              "      <td>0</td>\n",
              "    </tr>\n",
              "    <tr>\n",
              "      <th>53</th>\n",
              "      <td>As Long As You Love Me</td>\n",
              "      <td>Justin Bieber</td>\n",
              "      <td>0.571</td>\n",
              "      <td>0.08110</td>\n",
              "      <td>0.3610</td>\n",
              "      <td>0.959399</td>\n",
              "      <td>0.1000</td>\n",
              "      <td>0</td>\n",
              "    </tr>\n",
              "    <tr>\n",
              "      <th>49</th>\n",
              "      <td>Make You Mine</td>\n",
              "      <td>PUBLIC</td>\n",
              "      <td>0.606</td>\n",
              "      <td>0.01280</td>\n",
              "      <td>0.1500</td>\n",
              "      <td>0.908529</td>\n",
              "      <td>0.0261</td>\n",
              "      <td>0</td>\n",
              "    </tr>\n",
              "    <tr>\n",
              "      <th>19</th>\n",
              "      <td>Something New (feat. Ty Dolla $ign)</td>\n",
              "      <td>Wiz Khalifa</td>\n",
              "      <td>0.814</td>\n",
              "      <td>0.09350</td>\n",
              "      <td>0.0892</td>\n",
              "      <td>0.805981</td>\n",
              "      <td>0.0809</td>\n",
              "      <td>0</td>\n",
              "    </tr>\n",
              "    <tr>\n",
              "      <th>52</th>\n",
              "      <td>Cold Water (feat. Justin Bieber &amp; MØ)</td>\n",
              "      <td>Major Lazer</td>\n",
              "      <td>0.608</td>\n",
              "      <td>0.07360</td>\n",
              "      <td>0.1560</td>\n",
              "      <td>0.878102</td>\n",
              "      <td>0.0432</td>\n",
              "      <td>0</td>\n",
              "    </tr>\n",
              "    <tr>\n",
              "      <th>83</th>\n",
              "      <td>Falling to Pieces</td>\n",
              "      <td>Rita Ora</td>\n",
              "      <td>0.647</td>\n",
              "      <td>0.00966</td>\n",
              "      <td>0.2220</td>\n",
              "      <td>0.841067</td>\n",
              "      <td>0.0278</td>\n",
              "      <td>0</td>\n",
              "    </tr>\n",
              "    <tr>\n",
              "      <th>63</th>\n",
              "      <td>Roar</td>\n",
              "      <td>Katy Perry</td>\n",
              "      <td>0.671</td>\n",
              "      <td>0.00492</td>\n",
              "      <td>0.3540</td>\n",
              "      <td>0.890986</td>\n",
              "      <td>0.0316</td>\n",
              "      <td>0</td>\n",
              "    </tr>\n",
              "  </tbody>\n",
              "</table>\n",
              "</div>"
            ],
            "text/plain": [
              "                                     name         artist  ...  speechiness  label\n",
              "51                              Boyfriend  Justin Bieber  ...       0.0521      0\n",
              "90                              Bang Bang       Jessie J  ...       0.0885      0\n",
              "70                                   Rude         MAGIC!  ...       0.0389      0\n",
              "77             Only You (with Little Mix)    Cheat Codes  ...       0.1720      0\n",
              "53                 As Long As You Love Me  Justin Bieber  ...       0.1000      0\n",
              "49                          Make You Mine         PUBLIC  ...       0.0261      0\n",
              "19    Something New (feat. Ty Dolla $ign)    Wiz Khalifa  ...       0.0809      0\n",
              "52  Cold Water (feat. Justin Bieber & MØ)    Major Lazer  ...       0.0432      0\n",
              "83                      Falling to Pieces       Rita Ora  ...       0.0278      0\n",
              "63                                   Roar     Katy Perry  ...       0.0316      0\n",
              "\n",
              "[10 rows x 8 columns]"
            ]
          },
          "metadata": {
            "tags": []
          },
          "execution_count": 21
        }
      ]
    },
    {
      "cell_type": "code",
      "metadata": {
        "id": "RybeX0wHHlf8",
        "colab_type": "code",
        "colab": {
          "base_uri": "https://localhost:8080/",
          "height": 289
        },
        "outputId": "2686b381-4fc3-474f-a42c-3ef3adef5988"
      },
      "source": [
        "#MOOD LABEL: CHEERFUL MOOD\n",
        "songs[songs['label'] == 1].tail(10)"
      ],
      "execution_count": null,
      "outputs": [
        {
          "output_type": "execute_result",
          "data": {
            "text/html": [
              "<div>\n",
              "<style scoped>\n",
              "    .dataframe tbody tr th:only-of-type {\n",
              "        vertical-align: middle;\n",
              "    }\n",
              "\n",
              "    .dataframe tbody tr th {\n",
              "        vertical-align: top;\n",
              "    }\n",
              "\n",
              "    .dataframe thead th {\n",
              "        text-align: right;\n",
              "    }\n",
              "</style>\n",
              "<table border=\"1\" class=\"dataframe\">\n",
              "  <thead>\n",
              "    <tr style=\"text-align: right;\">\n",
              "      <th></th>\n",
              "      <th>name</th>\n",
              "      <th>artist</th>\n",
              "      <th>danceability</th>\n",
              "      <th>acousticness</th>\n",
              "      <th>liveness</th>\n",
              "      <th>loudness</th>\n",
              "      <th>speechiness</th>\n",
              "      <th>label</th>\n",
              "    </tr>\n",
              "  </thead>\n",
              "  <tbody>\n",
              "    <tr>\n",
              "      <th>46</th>\n",
              "      <td>Kiss the Rain</td>\n",
              "      <td>Yiruma</td>\n",
              "      <td>0.557</td>\n",
              "      <td>0.990</td>\n",
              "      <td>0.1450</td>\n",
              "      <td>0.242702</td>\n",
              "      <td>0.0542</td>\n",
              "      <td>1</td>\n",
              "    </tr>\n",
              "    <tr>\n",
              "      <th>43</th>\n",
              "      <td>River Flows In You</td>\n",
              "      <td>Yiruma</td>\n",
              "      <td>0.314</td>\n",
              "      <td>0.987</td>\n",
              "      <td>0.0802</td>\n",
              "      <td>0.105496</td>\n",
              "      <td>0.0514</td>\n",
              "      <td>1</td>\n",
              "    </tr>\n",
              "    <tr>\n",
              "      <th>8</th>\n",
              "      <td>My Heart Will Go On - Love Theme from \"Titanic\"</td>\n",
              "      <td>James Horner</td>\n",
              "      <td>0.157</td>\n",
              "      <td>0.801</td>\n",
              "      <td>0.1260</td>\n",
              "      <td>0.161928</td>\n",
              "      <td>0.0360</td>\n",
              "      <td>1</td>\n",
              "    </tr>\n",
              "    <tr>\n",
              "      <th>42</th>\n",
              "      <td>Braille</td>\n",
              "      <td>Jan A.P. Kaczmarek</td>\n",
              "      <td>0.183</td>\n",
              "      <td>0.943</td>\n",
              "      <td>0.0931</td>\n",
              "      <td>0.000000</td>\n",
              "      <td>0.0397</td>\n",
              "      <td>1</td>\n",
              "    </tr>\n",
              "    <tr>\n",
              "      <th>45</th>\n",
              "      <td>River Flows in You</td>\n",
              "      <td>Yiruma</td>\n",
              "      <td>0.287</td>\n",
              "      <td>0.968</td>\n",
              "      <td>0.0900</td>\n",
              "      <td>0.203337</td>\n",
              "      <td>0.0541</td>\n",
              "      <td>1</td>\n",
              "    </tr>\n",
              "    <tr>\n",
              "      <th>29</th>\n",
              "      <td>Memories</td>\n",
              "      <td>Ryan L Stewart</td>\n",
              "      <td>0.534</td>\n",
              "      <td>0.969</td>\n",
              "      <td>0.0780</td>\n",
              "      <td>0.342826</td>\n",
              "      <td>0.0353</td>\n",
              "      <td>1</td>\n",
              "    </tr>\n",
              "    <tr>\n",
              "      <th>44</th>\n",
              "      <td>Kiss The Rain</td>\n",
              "      <td>Yiruma</td>\n",
              "      <td>0.559</td>\n",
              "      <td>0.990</td>\n",
              "      <td>0.1170</td>\n",
              "      <td>0.044975</td>\n",
              "      <td>0.0423</td>\n",
              "      <td>1</td>\n",
              "    </tr>\n",
              "  </tbody>\n",
              "</table>\n",
              "</div>"
            ],
            "text/plain": [
              "                                               name  ... label\n",
              "46                                    Kiss the Rain  ...     1\n",
              "43                               River Flows In You  ...     1\n",
              "8   My Heart Will Go On - Love Theme from \"Titanic\"  ...     1\n",
              "42                                          Braille  ...     1\n",
              "45                               River Flows in You  ...     1\n",
              "29                                         Memories  ...     1\n",
              "44                                    Kiss The Rain  ...     1\n",
              "\n",
              "[7 rows x 8 columns]"
            ]
          },
          "metadata": {
            "tags": []
          },
          "execution_count": 22
        }
      ]
    },
    {
      "cell_type": "code",
      "metadata": {
        "id": "ICRm83oOHlgF",
        "colab_type": "code",
        "colab": {
          "base_uri": "https://localhost:8080/",
          "height": 345
        },
        "outputId": "3ca576e4-3359-4f25-eb2c-2fc1d81efe36"
      },
      "source": [
        "#MOOD LABEL: ENERGETIC MOOD\n",
        "songs[songs['label'] == 2].tail(10)"
      ],
      "execution_count": null,
      "outputs": [
        {
          "output_type": "execute_result",
          "data": {
            "text/html": [
              "<div>\n",
              "<style scoped>\n",
              "    .dataframe tbody tr th:only-of-type {\n",
              "        vertical-align: middle;\n",
              "    }\n",
              "\n",
              "    .dataframe tbody tr th {\n",
              "        vertical-align: top;\n",
              "    }\n",
              "\n",
              "    .dataframe thead th {\n",
              "        text-align: right;\n",
              "    }\n",
              "</style>\n",
              "<table border=\"1\" class=\"dataframe\">\n",
              "  <thead>\n",
              "    <tr style=\"text-align: right;\">\n",
              "      <th></th>\n",
              "      <th>name</th>\n",
              "      <th>artist</th>\n",
              "      <th>danceability</th>\n",
              "      <th>acousticness</th>\n",
              "      <th>liveness</th>\n",
              "      <th>loudness</th>\n",
              "      <th>speechiness</th>\n",
              "      <th>label</th>\n",
              "    </tr>\n",
              "  </thead>\n",
              "  <tbody>\n",
              "    <tr>\n",
              "      <th>65</th>\n",
              "      <td>All of Me</td>\n",
              "      <td>John Legend</td>\n",
              "      <td>0.422</td>\n",
              "      <td>0.922</td>\n",
              "      <td>0.1320</td>\n",
              "      <td>0.784349</td>\n",
              "      <td>0.0322</td>\n",
              "      <td>2</td>\n",
              "    </tr>\n",
              "    <tr>\n",
              "      <th>60</th>\n",
              "      <td>iT's YoU</td>\n",
              "      <td>ZAYN</td>\n",
              "      <td>0.611</td>\n",
              "      <td>0.815</td>\n",
              "      <td>0.1080</td>\n",
              "      <td>0.609442</td>\n",
              "      <td>0.0357</td>\n",
              "      <td>2</td>\n",
              "    </tr>\n",
              "    <tr>\n",
              "      <th>6</th>\n",
              "      <td>The Night We Met</td>\n",
              "      <td>Lord Huron</td>\n",
              "      <td>0.443</td>\n",
              "      <td>0.969</td>\n",
              "      <td>0.6380</td>\n",
              "      <td>0.667871</td>\n",
              "      <td>0.0441</td>\n",
              "      <td>2</td>\n",
              "    </tr>\n",
              "    <tr>\n",
              "      <th>4</th>\n",
              "      <td>Song for Zula</td>\n",
              "      <td>Ronnie Fauss</td>\n",
              "      <td>0.506</td>\n",
              "      <td>0.734</td>\n",
              "      <td>0.0737</td>\n",
              "      <td>0.790672</td>\n",
              "      <td>0.0246</td>\n",
              "      <td>2</td>\n",
              "    </tr>\n",
              "    <tr>\n",
              "      <th>0</th>\n",
              "      <td>I Will Always Love You</td>\n",
              "      <td>Whitney Houston</td>\n",
              "      <td>0.306</td>\n",
              "      <td>0.844</td>\n",
              "      <td>0.0839</td>\n",
              "      <td>0.525055</td>\n",
              "      <td>0.0356</td>\n",
              "      <td>2</td>\n",
              "    </tr>\n",
              "    <tr>\n",
              "      <th>76</th>\n",
              "      <td>hate u love u</td>\n",
              "      <td>Olivia O'Brien</td>\n",
              "      <td>0.407</td>\n",
              "      <td>0.656</td>\n",
              "      <td>0.0981</td>\n",
              "      <td>0.696349</td>\n",
              "      <td>0.1740</td>\n",
              "      <td>2</td>\n",
              "    </tr>\n",
              "    <tr>\n",
              "      <th>33</th>\n",
              "      <td>everything i wanted</td>\n",
              "      <td>Billie Eilish</td>\n",
              "      <td>0.704</td>\n",
              "      <td>0.902</td>\n",
              "      <td>0.1060</td>\n",
              "      <td>0.433013</td>\n",
              "      <td>0.0994</td>\n",
              "      <td>2</td>\n",
              "    </tr>\n",
              "    <tr>\n",
              "      <th>48</th>\n",
              "      <td>Memories</td>\n",
              "      <td>Maroon 5</td>\n",
              "      <td>0.764</td>\n",
              "      <td>0.837</td>\n",
              "      <td>0.0822</td>\n",
              "      <td>0.777456</td>\n",
              "      <td>0.0546</td>\n",
              "      <td>2</td>\n",
              "    </tr>\n",
              "    <tr>\n",
              "      <th>35</th>\n",
              "      <td>This Town</td>\n",
              "      <td>Niall Horan</td>\n",
              "      <td>0.677</td>\n",
              "      <td>0.712</td>\n",
              "      <td>0.1160</td>\n",
              "      <td>0.717648</td>\n",
              "      <td>0.0308</td>\n",
              "      <td>2</td>\n",
              "    </tr>\n",
              "    <tr>\n",
              "      <th>87</th>\n",
              "      <td>My Everything</td>\n",
              "      <td>Ariana Grande</td>\n",
              "      <td>0.540</td>\n",
              "      <td>0.880</td>\n",
              "      <td>0.1310</td>\n",
              "      <td>0.867881</td>\n",
              "      <td>0.0297</td>\n",
              "      <td>2</td>\n",
              "    </tr>\n",
              "  </tbody>\n",
              "</table>\n",
              "</div>"
            ],
            "text/plain": [
              "                      name           artist  ...  speechiness  label\n",
              "65               All of Me      John Legend  ...       0.0322      2\n",
              "60                iT's YoU             ZAYN  ...       0.0357      2\n",
              "6         The Night We Met       Lord Huron  ...       0.0441      2\n",
              "4            Song for Zula     Ronnie Fauss  ...       0.0246      2\n",
              "0   I Will Always Love You  Whitney Houston  ...       0.0356      2\n",
              "76           hate u love u   Olivia O'Brien  ...       0.1740      2\n",
              "33     everything i wanted    Billie Eilish  ...       0.0994      2\n",
              "48                Memories         Maroon 5  ...       0.0546      2\n",
              "35               This Town      Niall Horan  ...       0.0308      2\n",
              "87           My Everything    Ariana Grande  ...       0.0297      2\n",
              "\n",
              "[10 rows x 8 columns]"
            ]
          },
          "metadata": {
            "tags": []
          },
          "execution_count": 23
        }
      ]
    },
    {
      "cell_type": "code",
      "metadata": {
        "id": "3W3zwO3lHlgK",
        "colab_type": "code",
        "colab": {
          "base_uri": "https://localhost:8080/",
          "height": 345
        },
        "outputId": "ed3a97a4-a75d-4caa-f932-87f87e12879a"
      },
      "source": [
        "#MOOD LABEL: ROMANTIC MOOD\n",
        "songs[songs['label'] == 3].tail(10)"
      ],
      "execution_count": null,
      "outputs": [
        {
          "output_type": "execute_result",
          "data": {
            "text/html": [
              "<div>\n",
              "<style scoped>\n",
              "    .dataframe tbody tr th:only-of-type {\n",
              "        vertical-align: middle;\n",
              "    }\n",
              "\n",
              "    .dataframe tbody tr th {\n",
              "        vertical-align: top;\n",
              "    }\n",
              "\n",
              "    .dataframe thead th {\n",
              "        text-align: right;\n",
              "    }\n",
              "</style>\n",
              "<table border=\"1\" class=\"dataframe\">\n",
              "  <thead>\n",
              "    <tr style=\"text-align: right;\">\n",
              "      <th></th>\n",
              "      <th>name</th>\n",
              "      <th>artist</th>\n",
              "      <th>danceability</th>\n",
              "      <th>acousticness</th>\n",
              "      <th>liveness</th>\n",
              "      <th>loudness</th>\n",
              "      <th>speechiness</th>\n",
              "      <th>label</th>\n",
              "    </tr>\n",
              "  </thead>\n",
              "  <tbody>\n",
              "    <tr>\n",
              "      <th>61</th>\n",
              "      <td>thank u, next</td>\n",
              "      <td>Ariana Grande</td>\n",
              "      <td>0.717</td>\n",
              "      <td>0.229</td>\n",
              "      <td>0.1010</td>\n",
              "      <td>0.852334</td>\n",
              "      <td>0.0658</td>\n",
              "      <td>3</td>\n",
              "    </tr>\n",
              "    <tr>\n",
              "      <th>79</th>\n",
              "      <td>Eastside (with Halsey &amp; Khalid)</td>\n",
              "      <td>benny blanco</td>\n",
              "      <td>0.560</td>\n",
              "      <td>0.555</td>\n",
              "      <td>0.1160</td>\n",
              "      <td>0.756585</td>\n",
              "      <td>0.3210</td>\n",
              "      <td>3</td>\n",
              "    </tr>\n",
              "    <tr>\n",
              "      <th>47</th>\n",
              "      <td>Say So</td>\n",
              "      <td>Doja Cat</td>\n",
              "      <td>0.787</td>\n",
              "      <td>0.256</td>\n",
              "      <td>0.0904</td>\n",
              "      <td>0.902586</td>\n",
              "      <td>0.1580</td>\n",
              "      <td>3</td>\n",
              "    </tr>\n",
              "    <tr>\n",
              "      <th>74</th>\n",
              "      <td>I Like Me Better</td>\n",
              "      <td>Lauv</td>\n",
              "      <td>0.752</td>\n",
              "      <td>0.535</td>\n",
              "      <td>0.1040</td>\n",
              "      <td>0.757868</td>\n",
              "      <td>0.2530</td>\n",
              "      <td>3</td>\n",
              "    </tr>\n",
              "    <tr>\n",
              "      <th>20</th>\n",
              "      <td>Supalonely</td>\n",
              "      <td>BENEE</td>\n",
              "      <td>0.863</td>\n",
              "      <td>0.305</td>\n",
              "      <td>0.1230</td>\n",
              "      <td>0.897262</td>\n",
              "      <td>0.0534</td>\n",
              "      <td>3</td>\n",
              "    </tr>\n",
              "    <tr>\n",
              "      <th>34</th>\n",
              "      <td>Next To You Part II (feat. Rvssian &amp; Davido)</td>\n",
              "      <td>Becky G</td>\n",
              "      <td>0.674</td>\n",
              "      <td>0.284</td>\n",
              "      <td>0.1520</td>\n",
              "      <td>0.886232</td>\n",
              "      <td>0.0781</td>\n",
              "      <td>3</td>\n",
              "    </tr>\n",
              "    <tr>\n",
              "      <th>72</th>\n",
              "      <td>What Do You Mean?</td>\n",
              "      <td>Justin Bieber</td>\n",
              "      <td>0.845</td>\n",
              "      <td>0.590</td>\n",
              "      <td>0.0811</td>\n",
              "      <td>0.734240</td>\n",
              "      <td>0.0956</td>\n",
              "      <td>3</td>\n",
              "    </tr>\n",
              "    <tr>\n",
              "      <th>66</th>\n",
              "      <td>Without Me</td>\n",
              "      <td>Halsey</td>\n",
              "      <td>0.752</td>\n",
              "      <td>0.297</td>\n",
              "      <td>0.0936</td>\n",
              "      <td>0.785015</td>\n",
              "      <td>0.0705</td>\n",
              "      <td>3</td>\n",
              "    </tr>\n",
              "    <tr>\n",
              "      <th>23</th>\n",
              "      <td>Alone, Pt. II</td>\n",
              "      <td>Alan Walker</td>\n",
              "      <td>0.670</td>\n",
              "      <td>0.536</td>\n",
              "      <td>0.1330</td>\n",
              "      <td>0.915470</td>\n",
              "      <td>0.0422</td>\n",
              "      <td>3</td>\n",
              "    </tr>\n",
              "    <tr>\n",
              "      <th>31</th>\n",
              "      <td>bad guy</td>\n",
              "      <td>Billie Eilish</td>\n",
              "      <td>0.701</td>\n",
              "      <td>0.328</td>\n",
              "      <td>0.1000</td>\n",
              "      <td>0.598888</td>\n",
              "      <td>0.3750</td>\n",
              "      <td>3</td>\n",
              "    </tr>\n",
              "  </tbody>\n",
              "</table>\n",
              "</div>"
            ],
            "text/plain": [
              "                                            name  ... label\n",
              "61                                 thank u, next  ...     3\n",
              "79               Eastside (with Halsey & Khalid)  ...     3\n",
              "47                                        Say So  ...     3\n",
              "74                              I Like Me Better  ...     3\n",
              "20                                    Supalonely  ...     3\n",
              "34  Next To You Part II (feat. Rvssian & Davido)  ...     3\n",
              "72                             What Do You Mean?  ...     3\n",
              "66                                    Without Me  ...     3\n",
              "23                                 Alone, Pt. II  ...     3\n",
              "31                                       bad guy  ...     3\n",
              "\n",
              "[10 rows x 8 columns]"
            ]
          },
          "metadata": {
            "tags": []
          },
          "execution_count": 24
        }
      ]
    },
    {
      "cell_type": "markdown",
      "metadata": {
        "id": "VVdWnGATHlgO",
        "colab_type": "text"
      },
      "source": [
        "**Plotting histogram for each cluster based on their features that we have choosed**"
      ]
    },
    {
      "cell_type": "code",
      "metadata": {
        "id": "NgWd6KZRHlgP",
        "colab_type": "code",
        "colab": {
          "base_uri": "https://localhost:8080/",
          "height": 401
        },
        "outputId": "6d940377-4aea-4bf6-a735-927bd8ca3a2a"
      },
      "source": [
        "songs[songs['label']==0].hist()"
      ],
      "execution_count": null,
      "outputs": [
        {
          "output_type": "execute_result",
          "data": {
            "text/plain": [
              "array([[<matplotlib.axes._subplots.AxesSubplot object at 0x7efc39dfdf98>,\n",
              "        <matplotlib.axes._subplots.AxesSubplot object at 0x7efc39da7f28>],\n",
              "       [<matplotlib.axes._subplots.AxesSubplot object at 0x7efc39d5f5c0>,\n",
              "        <matplotlib.axes._subplots.AxesSubplot object at 0x7efc39d8fc18>],\n",
              "       [<matplotlib.axes._subplots.AxesSubplot object at 0x7efc39d4b2b0>,\n",
              "        <matplotlib.axes._subplots.AxesSubplot object at 0x7efc39cfb908>]],\n",
              "      dtype=object)"
            ]
          },
          "metadata": {
            "tags": []
          },
          "execution_count": 25
        },
        {
          "output_type": "display_data",
          "data": {
            "image/png": "[encoded data removed]",
            "text/plain": [
              "<Figure size 432x288 with 6 Axes>"
            ]
          },
          "metadata": {
            "tags": [],
            "needs_background": "light"
          }
        }
      ]
    },
    {
      "cell_type": "code",
      "metadata": {
        "id": "a4lj-uKBHlgU",
        "colab_type": "code",
        "colab": {
          "base_uri": "https://localhost:8080/",
          "height": 401
        },
        "outputId": "8287df6d-a7c1-4197-d587-34f9fa7c4b57"
      },
      "source": [
        "songs[songs['label']==1].hist()"
      ],
      "execution_count": null,
      "outputs": [
        {
          "output_type": "execute_result",
          "data": {
            "text/plain": [
              "array([[<matplotlib.axes._subplots.AxesSubplot object at 0x7efc3a6d0978>,\n",
              "        <matplotlib.axes._subplots.AxesSubplot object at 0x7efc3a6a9b00>],\n",
              "       [<matplotlib.axes._subplots.AxesSubplot object at 0x7efc3a74d278>,\n",
              "        <matplotlib.axes._subplots.AxesSubplot object at 0x7efc3a76c780>],\n",
              "       [<matplotlib.axes._subplots.AxesSubplot object at 0x7efc39c13438>,\n",
              "        <matplotlib.axes._subplots.AxesSubplot object at 0x7efc39bd1320>]],\n",
              "      dtype=object)"
            ]
          },
          "metadata": {
            "tags": []
          },
          "execution_count": 26
        },
        {
          "output_type": "display_data",
          "data": {
            "image/png": "[encoded data removed]",
            "text/plain": [
              "<Figure size 432x288 with 6 Axes>"
            ]
          },
          "metadata": {
            "tags": [],
            "needs_background": "light"
          }
        }
      ]
    },
    {
      "cell_type": "code",
      "metadata": {
        "id": "WdHvG32MHlgZ",
        "colab_type": "code",
        "colab": {
          "base_uri": "https://localhost:8080/",
          "height": 401
        },
        "outputId": "c37ca4f5-2168-46c0-9052-244253972bf5"
      },
      "source": [
        "songs[songs['label']==2].hist()"
      ],
      "execution_count": null,
      "outputs": [
        {
          "output_type": "execute_result",
          "data": {
            "text/plain": [
              "array([[<matplotlib.axes._subplots.AxesSubplot object at 0x7efc39a930f0>,\n",
              "        <matplotlib.axes._subplots.AxesSubplot object at 0x7efc39a39240>],\n",
              "       [<matplotlib.axes._subplots.AxesSubplot object at 0x7efc399e0898>,\n",
              "        <matplotlib.axes._subplots.AxesSubplot object at 0x7efc39a12ef0>],\n",
              "       [<matplotlib.axes._subplots.AxesSubplot object at 0x7efc399d0588>,\n",
              "        <matplotlib.axes._subplots.AxesSubplot object at 0x7efc3997fbe0>]],\n",
              "      dtype=object)"
            ]
          },
          "metadata": {
            "tags": []
          },
          "execution_count": 27
        },
        {
          "output_type": "display_data",
          "data": {
            "image/png": "[encoded data removed]",
            "text/plain": [
              "<Figure size 432x288 with 6 Axes>"
            ]
          },
          "metadata": {
            "tags": [],
            "needs_background": "light"
          }
        }
      ]
    },
    {
      "cell_type": "code",
      "metadata": {
        "id": "X2c0Z3zdHlge",
        "colab_type": "code",
        "colab": {
          "base_uri": "https://localhost:8080/",
          "height": 401
        },
        "outputId": "ffea6071-2fba-4dc5-d32d-f0d3958496c9"
      },
      "source": [
        "songs[songs['label']==3].hist()"
      ],
      "execution_count": null,
      "outputs": [
        {
          "output_type": "execute_result",
          "data": {
            "text/plain": [
              "array([[<matplotlib.axes._subplots.AxesSubplot object at 0x7efc398fcda0>,\n",
              "        <matplotlib.axes._subplots.AxesSubplot object at 0x7efc3989ab38>],\n",
              "       [<matplotlib.axes._subplots.AxesSubplot object at 0x7efc39811198>,\n",
              "        <matplotlib.axes._subplots.AxesSubplot object at 0x7efc397bd908>],\n",
              "       [<matplotlib.axes._subplots.AxesSubplot object at 0x7efc3977b0b8>,\n",
              "        <matplotlib.axes._subplots.AxesSubplot object at 0x7efc39729828>]],\n",
              "      dtype=object)"
            ]
          },
          "metadata": {
            "tags": []
          },
          "execution_count": 28
        },
        {
          "output_type": "display_data",
          "data": {
            "image/png": "[encoded data removed]",
            "text/plain": [
              "<Figure size 432x288 with 6 Axes>"
            ]
          },
          "metadata": {
            "tags": [],
            "needs_background": "light"
          }
        }
      ]
    },
    {
      "cell_type": "markdown",
      "metadata": {
        "id": "yus9il-6Hlgl",
        "colab_type": "text"
      },
      "source": [
        "# Using Classifier's: Random Forest, Knn, SVM And MLP Classifier."
      ]
    },
    {
      "cell_type": "markdown",
      "metadata": {
        "id": "FHwYnqLlHlgm",
        "colab_type": "text"
      },
      "source": [
        "*Classifier will handle the missing values and maintain the accuracy of a large proportion of data.*"
      ]
    },
    {
      "cell_type": "code",
      "metadata": {
        "id": "iWqS_8c6Hlgo",
        "colab_type": "code",
        "colab": {
          "base_uri": "https://localhost:8080/",
          "height": 150
        },
        "outputId": "5d60bedd-1635-48f7-89b2-5c582835a3b1"
      },
      "source": [
        "from sklearn.ensemble import RandomForestClassifier\n",
        "from sklearn.model_selection import train_test_split\n",
        "from sklearn.model_selection import cross_val_score\n",
        "from sklearn.metrics import classification_report, confusion_matrix\n",
        "from sklearn.utils.multiclass import unique_labels\n",
        "\n",
        "X = songs_features\n",
        "y = y_kmeans\n",
        "\n",
        "#Splitting Dataset into Training Set and Test Set.\n",
        "X_train, X_test, y_train, y_test = train_test_split(X, y, test_size=0.33)\n",
        "\n",
        "rfc = RandomForestClassifier(n_estimators=100,criterion='gini')\n",
        "rfc.fit(X_train,y_train)"
      ],
      "execution_count": null,
      "outputs": [
        {
          "output_type": "execute_result",
          "data": {
            "text/plain": [
              "RandomForestClassifier(bootstrap=True, ccp_alpha=0.0, class_weight=None,\n",
              "                       criterion='gini', max_depth=None, max_features='auto',\n",
              "                       max_leaf_nodes=None, max_samples=None,\n",
              "                       min_impurity_decrease=0.0, min_impurity_split=None,\n",
              "                       min_samples_leaf=1, min_samples_split=2,\n",
              "                       min_weight_fraction_leaf=0.0, n_estimators=100,\n",
              "                       n_jobs=None, oob_score=False, random_state=None,\n",
              "                       verbose=0, warm_start=False)"
            ]
          },
          "metadata": {
            "tags": []
          },
          "execution_count": 29
        }
      ]
    },
    {
      "cell_type": "code",
      "metadata": {
        "id": "Qd7EgP1LHlgt",
        "colab_type": "code",
        "colab": {
          "base_uri": "https://localhost:8080/",
          "height": 50
        },
        "outputId": "e846b1a4-c39d-472b-a9ee-60393c91fa9f"
      },
      "source": [
        "# Predicting the Test set results\n",
        "y_pred = rfc.predict(X_test)\n",
        "y_pred"
      ],
      "execution_count": null,
      "outputs": [
        {
          "output_type": "execute_result",
          "data": {
            "text/plain": [
              "array([3, 0, 3, 3, 0, 1, 2, 0, 0, 1, 0, 1, 0, 3, 3, 3, 0, 0, 2, 0, 0, 2,\n",
              "       0, 0, 0, 0, 0, 0, 3, 2, 3, 0, 3], dtype=int32)"
            ]
          },
          "metadata": {
            "tags": []
          },
          "execution_count": 30
        }
      ]
    },
    {
      "cell_type": "markdown",
      "metadata": {
        "id": "DaZndabnHlgy",
        "colab_type": "text"
      },
      "source": [
        "*Confusion matrix: A confusion matrix is a table that is often used to describe the performance of a classification model or “classifier”) on a set of test data for which the true values are known*"
      ]
    },
    {
      "cell_type": "code",
      "metadata": {
        "id": "MCbFiTf2Hlgz",
        "colab_type": "code",
        "colab": {}
      },
      "source": [
        "\n",
        "def plot_confusion_matrix(y_true, y_pred, classes,normalize=False,title=None,cmap=plt.cm.PuRd):\n",
        "    if not title:\n",
        "        if normalize:\n",
        "            title = 'Normalized confusion matrix'\n",
        "        else:\n",
        "            title = 'Confusion matrix'\n",
        "    #Computing confusion matrix\n",
        "    cm = confusion_matrix(y_true, y_pred)\n",
        "    if normalize:\n",
        "        cm = cm.astype('float') / cm.sum(axis=1)[:, np.newaxis]\n",
        "        print(\"Normalized confusion matrix\")\n",
        "    else:\n",
        "        print('Confusion matrix, without normalization')\n",
        "    print(cm)\n",
        "    fig, ax = plt.subplots()\n",
        "    im = ax.imshow(cm, interpolation='nearest', cmap=cmap)\n",
        "    ax.figure.colorbar(im, ax=ax)\n",
        "    ax.set(xticks=np.arange(cm.shape[1]),\n",
        "           yticks=np.arange(cm.shape[0]),\n",
        "           # ... and label them with the respective list entries\n",
        "           xticklabels=classes, yticklabels=classes,\n",
        "           title=title,\n",
        "           ylabel='True',\n",
        "           xlabel='Predicted')\n",
        "    \n",
        "    #Rotating the tick labels and set their alignment.\n",
        "    plt.setp(ax.get_xticklabels(), rotation=45, ha=\"right\",rotation_mode=\"anchor\")\n",
        "\n",
        "    #Loop over data dimensions and create text annotations.\n",
        "    fmt = '.2f' if normalize else 'd'\n",
        "    thresh = cm.max() / 2.\n",
        "    for i in range(cm.shape[0]):\n",
        "        for j in range(cm.shape[1]):\n",
        "            ax.text(j, i, format(cm[i, j], fmt),\n",
        "                    ha=\"center\", va=\"center\",\n",
        "                    color=\"white\" if cm[i, j] > thresh else \"black\")\n",
        "    fig.tight_layout()\n",
        "    return ax"
      ],
      "execution_count": null,
      "outputs": []
    },
    {
      "cell_type": "code",
      "metadata": {
        "id": "_WoGpuCmHlg3",
        "colab_type": "code",
        "colab": {
          "base_uri": "https://localhost:8080/",
          "height": 397
        },
        "outputId": "a2b90dd1-82b1-448a-db4c-f9474c9a7ae0"
      },
      "source": [
        "definitions = ['Chill','Energetic','Cheerful','Romantic']\n",
        "plot_confusion_matrix(y_test, y_pred, classes=definitions,title='Confusion matrix for Random Forest Classifier')"
      ],
      "execution_count": null,
      "outputs": [
        {
          "output_type": "stream",
          "text": [
            "Confusion matrix, without normalization\n",
            "[[17  0  0  2]\n",
            " [ 0  3  1  0]\n",
            " [ 0  0  3  0]\n",
            " [ 0  0  0  7]]\n"
          ],
          "name": "stdout"
        },
        {
          "output_type": "execute_result",
          "data": {
            "text/plain": [
              "<matplotlib.axes._subplots.AxesSubplot at 0x7efc395e6fd0>"
            ]
          },
          "metadata": {
            "tags": []
          },
          "execution_count": 32
        },
        {
          "output_type": "display_data",
          "data": {
            "image/png": "[encoded data removed]",
            "text/plain": [
              "<Figure size 432x288 with 2 Axes>"
            ]
          },
          "metadata": {
            "tags": [],
            "needs_background": "light"
          }
        }
      ]
    },
    {
      "cell_type": "code",
      "metadata": {
        "id": "KVr6e-znHlg-",
        "colab_type": "code",
        "colab": {
          "base_uri": "https://localhost:8080/",
          "height": 100
        },
        "outputId": "7d21525b-6207-41ca-ca88-c5b382df849f"
      },
      "source": [
        "# View a list of the features and their importance scores\n",
        "features = songs_features.columns\n",
        "list(zip(songs_features[features], rfc.feature_importances_))"
      ],
      "execution_count": null,
      "outputs": [
        {
          "output_type": "execute_result",
          "data": {
            "text/plain": [
              "[('danceability', 0.13124844100305819),\n",
              " ('acousticness', 0.4968245911088619),\n",
              " ('liveness', 0.08315724965782333),\n",
              " ('loudness', 0.1615070135519443),\n",
              " ('speechiness', 0.12726270467831224)]"
            ]
          },
          "metadata": {
            "tags": []
          },
          "execution_count": 33
        }
      ]
    },
    {
      "cell_type": "code",
      "metadata": {
        "id": "_OfFa5avHlhJ",
        "colab_type": "code",
        "colab": {}
      },
      "source": [
        "#Import Knn model\n",
        "from sklearn.neighbors import KNeighborsClassifier\n",
        "\n",
        "#Create a KNN Classifier\n",
        "knn = KNeighborsClassifier(n_neighbors=3)\n",
        "\n",
        "# Train the model using the training sets\n",
        "knn.fit(X_train,y_train)\n",
        "\n",
        "#Predict the response for test dataset\n",
        "knn_pred =knn.predict(X_test)"
      ],
      "execution_count": null,
      "outputs": []
    },
    {
      "cell_type": "code",
      "metadata": {
        "id": "vbGz5AP1HlhR",
        "colab_type": "code",
        "colab": {
          "base_uri": "https://localhost:8080/",
          "height": 397
        },
        "outputId": "5941f46b-27a4-4b67-f774-7d8ff47da5a2"
      },
      "source": [
        "plot_confusion_matrix(y_test, knn_pred, classes=definitions,title='Confusion matrix for KNN Classifier')"
      ],
      "execution_count": null,
      "outputs": [
        {
          "output_type": "stream",
          "text": [
            "Confusion matrix, without normalization\n",
            "[[17  0  0  2]\n",
            " [ 0  3  1  0]\n",
            " [ 0  0  3  0]\n",
            " [ 0  0  0  7]]\n"
          ],
          "name": "stdout"
        },
        {
          "output_type": "execute_result",
          "data": {
            "text/plain": [
              "<matplotlib.axes._subplots.AxesSubplot at 0x7efc39228588>"
            ]
          },
          "metadata": {
            "tags": []
          },
          "execution_count": 35
        },
        {
          "output_type": "display_data",
          "data": {
            "image/png": "[encoded data removed]",
            "text/plain": [
              "<Figure size 432x288 with 2 Axes>"
            ]
          },
          "metadata": {
            "tags": [],
            "needs_background": "light"
          }
        }
      ]
    },
    {
      "cell_type": "code",
      "metadata": {
        "id": "ZEJFTaFJHlhV",
        "colab_type": "code",
        "colab": {}
      },
      "source": [
        "#Import SVM model\n",
        "from sklearn import svm\n",
        "\n",
        "#Create a SVM Classifier\n",
        "svm = svm.SVC(kernel=\"linear\") \n",
        "\n",
        "#Train the model using the training sets\n",
        "svm.fit(X_train, y_train)\n",
        "\n",
        "#Predict the response for test dataset\n",
        "svm_pred = svm.predict(X_test)"
      ],
      "execution_count": null,
      "outputs": []
    },
    {
      "cell_type": "code",
      "metadata": {
        "id": "HD6nz6rzHlha",
        "colab_type": "code",
        "colab": {
          "base_uri": "https://localhost:8080/",
          "height": 397
        },
        "outputId": "2fd6b487-ec09-4fa1-8cc7-b5f5a956e75f"
      },
      "source": [
        "plot_confusion_matrix(y_test, svm_pred, classes=definitions,title='Confusion matrix for SVM')"
      ],
      "execution_count": null,
      "outputs": [
        {
          "output_type": "stream",
          "text": [
            "Confusion matrix, without normalization\n",
            "[[19  0  0  0]\n",
            " [ 0  0  4  0]\n",
            " [ 0  0  3  0]\n",
            " [ 6  0  1  0]]\n"
          ],
          "name": "stdout"
        },
        {
          "output_type": "execute_result",
          "data": {
            "text/plain": [
              "<matplotlib.axes._subplots.AxesSubplot at 0x7efc391dee80>"
            ]
          },
          "metadata": {
            "tags": []
          },
          "execution_count": 37
        },
        {
          "output_type": "display_data",
          "data": {
            "image/png": "[encoded data removed]",
            "text/plain": [
              "<Figure size 432x288 with 2 Axes>"
            ]
          },
          "metadata": {
            "tags": [],
            "needs_background": "light"
          }
        }
      ]
    },
    {
      "cell_type": "code",
      "metadata": {
        "id": "Cny4qGVzHlhf",
        "colab_type": "code",
        "colab": {
          "base_uri": "https://localhost:8080/",
          "height": 70
        },
        "outputId": "bd601530-3c56-49c6-aa2e-3c9cadd1ad54"
      },
      "source": [
        "#Import MLP model\n",
        "from sklearn.neural_network import MLPClassifier\n",
        "\n",
        "#Create a MLP Classifier\n",
        "mlp = MLPClassifier()\n",
        "\n",
        "#Train the model using the training sets\n",
        "mlp.fit(X_train, y_train)\n",
        "\n",
        "#Predict the response for test dataset\n",
        "mlp_pred = mlp.predict(X_test)"
      ],
      "execution_count": null,
      "outputs": [
        {
          "output_type": "stream",
          "text": [
            "/usr/local/lib/python3.6/dist-packages/sklearn/neural_network/_multilayer_perceptron.py:571: ConvergenceWarning: Stochastic Optimizer: Maximum iterations (200) reached and the optimization hasn't converged yet.\n",
            "  % self.max_iter, ConvergenceWarning)\n"
          ],
          "name": "stderr"
        }
      ]
    },
    {
      "cell_type": "code",
      "metadata": {
        "id": "xtg5Gz8DHlhm",
        "colab_type": "code",
        "colab": {
          "base_uri": "https://localhost:8080/",
          "height": 397
        },
        "outputId": "3ca80c2b-6962-427c-9c3a-af499ec037ec"
      },
      "source": [
        "plot_confusion_matrix(y_test, mlp_pred, classes=definitions,title='Confusion matrix for MLP')"
      ],
      "execution_count": null,
      "outputs": [
        {
          "output_type": "stream",
          "text": [
            "Confusion matrix, without normalization\n",
            "[[19  0  0  0]\n",
            " [ 0  0  4  0]\n",
            " [ 0  0  3  0]\n",
            " [ 4  0  0  3]]\n"
          ],
          "name": "stdout"
        },
        {
          "output_type": "execute_result",
          "data": {
            "text/plain": [
              "<matplotlib.axes._subplots.AxesSubplot at 0x7efc391ca978>"
            ]
          },
          "metadata": {
            "tags": []
          },
          "execution_count": 39
        },
        {
          "output_type": "display_data",
          "data": {
            "image/png": "[encoded data removed]",
            "text/plain": [
              "<Figure size 432x288 with 2 Axes>"
            ]
          },
          "metadata": {
            "tags": [],
            "needs_background": "light"
          }
        }
      ]
    },
    {
      "cell_type": "code",
      "metadata": {
        "id": "_vTrf1wKHlht",
        "colab_type": "code",
        "colab": {
          "base_uri": "https://localhost:8080/",
          "height": 254
        },
        "outputId": "d9723af3-ba1b-4fec-b090-f9f304a6aecf"
      },
      "source": [
        "print(classification_report(y_test,mlp_pred,target_names=definitions)+'MLP')"
      ],
      "execution_count": null,
      "outputs": [
        {
          "output_type": "stream",
          "text": [
            "              precision    recall  f1-score   support\n",
            "\n",
            "       Chill       0.83      1.00      0.90        19\n",
            "   Energetic       0.00      0.00      0.00         4\n",
            "    Cheerful       0.43      1.00      0.60         3\n",
            "    Romantic       1.00      0.43      0.60         7\n",
            "\n",
            "    accuracy                           0.76        33\n",
            "   macro avg       0.56      0.61      0.53        33\n",
            "weighted avg       0.73      0.76      0.70        33\n",
            "MLP\n"
          ],
          "name": "stdout"
        },
        {
          "output_type": "stream",
          "text": [
            "/usr/local/lib/python3.6/dist-packages/sklearn/metrics/_classification.py:1272: UndefinedMetricWarning: Precision and F-score are ill-defined and being set to 0.0 in labels with no predicted samples. Use `zero_division` parameter to control this behavior.\n",
            "  _warn_prf(average, modifier, msg_start, len(result))\n"
          ],
          "name": "stderr"
        }
      ]
    },
    {
      "cell_type": "code",
      "metadata": {
        "id": "6jPqu8_vHlhx",
        "colab_type": "code",
        "colab": {
          "base_uri": "https://localhost:8080/",
          "height": 254
        },
        "outputId": "3289477a-9d05-4e4c-8cd6-1f447815bb90"
      },
      "source": [
        "print(classification_report(y_test,svm_pred,target_names=definitions)+'SVM')"
      ],
      "execution_count": null,
      "outputs": [
        {
          "output_type": "stream",
          "text": [
            "              precision    recall  f1-score   support\n",
            "\n",
            "       Chill       0.76      1.00      0.86        19\n",
            "   Energetic       0.00      0.00      0.00         4\n",
            "    Cheerful       0.38      1.00      0.55         3\n",
            "    Romantic       0.00      0.00      0.00         7\n",
            "\n",
            "    accuracy                           0.67        33\n",
            "   macro avg       0.28      0.50      0.35        33\n",
            "weighted avg       0.47      0.67      0.55        33\n",
            "SVM\n"
          ],
          "name": "stdout"
        },
        {
          "output_type": "stream",
          "text": [
            "/usr/local/lib/python3.6/dist-packages/sklearn/metrics/_classification.py:1272: UndefinedMetricWarning: Precision and F-score are ill-defined and being set to 0.0 in labels with no predicted samples. Use `zero_division` parameter to control this behavior.\n",
            "  _warn_prf(average, modifier, msg_start, len(result))\n"
          ],
          "name": "stderr"
        }
      ]
    },
    {
      "cell_type": "code",
      "metadata": {
        "id": "eDMN6_JhHlh1",
        "colab_type": "code",
        "colab": {
          "base_uri": "https://localhost:8080/",
          "height": 201
        },
        "outputId": "d21c196b-022e-4c99-ec7b-496a992422c8"
      },
      "source": [
        "print(classification_report(y_test,knn_pred,target_names=definitions)+'KNN')"
      ],
      "execution_count": null,
      "outputs": [
        {
          "output_type": "stream",
          "text": [
            "              precision    recall  f1-score   support\n",
            "\n",
            "       Chill       1.00      0.89      0.94        19\n",
            "   Energetic       1.00      0.75      0.86         4\n",
            "    Cheerful       0.75      1.00      0.86         3\n",
            "    Romantic       0.78      1.00      0.88         7\n",
            "\n",
            "    accuracy                           0.91        33\n",
            "   macro avg       0.88      0.91      0.88        33\n",
            "weighted avg       0.93      0.91      0.91        33\n",
            "KNN\n"
          ],
          "name": "stdout"
        }
      ]
    },
    {
      "cell_type": "code",
      "metadata": {
        "id": "plQp_5zVHlh7",
        "colab_type": "code",
        "colab": {
          "base_uri": "https://localhost:8080/",
          "height": 201
        },
        "outputId": "94f94d65-fa50-4fb6-d8b1-58a6a59ad733"
      },
      "source": [
        "print(classification_report(y_test,y_pred,target_names=definitions)+'RF')"
      ],
      "execution_count": null,
      "outputs": [
        {
          "output_type": "stream",
          "text": [
            "              precision    recall  f1-score   support\n",
            "\n",
            "       Chill       1.00      0.89      0.94        19\n",
            "   Energetic       1.00      0.75      0.86         4\n",
            "    Cheerful       0.75      1.00      0.86         3\n",
            "    Romantic       0.78      1.00      0.88         7\n",
            "\n",
            "    accuracy                           0.91        33\n",
            "   macro avg       0.88      0.91      0.88        33\n",
            "weighted avg       0.93      0.91      0.91        33\n",
            "RF\n"
          ],
          "name": "stdout"
        }
      ]
    }
  ]
}