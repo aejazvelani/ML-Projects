{
  "nbformat": 4,
  "nbformat_minor": 0,
  "metadata": {
    "kernelspec": {
      "display_name": "Python 3",
      "language": "python",
      "name": "python3"
    },
    "language_info": {
      "codemirror_mode": {
        "name": "ipython",
        "version": 3
      },
      "file_extension": ".py",
      "mimetype": "text/x-python",
      "name": "python",
      "nbconvert_exporter": "python",
      "pygments_lexer": "ipython3",
      "version": "3.8.1"
    },
    "colab": {
      "name": "Flower_prediction.ipynb",
      "provenance": [],
      "toc_visible": true
    }
  },
  "cells": [
    {
      "cell_type": "markdown",
      "metadata": {
        "id": "17caBtdfOfsf",
        "colab_type": "text"
      },
      "source": [
        "# Machine Learning Project- Iris Flower Classification"
      ]
    },
    {
      "cell_type": "code",
      "metadata": {
        "id": "tcbN-YDcOfsh",
        "colab_type": "code",
        "colab": {
          "base_uri": "https://localhost:8080/",
          "height": 70
        },
        "outputId": "e5aeb668-23a1-4dcf-cf73-43d1d96402ca"
      },
      "source": [
        "import numpy as np\n",
        "import seaborn as sns\n",
        "import pandas as pd\n",
        "from pandas import Series,DataFrame\n",
        "import matplotlib.pyplot as plt\n",
        "%matplotlib inline"
      ],
      "execution_count": 1,
      "outputs": [
        {
          "output_type": "stream",
          "text": [
            "/usr/local/lib/python3.6/dist-packages/statsmodels/tools/_testing.py:19: FutureWarning: pandas.util.testing is deprecated. Use the functions in the public API at pandas.testing instead.\n",
            "  import pandas.util.testing as tm\n"
          ],
          "name": "stderr"
        }
      ]
    },
    {
      "cell_type": "markdown",
      "metadata": {
        "id": "ha0L6kvEOfsr",
        "colab_type": "text"
      },
      "source": [
        "# Reading Data"
      ]
    },
    {
      "cell_type": "code",
      "metadata": {
        "id": "mYnnOWD3Ofss",
        "colab_type": "code",
        "colab": {}
      },
      "source": [
        "iris = pd.read_csv('Iris.csv')"
      ],
      "execution_count": 2,
      "outputs": []
    },
    {
      "cell_type": "code",
      "metadata": {
        "id": "jZZcwZ1eOfsz",
        "colab_type": "code",
        "colab": {
          "base_uri": "https://localhost:8080/",
          "height": 196
        },
        "outputId": "ed6b98d3-9301-4e64-e0b5-880372e25a1d"
      },
      "source": [
        "iris.head()"
      ],
      "execution_count": 3,
      "outputs": [
        {
          "output_type": "execute_result",
          "data": {
            "text/html": [
              "<div>\n",
              "<style scoped>\n",
              "    .dataframe tbody tr th:only-of-type {\n",
              "        vertical-align: middle;\n",
              "    }\n",
              "\n",
              "    .dataframe tbody tr th {\n",
              "        vertical-align: top;\n",
              "    }\n",
              "\n",
              "    .dataframe thead th {\n",
              "        text-align: right;\n",
              "    }\n",
              "</style>\n",
              "<table border=\"1\" class=\"dataframe\">\n",
              "  <thead>\n",
              "    <tr style=\"text-align: right;\">\n",
              "      <th></th>\n",
              "      <th>Id</th>\n",
              "      <th>SepalLengthCm</th>\n",
              "      <th>SepalWidthCm</th>\n",
              "      <th>PetalLengthCm</th>\n",
              "      <th>PetalWidthCm</th>\n",
              "      <th>Species</th>\n",
              "    </tr>\n",
              "  </thead>\n",
              "  <tbody>\n",
              "    <tr>\n",
              "      <th>0</th>\n",
              "      <td>1</td>\n",
              "      <td>5.1</td>\n",
              "      <td>3.5</td>\n",
              "      <td>1.4</td>\n",
              "      <td>0.2</td>\n",
              "      <td>Iris-setosa</td>\n",
              "    </tr>\n",
              "    <tr>\n",
              "      <th>1</th>\n",
              "      <td>2</td>\n",
              "      <td>4.9</td>\n",
              "      <td>3.0</td>\n",
              "      <td>1.4</td>\n",
              "      <td>0.2</td>\n",
              "      <td>Iris-setosa</td>\n",
              "    </tr>\n",
              "    <tr>\n",
              "      <th>2</th>\n",
              "      <td>3</td>\n",
              "      <td>4.7</td>\n",
              "      <td>3.2</td>\n",
              "      <td>1.3</td>\n",
              "      <td>0.2</td>\n",
              "      <td>Iris-setosa</td>\n",
              "    </tr>\n",
              "    <tr>\n",
              "      <th>3</th>\n",
              "      <td>4</td>\n",
              "      <td>4.6</td>\n",
              "      <td>3.1</td>\n",
              "      <td>1.5</td>\n",
              "      <td>0.2</td>\n",
              "      <td>Iris-setosa</td>\n",
              "    </tr>\n",
              "    <tr>\n",
              "      <th>4</th>\n",
              "      <td>5</td>\n",
              "      <td>5.0</td>\n",
              "      <td>3.6</td>\n",
              "      <td>1.4</td>\n",
              "      <td>0.2</td>\n",
              "      <td>Iris-setosa</td>\n",
              "    </tr>\n",
              "  </tbody>\n",
              "</table>\n",
              "</div>"
            ],
            "text/plain": [
              "   Id  SepalLengthCm  SepalWidthCm  PetalLengthCm  PetalWidthCm      Species\n",
              "0   1            5.1           3.5            1.4           0.2  Iris-setosa\n",
              "1   2            4.9           3.0            1.4           0.2  Iris-setosa\n",
              "2   3            4.7           3.2            1.3           0.2  Iris-setosa\n",
              "3   4            4.6           3.1            1.5           0.2  Iris-setosa\n",
              "4   5            5.0           3.6            1.4           0.2  Iris-setosa"
            ]
          },
          "metadata": {
            "tags": []
          },
          "execution_count": 3
        }
      ]
    },
    {
      "cell_type": "code",
      "metadata": {
        "id": "UTi1WAsaOfs7",
        "colab_type": "code",
        "colab": {
          "base_uri": "https://localhost:8080/",
          "height": 33
        },
        "outputId": "415f3c6e-b94b-4686-c251-a7000dee4897"
      },
      "source": [
        "iris.shape"
      ],
      "execution_count": 4,
      "outputs": [
        {
          "output_type": "execute_result",
          "data": {
            "text/plain": [
              "(150, 6)"
            ]
          },
          "metadata": {
            "tags": []
          },
          "execution_count": 4
        }
      ]
    },
    {
      "cell_type": "code",
      "metadata": {
        "id": "3nTuKR8SOftC",
        "colab_type": "code",
        "colab": {
          "base_uri": "https://localhost:8080/",
          "height": 251
        },
        "outputId": "21af7cfa-99f6-4b40-b3e0-d97cdfd7de65"
      },
      "source": [
        "iris.info"
      ],
      "execution_count": 5,
      "outputs": [
        {
          "output_type": "execute_result",
          "data": {
            "text/plain": [
              "<bound method DataFrame.info of       Id  SepalLengthCm  ...  PetalWidthCm         Species\n",
              "0      1            5.1  ...           0.2     Iris-setosa\n",
              "1      2            4.9  ...           0.2     Iris-setosa\n",
              "2      3            4.7  ...           0.2     Iris-setosa\n",
              "3      4            4.6  ...           0.2     Iris-setosa\n",
              "4      5            5.0  ...           0.2     Iris-setosa\n",
              "..   ...            ...  ...           ...             ...\n",
              "145  146            6.7  ...           2.3  Iris-virginica\n",
              "146  147            6.3  ...           1.9  Iris-virginica\n",
              "147  148            6.5  ...           2.0  Iris-virginica\n",
              "148  149            6.2  ...           2.3  Iris-virginica\n",
              "149  150            5.9  ...           1.8  Iris-virginica\n",
              "\n",
              "[150 rows x 6 columns]>"
            ]
          },
          "metadata": {
            "tags": []
          },
          "execution_count": 5
        }
      ]
    },
    {
      "cell_type": "markdown",
      "metadata": {
        "id": "Vbm7Q51xOftI",
        "colab_type": "text"
      },
      "source": [
        "# Removing ID column"
      ]
    },
    {
      "cell_type": "code",
      "metadata": {
        "id": "H6EoGbjeOftJ",
        "colab_type": "code",
        "colab": {
          "base_uri": "https://localhost:8080/",
          "height": 404
        },
        "outputId": "cc97ffe6-c78d-4f39-ff07-841a123a878e"
      },
      "source": [
        "iris.drop('Id',axis=1)"
      ],
      "execution_count": 6,
      "outputs": [
        {
          "output_type": "execute_result",
          "data": {
            "text/html": [
              "<div>\n",
              "<style scoped>\n",
              "    .dataframe tbody tr th:only-of-type {\n",
              "        vertical-align: middle;\n",
              "    }\n",
              "\n",
              "    .dataframe tbody tr th {\n",
              "        vertical-align: top;\n",
              "    }\n",
              "\n",
              "    .dataframe thead th {\n",
              "        text-align: right;\n",
              "    }\n",
              "</style>\n",
              "<table border=\"1\" class=\"dataframe\">\n",
              "  <thead>\n",
              "    <tr style=\"text-align: right;\">\n",
              "      <th></th>\n",
              "      <th>SepalLengthCm</th>\n",
              "      <th>SepalWidthCm</th>\n",
              "      <th>PetalLengthCm</th>\n",
              "      <th>PetalWidthCm</th>\n",
              "      <th>Species</th>\n",
              "    </tr>\n",
              "  </thead>\n",
              "  <tbody>\n",
              "    <tr>\n",
              "      <th>0</th>\n",
              "      <td>5.1</td>\n",
              "      <td>3.5</td>\n",
              "      <td>1.4</td>\n",
              "      <td>0.2</td>\n",
              "      <td>Iris-setosa</td>\n",
              "    </tr>\n",
              "    <tr>\n",
              "      <th>1</th>\n",
              "      <td>4.9</td>\n",
              "      <td>3.0</td>\n",
              "      <td>1.4</td>\n",
              "      <td>0.2</td>\n",
              "      <td>Iris-setosa</td>\n",
              "    </tr>\n",
              "    <tr>\n",
              "      <th>2</th>\n",
              "      <td>4.7</td>\n",
              "      <td>3.2</td>\n",
              "      <td>1.3</td>\n",
              "      <td>0.2</td>\n",
              "      <td>Iris-setosa</td>\n",
              "    </tr>\n",
              "    <tr>\n",
              "      <th>3</th>\n",
              "      <td>4.6</td>\n",
              "      <td>3.1</td>\n",
              "      <td>1.5</td>\n",
              "      <td>0.2</td>\n",
              "      <td>Iris-setosa</td>\n",
              "    </tr>\n",
              "    <tr>\n",
              "      <th>4</th>\n",
              "      <td>5.0</td>\n",
              "      <td>3.6</td>\n",
              "      <td>1.4</td>\n",
              "      <td>0.2</td>\n",
              "      <td>Iris-setosa</td>\n",
              "    </tr>\n",
              "    <tr>\n",
              "      <th>...</th>\n",
              "      <td>...</td>\n",
              "      <td>...</td>\n",
              "      <td>...</td>\n",
              "      <td>...</td>\n",
              "      <td>...</td>\n",
              "    </tr>\n",
              "    <tr>\n",
              "      <th>145</th>\n",
              "      <td>6.7</td>\n",
              "      <td>3.0</td>\n",
              "      <td>5.2</td>\n",
              "      <td>2.3</td>\n",
              "      <td>Iris-virginica</td>\n",
              "    </tr>\n",
              "    <tr>\n",
              "      <th>146</th>\n",
              "      <td>6.3</td>\n",
              "      <td>2.5</td>\n",
              "      <td>5.0</td>\n",
              "      <td>1.9</td>\n",
              "      <td>Iris-virginica</td>\n",
              "    </tr>\n",
              "    <tr>\n",
              "      <th>147</th>\n",
              "      <td>6.5</td>\n",
              "      <td>3.0</td>\n",
              "      <td>5.2</td>\n",
              "      <td>2.0</td>\n",
              "      <td>Iris-virginica</td>\n",
              "    </tr>\n",
              "    <tr>\n",
              "      <th>148</th>\n",
              "      <td>6.2</td>\n",
              "      <td>3.4</td>\n",
              "      <td>5.4</td>\n",
              "      <td>2.3</td>\n",
              "      <td>Iris-virginica</td>\n",
              "    </tr>\n",
              "    <tr>\n",
              "      <th>149</th>\n",
              "      <td>5.9</td>\n",
              "      <td>3.0</td>\n",
              "      <td>5.1</td>\n",
              "      <td>1.8</td>\n",
              "      <td>Iris-virginica</td>\n",
              "    </tr>\n",
              "  </tbody>\n",
              "</table>\n",
              "<p>150 rows × 5 columns</p>\n",
              "</div>"
            ],
            "text/plain": [
              "     SepalLengthCm  SepalWidthCm  PetalLengthCm  PetalWidthCm         Species\n",
              "0              5.1           3.5            1.4           0.2     Iris-setosa\n",
              "1              4.9           3.0            1.4           0.2     Iris-setosa\n",
              "2              4.7           3.2            1.3           0.2     Iris-setosa\n",
              "3              4.6           3.1            1.5           0.2     Iris-setosa\n",
              "4              5.0           3.6            1.4           0.2     Iris-setosa\n",
              "..             ...           ...            ...           ...             ...\n",
              "145            6.7           3.0            5.2           2.3  Iris-virginica\n",
              "146            6.3           2.5            5.0           1.9  Iris-virginica\n",
              "147            6.5           3.0            5.2           2.0  Iris-virginica\n",
              "148            6.2           3.4            5.4           2.3  Iris-virginica\n",
              "149            5.9           3.0            5.1           1.8  Iris-virginica\n",
              "\n",
              "[150 rows x 5 columns]"
            ]
          },
          "metadata": {
            "tags": []
          },
          "execution_count": 6
        }
      ]
    },
    {
      "cell_type": "markdown",
      "metadata": {
        "id": "xs50stPQOftP",
        "colab_type": "text"
      },
      "source": [
        "# Some EDA with Iris"
      ]
    },
    {
      "cell_type": "code",
      "metadata": {
        "id": "WZMxrSQ_OftR",
        "colab_type": "code",
        "colab": {
          "base_uri": "https://localhost:8080/",
          "height": 458
        },
        "outputId": "2c5bbfd4-f30e-4210-cc60-5b81a6f6108b"
      },
      "source": [
        "fig = iris[iris.Species == 'Iris-setosa'].plot(kind = 'scatter',x = 'SepalLengthCm',y='SepalWidthCm',color='gold',label='setosa')\n",
        "iris[iris.Species == 'Iris-versicolor'].plot(kind='scatter', x='PetalLengthCm', y='PetalWidthCm', color='blue', label='Versicolor', ax=fig)\n",
        "iris[iris.Species == 'Iris-virginica'].plot(kind='scatter', x='PetalLengthCm', y='PetalWidthCm', color='green', label='Virginica', ax=fig)\n",
        "\n",
        "fig.set_title('Petal Length Vs Petal Width')\n",
        "fig=plt.gcf()\n",
        "fig.set_size_inches(10, 7)\n",
        "plt.show()"
      ],
      "execution_count": 7,
      "outputs": [
        {
          "output_type": "display_data",
          "data": {
            "image/png": "[encoded data removed]",
            "text/plain": [
              "<Figure size 720x504 with 1 Axes>"
            ]
          },
          "metadata": {
            "tags": [],
            "needs_background": "light"
          }
        }
      ]
    },
    {
      "cell_type": "code",
      "metadata": {
        "id": "flxFvMpEOftY",
        "colab_type": "code",
        "colab": {
          "base_uri": "https://localhost:8080/",
          "height": 553
        },
        "outputId": "84ec09d8-9437-4fde-c7b4-a6b9f2231394"
      },
      "source": [
        "iris.drop('Id',axis=1).hist(edgecolor='black', linewidth=1.2)\n",
        "fig = plt.gcf()\n",
        "fig.set_size_inches(12,9)\n",
        "plt.show()"
      ],
      "execution_count": 8,
      "outputs": [
        {
          "output_type": "display_data",
          "data": {
            "image/png": "[encoded data removed]",
            "text/plain": [
              "<Figure size 864x648 with 4 Axes>"
            ]
          },
          "metadata": {
            "tags": [],
            "needs_background": "light"
          }
        }
      ]
    },
    {
      "cell_type": "code",
      "metadata": {
        "id": "AmkFSy6vOfte",
        "colab_type": "code",
        "colab": {
          "base_uri": "https://localhost:8080/",
          "height": 622
        },
        "outputId": "be941e5f-7328-45f9-8ced-3568b92f10fb"
      },
      "source": [
        "plt.figure(figsize=(15,10))\n",
        "plt.subplot(2,2,1)\n",
        "sns.violinplot(data=iris,x='Species',y='PetalLengthCm')\n",
        "plt.subplot(2,2,2)\n",
        "sns.violinplot(data=iris,x='Species',y='PetalWidthCm')\n",
        "plt.subplot(2,2,3)\n",
        "sns.violinplot(data=iris,x='Species',y='SepalLengthCm')\n",
        "plt.subplot(2,2,4)\n",
        "sns.violinplot(data=iris,x='Species',y='SepalWidthCm')"
      ],
      "execution_count": 9,
      "outputs": [
        {
          "output_type": "execute_result",
          "data": {
            "text/plain": [
              "<matplotlib.axes._subplots.AxesSubplot at 0x7f118efd36a0>"
            ]
          },
          "metadata": {
            "tags": []
          },
          "execution_count": 9
        },
        {
          "output_type": "display_data",
          "data": {
            "image/png": "[encoded data removed]",
            "text/plain": [
              "<Figure size 1080x720 with 4 Axes>"
            ]
          },
          "metadata": {
            "tags": [],
            "needs_background": "light"
          }
        }
      ]
    },
    {
      "cell_type": "markdown",
      "metadata": {
        "id": "IJlK4o8gOftn",
        "colab_type": "text"
      },
      "source": [
        "   "
      ]
    },
    {
      "cell_type": "markdown",
      "metadata": {
        "id": "CaBH3dvpOftp",
        "colab_type": "text"
      },
      "source": [
        "# The given problem is a Classification Problem so we need to use Classification Algorithims to build a model\n",
        "\n",
        " In this dataset                                                                                                               \n",
        " Features: PetalLengthCm ,PetalWidthCm ,SepalLengthCm ,SepalWidthCm                                                             \n",
        " Target variables: Iris-setosa,Iris-versicolor,Iris-virginica\n"
      ]
    },
    {
      "cell_type": "code",
      "metadata": {
        "id": "OV8wjFuaOftq",
        "colab_type": "code",
        "colab": {}
      },
      "source": [
        "# importing alll the necessary packages to use the various classification algorithms\n",
        "from sklearn.linear_model import LogisticRegression # for Logistic Regression Algorithm\n",
        "from sklearn.model_selection import train_test_split # to split the dataset for training and testing \n",
        "from sklearn.neighbors import KNeighborsClassifier # KNN classifier\n",
        "from sklearn import svm # for suport vector machine algorithm\n",
        "from sklearn import metrics # for checking the model accuracy\n",
        "from sklearn.tree import DecisionTreeClassifier # for using DTA"
      ],
      "execution_count": 10,
      "outputs": []
    },
    {
      "cell_type": "markdown",
      "metadata": {
        "id": "oT_tOSuqOftw",
        "colab_type": "text"
      },
      "source": [
        "Steps To Be followed When Applying an Algorithm\n",
        "\n",
        "Split the dataset into training and testing dataset. The testing dataset is generally smaller than training one as it will help in training the model better.\n",
        "\n",
        "Select any algorithm based on the problem (classification or regression) whatever you feel may be good. Then pass the training dataset to the algorithm to train it. We use the .fit() method Then pass the testing data to the trained algorithm to predict the outcome. We use the .predict() method. We then check the accuracy by passing the predicted outcome and the actual output to the model."
      ]
    },
    {
      "cell_type": "markdown",
      "metadata": {
        "id": "6BsZvEzkOfty",
        "colab_type": "text"
      },
      "source": [
        "## Splitting the data into Training and Testing Dataset"
      ]
    },
    {
      "cell_type": "code",
      "metadata": {
        "id": "UKEpwYY2Oftz",
        "colab_type": "code",
        "colab": {}
      },
      "source": [
        "train,test = train_test_split(iris,test_size=0.3)#test_size=0.3 splits the data into 70% and 30% ratio. train=70% and test=30%"
      ],
      "execution_count": 11,
      "outputs": []
    },
    {
      "cell_type": "code",
      "metadata": {
        "id": "N9ZJKzF1Oft4",
        "colab_type": "code",
        "colab": {
          "base_uri": "https://localhost:8080/",
          "height": 33
        },
        "outputId": "b3fbd520-310c-4b23-f800-22c3f5d2565b"
      },
      "source": [
        "train.shape"
      ],
      "execution_count": 12,
      "outputs": [
        {
          "output_type": "execute_result",
          "data": {
            "text/plain": [
              "(105, 6)"
            ]
          },
          "metadata": {
            "tags": []
          },
          "execution_count": 12
        }
      ]
    },
    {
      "cell_type": "code",
      "metadata": {
        "id": "Fw2xEFnLOft-",
        "colab_type": "code",
        "colab": {
          "base_uri": "https://localhost:8080/",
          "height": 33
        },
        "outputId": "ef6dd3d9-68d9-4198-bf62-62b016ede9e9"
      },
      "source": [
        "test.shape"
      ],
      "execution_count": 13,
      "outputs": [
        {
          "output_type": "execute_result",
          "data": {
            "text/plain": [
              "(45, 6)"
            ]
          },
          "metadata": {
            "tags": []
          },
          "execution_count": 13
        }
      ]
    },
    {
      "cell_type": "code",
      "metadata": {
        "id": "ZyeWCwZrOfuD",
        "colab_type": "code",
        "colab": {}
      },
      "source": [
        "X_train = train[['SepalLengthCm','SepalWidthCm','PetalLengthCm','PetalWidthCm']] # taking the training data features\n",
        "y_train = train.Species # output of the training data\n",
        "X_test = test[['SepalLengthCm','SepalWidthCm','PetalLengthCm','PetalWidthCm']] # taking test data feature\n",
        "y_test = test.Species # output value of the test data"
      ],
      "execution_count": 14,
      "outputs": []
    },
    {
      "cell_type": "code",
      "metadata": {
        "id": "PUhbx3pxOfuJ",
        "colab_type": "code",
        "colab": {
          "base_uri": "https://localhost:8080/",
          "height": 196
        },
        "outputId": "1935a280-4b4b-45fa-9f91-49d243b94d64"
      },
      "source": [
        "X_train.head()"
      ],
      "execution_count": 15,
      "outputs": [
        {
          "output_type": "execute_result",
          "data": {
            "text/html": [
              "<div>\n",
              "<style scoped>\n",
              "    .dataframe tbody tr th:only-of-type {\n",
              "        vertical-align: middle;\n",
              "    }\n",
              "\n",
              "    .dataframe tbody tr th {\n",
              "        vertical-align: top;\n",
              "    }\n",
              "\n",
              "    .dataframe thead th {\n",
              "        text-align: right;\n",
              "    }\n",
              "</style>\n",
              "<table border=\"1\" class=\"dataframe\">\n",
              "  <thead>\n",
              "    <tr style=\"text-align: right;\">\n",
              "      <th></th>\n",
              "      <th>SepalLengthCm</th>\n",
              "      <th>SepalWidthCm</th>\n",
              "      <th>PetalLengthCm</th>\n",
              "      <th>PetalWidthCm</th>\n",
              "    </tr>\n",
              "  </thead>\n",
              "  <tbody>\n",
              "    <tr>\n",
              "      <th>65</th>\n",
              "      <td>6.7</td>\n",
              "      <td>3.1</td>\n",
              "      <td>4.4</td>\n",
              "      <td>1.4</td>\n",
              "    </tr>\n",
              "    <tr>\n",
              "      <th>82</th>\n",
              "      <td>5.8</td>\n",
              "      <td>2.7</td>\n",
              "      <td>3.9</td>\n",
              "      <td>1.2</td>\n",
              "    </tr>\n",
              "    <tr>\n",
              "      <th>40</th>\n",
              "      <td>5.0</td>\n",
              "      <td>3.5</td>\n",
              "      <td>1.3</td>\n",
              "      <td>0.3</td>\n",
              "    </tr>\n",
              "    <tr>\n",
              "      <th>15</th>\n",
              "      <td>5.7</td>\n",
              "      <td>4.4</td>\n",
              "      <td>1.5</td>\n",
              "      <td>0.4</td>\n",
              "    </tr>\n",
              "    <tr>\n",
              "      <th>44</th>\n",
              "      <td>5.1</td>\n",
              "      <td>3.8</td>\n",
              "      <td>1.9</td>\n",
              "      <td>0.4</td>\n",
              "    </tr>\n",
              "  </tbody>\n",
              "</table>\n",
              "</div>"
            ],
            "text/plain": [
              "    SepalLengthCm  SepalWidthCm  PetalLengthCm  PetalWidthCm\n",
              "65            6.7           3.1            4.4           1.4\n",
              "82            5.8           2.7            3.9           1.2\n",
              "40            5.0           3.5            1.3           0.3\n",
              "15            5.7           4.4            1.5           0.4\n",
              "44            5.1           3.8            1.9           0.4"
            ]
          },
          "metadata": {
            "tags": []
          },
          "execution_count": 15
        }
      ]
    },
    {
      "cell_type": "code",
      "metadata": {
        "id": "0lubss7JOfuO",
        "colab_type": "code",
        "colab": {
          "base_uri": "https://localhost:8080/",
          "height": 117
        },
        "outputId": "77c02afb-48de-4dc2-ce56-f2e6ecfcd143"
      },
      "source": [
        "y_train.head()"
      ],
      "execution_count": 16,
      "outputs": [
        {
          "output_type": "execute_result",
          "data": {
            "text/plain": [
              "65    Iris-versicolor\n",
              "82    Iris-versicolor\n",
              "40        Iris-setosa\n",
              "15        Iris-setosa\n",
              "44        Iris-setosa\n",
              "Name: Species, dtype: object"
            ]
          },
          "metadata": {
            "tags": []
          },
          "execution_count": 16
        }
      ]
    },
    {
      "cell_type": "code",
      "metadata": {
        "id": "rGlsjLbCOfuU",
        "colab_type": "code",
        "colab": {
          "base_uri": "https://localhost:8080/",
          "height": 196
        },
        "outputId": "4635f7a6-96fd-4514-fe6b-022a91d26bca"
      },
      "source": [
        "X_test.head()"
      ],
      "execution_count": 17,
      "outputs": [
        {
          "output_type": "execute_result",
          "data": {
            "text/html": [
              "<div>\n",
              "<style scoped>\n",
              "    .dataframe tbody tr th:only-of-type {\n",
              "        vertical-align: middle;\n",
              "    }\n",
              "\n",
              "    .dataframe tbody tr th {\n",
              "        vertical-align: top;\n",
              "    }\n",
              "\n",
              "    .dataframe thead th {\n",
              "        text-align: right;\n",
              "    }\n",
              "</style>\n",
              "<table border=\"1\" class=\"dataframe\">\n",
              "  <thead>\n",
              "    <tr style=\"text-align: right;\">\n",
              "      <th></th>\n",
              "      <th>SepalLengthCm</th>\n",
              "      <th>SepalWidthCm</th>\n",
              "      <th>PetalLengthCm</th>\n",
              "      <th>PetalWidthCm</th>\n",
              "    </tr>\n",
              "  </thead>\n",
              "  <tbody>\n",
              "    <tr>\n",
              "      <th>148</th>\n",
              "      <td>6.2</td>\n",
              "      <td>3.4</td>\n",
              "      <td>5.4</td>\n",
              "      <td>2.3</td>\n",
              "    </tr>\n",
              "    <tr>\n",
              "      <th>53</th>\n",
              "      <td>5.5</td>\n",
              "      <td>2.3</td>\n",
              "      <td>4.0</td>\n",
              "      <td>1.3</td>\n",
              "    </tr>\n",
              "    <tr>\n",
              "      <th>1</th>\n",
              "      <td>4.9</td>\n",
              "      <td>3.0</td>\n",
              "      <td>1.4</td>\n",
              "      <td>0.2</td>\n",
              "    </tr>\n",
              "    <tr>\n",
              "      <th>126</th>\n",
              "      <td>6.2</td>\n",
              "      <td>2.8</td>\n",
              "      <td>4.8</td>\n",
              "      <td>1.8</td>\n",
              "    </tr>\n",
              "    <tr>\n",
              "      <th>145</th>\n",
              "      <td>6.7</td>\n",
              "      <td>3.0</td>\n",
              "      <td>5.2</td>\n",
              "      <td>2.3</td>\n",
              "    </tr>\n",
              "  </tbody>\n",
              "</table>\n",
              "</div>"
            ],
            "text/plain": [
              "     SepalLengthCm  SepalWidthCm  PetalLengthCm  PetalWidthCm\n",
              "148            6.2           3.4            5.4           2.3\n",
              "53             5.5           2.3            4.0           1.3\n",
              "1              4.9           3.0            1.4           0.2\n",
              "126            6.2           2.8            4.8           1.8\n",
              "145            6.7           3.0            5.2           2.3"
            ]
          },
          "metadata": {
            "tags": []
          },
          "execution_count": 17
        }
      ]
    },
    {
      "cell_type": "code",
      "metadata": {
        "id": "fZRzJFfMOfuZ",
        "colab_type": "code",
        "colab": {
          "base_uri": "https://localhost:8080/",
          "height": 117
        },
        "outputId": "84b405bd-8bae-402c-a592-1f071f253fb8"
      },
      "source": [
        "y_test.head()"
      ],
      "execution_count": 18,
      "outputs": [
        {
          "output_type": "execute_result",
          "data": {
            "text/plain": [
              "148     Iris-virginica\n",
              "53     Iris-versicolor\n",
              "1          Iris-setosa\n",
              "126     Iris-virginica\n",
              "145     Iris-virginica\n",
              "Name: Species, dtype: object"
            ]
          },
          "metadata": {
            "tags": []
          },
          "execution_count": 18
        }
      ]
    },
    {
      "cell_type": "markdown",
      "metadata": {
        "id": "s0FpxCEIOfuf",
        "colab_type": "text"
      },
      "source": [
        "#### Visualizing decision trees\n",
        "For clear understanding of the dataset lets visualize it in decision trees"
      ]
    },
    {
      "cell_type": "code",
      "metadata": {
        "id": "Zm9KAT9pOfug",
        "colab_type": "code",
        "colab": {}
      },
      "source": [
        "clf = DecisionTreeClassifier().fit(X_train, y_train)"
      ],
      "execution_count": 27,
      "outputs": []
    },
    {
      "cell_type": "code",
      "metadata": {
        "id": "rNWJAonaOful",
        "colab_type": "code",
        "colab": {}
      },
      "source": [
        "from adspy_shared_utilities import plot_decision_tree\n",
        "features = ['SepalLengthCm','SepalWidthCm','PetalLengthCm','PetalWidthCm']\n",
        "target = ['Iris-setosa','Iris-versicolor','Iris-virginica']\n",
        "plot_decision_tree(clf, features,target)"
      ],
      "execution_count": null,
      "outputs": []
    },
    {
      "cell_type": "code",
      "metadata": {
        "id": "Zw_D1fDKOfuq",
        "colab_type": "code",
        "colab": {}
      },
      "source": [
        "from adspy_shared_utilities import plot_feature_importances\n",
        "\n",
        "plt.figure(figsize=(10,4), dpi=80)\n",
        "plot_feature_importances(clf, features)\n",
        "plt.show()\n",
        "\n",
        "print('Feature importances: {}'.format(clf.feature_importances_))"
      ],
      "execution_count": null,
      "outputs": []
    },
    {
      "cell_type": "code",
      "metadata": {
        "id": "-Y5wFohJOfuv",
        "colab_type": "code",
        "colab": {
          "base_uri": "https://localhost:8080/",
          "height": 338
        },
        "outputId": "e3b11b92-bb0e-444f-9bc1-a4bbc3af0f29"
      },
      "source": [
        "plt.figure(figsize=(8,4))\n",
        "sns.heatmap(iris.corr(), annot=True, cmap='cubehelix_r') \n",
        "# draws heatmap with input as correlation matrix calculated by iris.corr() \n",
        "plt.show()"
      ],
      "execution_count": 30,
      "outputs": [
        {
          "output_type": "display_data",
          "data": {
            "image/png": "[encoded data removed]",
            "text/plain": [
              "<Figure size 576x288 with 2 Axes>"
            ]
          },
          "metadata": {
            "tags": [],
            "needs_background": "light"
          }
        }
      ]
    },
    {
      "cell_type": "markdown",
      "metadata": {
        "id": "gwe-DeMLOfu2",
        "colab_type": "text"
      },
      "source": [
        "Observation\n",
        "The Sepal Width and Length are not correlated The Petal Width and Length are highly correlated\n",
        "We will use all the features for training the algorithm and check the accuracy.\n",
        "\n",
        "Then we will use 1 Petal Feature and 1 Sepal Feature to check the accuracy of the algorithm as we are using only 2 features that are not correlated. Thus we can have a variance in the dataset which may help in better accuracy"
      ]
    },
    {
      "cell_type": "markdown",
      "metadata": {
        "id": "GxIyqrhHOfu3",
        "colab_type": "text"
      },
      "source": [
        "## Checking accuracy for different models using all the features"
      ]
    },
    {
      "cell_type": "markdown",
      "metadata": {
        "id": "MDjmJBeCOfu4",
        "colab_type": "text"
      },
      "source": [
        "### Decision trees"
      ]
    },
    {
      "cell_type": "code",
      "metadata": {
        "id": "k_x4sTi7Ofu5",
        "colab_type": "code",
        "colab": {
          "base_uri": "https://localhost:8080/",
          "height": 34
        },
        "outputId": "5e9ca8f6-e6a4-4dc1-c596-fcca5a401996"
      },
      "source": [
        "dclf = DecisionTreeClassifier()\n",
        "dclf.fit(X_train,y_train)\n",
        "dprediction = dclf.predict(X_test)\n",
        "print('The accuracy of Decision Tree is: ', metrics.accuracy_score(dprediction, y_test))"
      ],
      "execution_count": 32,
      "outputs": [
        {
          "output_type": "stream",
          "text": [
            "The accuracy of Decision Tree is:  0.9555555555555556\n"
          ],
          "name": "stdout"
        }
      ]
    },
    {
      "cell_type": "markdown",
      "metadata": {
        "id": "G8FD6ylzOfu-",
        "colab_type": "text"
      },
      "source": [
        "### Logistic Regression "
      ]
    },
    {
      "cell_type": "code",
      "metadata": {
        "id": "41Qfl1cMOfu_",
        "colab_type": "code",
        "colab": {
          "base_uri": "https://localhost:8080/",
          "height": 34
        },
        "outputId": "2e481a2a-ab95-440b-a022-7cc3de02077c"
      },
      "source": [
        "lr = LogisticRegression()\n",
        "lr.fit(X_train,y_train)\n",
        "lrprediction = lr.predict(X_test)\n",
        "print('The accuracy of Logistic Regression is: ', metrics.accuracy_score(lrprediction, y_test))"
      ],
      "execution_count": 33,
      "outputs": [
        {
          "output_type": "stream",
          "text": [
            "The accuracy of Logistic Regression is:  0.9777777777777777\n"
          ],
          "name": "stdout"
        }
      ]
    },
    {
      "cell_type": "markdown",
      "metadata": {
        "id": "YPgGl6XCOfvF",
        "colab_type": "text"
      },
      "source": [
        "## Support Vector Machine SVM"
      ]
    },
    {
      "cell_type": "code",
      "metadata": {
        "id": "2P91l8FSOfvG",
        "colab_type": "code",
        "colab": {
          "base_uri": "https://localhost:8080/",
          "height": 33
        },
        "outputId": "b453dc9a-68d4-4e74-86d8-9529b00865c0"
      },
      "source": [
        "sclf = svm.SVC()\n",
        "sclf.fit(X_train,y_train)\n",
        "sprediction = sclf.predict(X_test)\n",
        "print('The accuracy of the SVM is: ', metrics.accuracy_score(sprediction, y_test))"
      ],
      "execution_count": 34,
      "outputs": [
        {
          "output_type": "stream",
          "text": [
            "The accuracy of the SVM is:  0.9777777777777777\n"
          ],
          "name": "stdout"
        }
      ]
    },
    {
      "cell_type": "markdown",
      "metadata": {
        "id": "21KqsPF0OfvL",
        "colab_type": "text"
      },
      "source": [
        "### K-Nearest Neighbors"
      ]
    },
    {
      "cell_type": "code",
      "metadata": {
        "id": "ps-OdQOyOfvL",
        "colab_type": "code",
        "colab": {
          "base_uri": "https://localhost:8080/",
          "height": 33
        },
        "outputId": "1edf67a4-a5b6-48a3-ca05-b64ad8461b88"
      },
      "source": [
        "knn = KNeighborsClassifier(n_neighbors=6)\n",
        "knn.fit(X_train,y_train)\n",
        "kprediction = knn.predict(X_test)\n",
        "print('The accuracy of KNN is: ', metrics.accuracy_score(kprediction, y_test))"
      ],
      "execution_count": 35,
      "outputs": [
        {
          "output_type": "stream",
          "text": [
            "The accuracy of KNN is:  0.9777777777777777\n"
          ],
          "name": "stdout"
        }
      ]
    },
    {
      "cell_type": "markdown",
      "metadata": {
        "id": "c57wIwSOOfvU",
        "colab_type": "text"
      },
      "source": [
        "### Let's check the accuracy for various values of n for K-Nearest nerighbours\n"
      ]
    },
    {
      "cell_type": "code",
      "metadata": {
        "id": "Ps_H8ja9OfvV",
        "colab_type": "code",
        "colab": {
          "base_uri": "https://localhost:8080/",
          "height": 518
        },
        "outputId": "0dbedcbf-b236-4c03-8b00-39644a5bdbfb"
      },
      "source": [
        "a_index = list(range(1,11))\n",
        "a = pd.Series()\n",
        "for i in list(range(1,11)):\n",
        "    knn = KNeighborsClassifier(n_neighbors=i)\n",
        "    knn.fit(X_train, y_train)\n",
        "    prediction = knn.predict(X_test)\n",
        "    a = a.append(pd.Series(metrics.accuracy_score(prediction, y_test)))\n",
        "plt.plot(a_index, a)\n",
        "x = [1,2,3,4,5,6,7,8,9,10]\n",
        "plt.title(' KNN models using different values of n')\n",
        "plt.xticks(x)"
      ],
      "execution_count": 36,
      "outputs": [
        {
          "output_type": "stream",
          "text": [
            "/usr/local/lib/python3.6/dist-packages/ipykernel_launcher.py:2: DeprecationWarning: The default dtype for empty Series will be 'object' instead of 'float64' in a future version. Specify a dtype explicitly to silence this warning.\n",
            "  \n"
          ],
          "name": "stderr"
        },
        {
          "output_type": "execute_result",
          "data": {
            "text/plain": [
              "([<matplotlib.axis.XTick at 0x7f11849e0208>,\n",
              "  <matplotlib.axis.XTick at 0x7f11849e01d0>,\n",
              "  <matplotlib.axis.XTick at 0x7f11849dedd8>,\n",
              "  <matplotlib.axis.XTick at 0x7f1184984160>,\n",
              "  <matplotlib.axis.XTick at 0x7f11849845c0>,\n",
              "  <matplotlib.axis.XTick at 0x7f1184984a58>,\n",
              "  <matplotlib.axis.XTick at 0x7f1184984ef0>,\n",
              "  <matplotlib.axis.XTick at 0x7f118498a3c8>,\n",
              "  <matplotlib.axis.XTick at 0x7f118498a860>,\n",
              "  <matplotlib.axis.XTick at 0x7f1184984fd0>],\n",
              " <a list of 10 Text major ticklabel objects>)"
            ]
          },
          "metadata": {
            "tags": []
          },
          "execution_count": 36
        },
        {
          "output_type": "display_data",
          "data": {
            "image/png": "[encoded data removed]",
            "text/plain": [
              "<Figure size 432x288 with 1 Axes>"
            ]
          },
          "metadata": {
            "tags": [],
            "needs_background": "light"
          }
        }
      ]
    },
    {
      "cell_type": "markdown",
      "metadata": {
        "id": "M4jRSZLNOfvZ",
        "colab_type": "text"
      },
      "source": [
        "# Check with an Example"
      ]
    },
    {
      "cell_type": "code",
      "metadata": {
        "id": "gqkSIXXLOfvb",
        "colab_type": "code",
        "colab": {
          "base_uri": "https://localhost:8080/",
          "height": 50
        },
        "outputId": "09ff9c64-47ed-4b0f-ceb8-fa88442237ad"
      },
      "source": [
        "example_flower = [[36,30,39,0.7]]\n",
        "dprediction = dclf.predict(example_flower) #Using DecisionTree algorithim\n",
        "print('Predicted flower type for ', example_flower, ' is ',iris.Species[dprediction])"
      ],
      "execution_count": 42,
      "outputs": [
        {
          "output_type": "stream",
          "text": [
            "Predicted flower type for  [[36, 30, 39, 0.7]]  is  Iris-setosa    NaN\n",
            "Name: Species, dtype: object\n"
          ],
          "name": "stdout"
        }
      ]
    },
    {
      "cell_type": "markdown",
      "metadata": {
        "id": "HsN4UxHGOfvg",
        "colab_type": "text"
      },
      "source": [
        "   "
      ]
    },
    {
      "cell_type": "markdown",
      "metadata": {
        "id": "s2-c_f4JOfvh",
        "colab_type": "text"
      },
      "source": [
        "## Now we will use Petals and Sepals Seperately"
      ]
    },
    {
      "cell_type": "markdown",
      "metadata": {
        "id": "RFnNl4jjOfvi",
        "colab_type": "text"
      },
      "source": [
        "### Creating Petals And Sepals Training Data"
      ]
    },
    {
      "cell_type": "code",
      "metadata": {
        "id": "W-XpCPYYOfvj",
        "colab_type": "code",
        "colab": {}
      },
      "source": [
        "petal = iris[['PetalLengthCm','PetalWidthCm','Species']]\n",
        "sepal = iris[['SepalLengthCm','SepalWidthCm','Species']]"
      ],
      "execution_count": 43,
      "outputs": []
    },
    {
      "cell_type": "code",
      "metadata": {
        "id": "1qn5jozgOfvn",
        "colab_type": "code",
        "colab": {}
      },
      "source": [
        "#Petals\n",
        "train_p,test_p = train_test_split(petal,test_size=0.3,random_state=3)\n",
        "X_train_p = train_p[['PetalWidthCm','PetalLengthCm']]\n",
        "y_train_p = train_p.Species\n",
        "X_test_p = test_p[['PetalWidthCm','PetalLengthCm']]\n",
        "y_test_p = test_p.Species"
      ],
      "execution_count": 44,
      "outputs": []
    },
    {
      "cell_type": "code",
      "metadata": {
        "id": "Zi_JEqOIOfvs",
        "colab_type": "code",
        "colab": {}
      },
      "source": [
        "# Sepals\n",
        "train_s,test_s = train_test_split(sepal,test_size=0.3,random_state=3)\n",
        "X_train_s = train_s[['SepalWidthCm','SepalLengthCm']]\n",
        "y_train_s = train_s.Species\n",
        "X_test_s = test_s[['SepalWidthCm','SepalLengthCm']]\n",
        "y_test_s = test_s.Species"
      ],
      "execution_count": 45,
      "outputs": []
    },
    {
      "cell_type": "markdown",
      "metadata": {
        "id": "jDyDoadWOfvw",
        "colab_type": "text"
      },
      "source": [
        "## Decision Tree"
      ]
    },
    {
      "cell_type": "code",
      "metadata": {
        "id": "qA9syjFbOfvx",
        "colab_type": "code",
        "colab": {
          "base_uri": "https://localhost:8080/",
          "height": 50
        },
        "outputId": "dff9fe6c-f4b1-4b94-f96d-7e86aa93c085"
      },
      "source": [
        "dclf = DecisionTreeClassifier()\n",
        "dclf.fit(X_train_p,y_train_p)\n",
        "dprediction = dclf.predict(X_test_p)\n",
        "print('The accuracy of Decision Tree using Petals is: ', metrics.accuracy_score(dprediction, y_test_p))\n",
        "dclf.fit(X_train_s,y_train_s)\n",
        "dprediction = dclf.predict(X_test_s)\n",
        "print('The accuracy of Decision Tree using Sepals is: ', metrics.accuracy_score(dprediction, y_test_s))"
      ],
      "execution_count": 46,
      "outputs": [
        {
          "output_type": "stream",
          "text": [
            "The accuracy of Decision Tree using Petals is:  0.9555555555555556\n",
            "The accuracy of Decision Tree using Sepals is:  0.6444444444444445\n"
          ],
          "name": "stdout"
        }
      ]
    },
    {
      "cell_type": "markdown",
      "metadata": {
        "id": "VGuqs7LBOfv1",
        "colab_type": "text"
      },
      "source": [
        "## Logistic Regression"
      ]
    },
    {
      "cell_type": "code",
      "metadata": {
        "id": "CczRXfitOfv2",
        "colab_type": "code",
        "colab": {
          "base_uri": "https://localhost:8080/",
          "height": 50
        },
        "outputId": "ba3fed6f-8fb8-4bce-9553-415e593a943a"
      },
      "source": [
        "lr = LogisticRegression()\n",
        "lr.fit(X_train_p,y_train_p)\n",
        "lrprediction = lr.predict(X_test_p)\n",
        "print('The accuracy of Logistic Regression using Petals is: ', metrics.accuracy_score(lrprediction, y_test_p))\n",
        "lr.fit(X_train_s,y_train_s)\n",
        "lrprediction = lr.predict(X_test_s)\n",
        "print('The accuracy of Logistic Regression using Sepals is: ', metrics.accuracy_score(lrprediction, y_test_s))"
      ],
      "execution_count": 47,
      "outputs": [
        {
          "output_type": "stream",
          "text": [
            "The accuracy of Logistic Regression using Petals is:  0.9777777777777777\n",
            "The accuracy of Logistic Regression using Sepals is:  0.7777777777777778\n"
          ],
          "name": "stdout"
        }
      ]
    },
    {
      "cell_type": "markdown",
      "metadata": {
        "id": "w7aTjDFQOfv7",
        "colab_type": "text"
      },
      "source": [
        "## SVM Algorithm"
      ]
    },
    {
      "cell_type": "code",
      "metadata": {
        "id": "WyoXncb5Ofv8",
        "colab_type": "code",
        "colab": {
          "base_uri": "https://localhost:8080/",
          "height": 50
        },
        "outputId": "4ec32791-73cd-4872-b975-ab75e0ca9281"
      },
      "source": [
        "sclf = svm.SVC()\n",
        "sclf.fit(X_train_p,y_train_p)\n",
        "sprediction = sclf.predict(X_test_p)\n",
        "print('The accuracy of the SVM using Petals is: ', metrics.accuracy_score(sprediction, y_test_p))\n",
        "sclf.fit(X_train_s,y_train_s)\n",
        "sprediction = sclf.predict(X_test_s)\n",
        "print('The accuracy of the SVM using Sepalsis: ', metrics.accuracy_score(sprediction, y_test_s))"
      ],
      "execution_count": 48,
      "outputs": [
        {
          "output_type": "stream",
          "text": [
            "The accuracy of the SVM using Petals is:  0.9555555555555556\n",
            "The accuracy of the SVM using Sepalsis:  0.8\n"
          ],
          "name": "stdout"
        }
      ]
    },
    {
      "cell_type": "markdown",
      "metadata": {
        "id": "55htrbkmOfwB",
        "colab_type": "text"
      },
      "source": [
        "## K-Nearest Neighbors"
      ]
    },
    {
      "cell_type": "code",
      "metadata": {
        "id": "w6hRhLkrOfwB",
        "colab_type": "code",
        "colab": {
          "base_uri": "https://localhost:8080/",
          "height": 50
        },
        "outputId": "f2cb84aa-9dd2-4c86-c1ce-0c6bde988e16"
      },
      "source": [
        "knn = KNeighborsClassifier(n_neighbors=6)\n",
        "knn.fit(X_train_p,y_train_p)\n",
        "kprediction = knn.predict(X_test_p)\n",
        "print('The accuracy of KNN using Petals is: ', metrics.accuracy_score(kprediction, y_test_p))\n",
        "knn.fit(X_train_s,y_train_s)\n",
        "kprediction = knn.predict(X_test_s)\n",
        "print('The accuracy of KNN using Sepals is: ', metrics.accuracy_score(kprediction, y_test_s))"
      ],
      "execution_count": 49,
      "outputs": [
        {
          "output_type": "stream",
          "text": [
            "The accuracy of KNN using Petals is:  0.9777777777777777\n",
            "The accuracy of KNN using Sepals is:  0.7333333333333333\n"
          ],
          "name": "stdout"
        }
      ]
    },
    {
      "cell_type": "markdown",
      "metadata": {
        "id": "eV9RP74kOfwG",
        "colab_type": "text"
      },
      "source": [
        "# Check with an example"
      ]
    },
    {
      "cell_type": "code",
      "metadata": {
        "id": "5EXLAKebOfwH",
        "colab_type": "code",
        "colab": {
          "base_uri": "https://localhost:8080/",
          "height": 50
        },
        "outputId": "84a51d2a-1f2d-46f3-bf3b-ad7748b8a597"
      },
      "source": [
        "example_flower = [[36,30]]\n",
        "dprediction = dclf.predict(example_flower) #Using DecisionTree algorithim\n",
        "print('Predicted flower type for ', example_flower, ' is ',iris.Species[dprediction])"
      ],
      "execution_count": 50,
      "outputs": [
        {
          "output_type": "stream",
          "text": [
            "Predicted flower type for  [[36, 30]]  is  Iris-virginica    NaN\n",
            "Name: Species, dtype: object\n"
          ],
          "name": "stdout"
        }
      ]
    },
    {
      "cell_type": "markdown",
      "metadata": {
        "id": "-tWO_h1bOfwN",
        "colab_type": "text"
      },
      "source": [
        "### Observations:\n",
        "\n",
        "- Using Petals over Sepal for training the data gives a much better accuracy.\n",
        "- This was expected as we saw in the heatmap above that the correlation between the Sepal Width and Length was very low whereas     the correlation between Petal Width and Length was very high."
      ]
    }
  ]
}