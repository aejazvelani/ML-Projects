{
  "nbformat": 4,
  "nbformat_minor": 0,
  "metadata": {
    "kernelspec": {
      "language": "python",
      "display_name": "Python 3",
      "name": "python3"
    },
    "language_info": {
      "pygments_lexer": "ipython3",
      "nbconvert_exporter": "python",
      "version": "3.6.4",
      "file_extension": ".py",
      "codemirror_mode": {
        "name": "ipython",
        "version": 3
      },
      "name": "python",
      "mimetype": "text/x-python"
    },
    "colab": {
      "name": "EDA on water quality of rivers based on pH.ipynb",
      "provenance": [],
      "collapsed_sections": [],
      "toc_visible": true
    }
  },
  "cells": [
    {
      "cell_type": "code",
      "metadata": {
        "trusted": true,
        "id": "acAmEXpoUwE0",
        "colab_type": "code",
        "colab": {
          "base_uri": "https://localhost:8080/",
          "height": 187
        },
        "outputId": "6f452397-4b53-413c-a46c-6ad03be422a3"
      },
      "source": [
        "!pip install pyforest"
      ],
      "execution_count": 2,
      "outputs": [
        {
          "output_type": "stream",
          "text": [
            "Collecting pyforest\n",
            "  Downloading https://files.pythonhosted.org/packages/8f/85/77a9d2d9ff240822039f3dfd7a3b374d0621a0df5feb5d270a2151f6bb6d/pyforest-1.0.3.tar.gz\n",
            "Building wheels for collected packages: pyforest\n",
            "  Building wheel for pyforest (setup.py) ... \u001b[?25l\u001b[?25hdone\n",
            "  Created wheel for pyforest: filename=pyforest-1.0.3-py2.py3-none-any.whl size=13715 sha256=7b2df5030b949ea78d092f9793d76078b7ca2b04d93e870c8a82ad7100513b4b\n",
            "  Stored in directory: /root/.cache/pip/wheels/af/0b/39/340a7f15fc8d4ff5ab50847b28789afea04452a9d51b9721b5\n",
            "Successfully built pyforest\n",
            "Installing collected packages: pyforest\n",
            "Successfully installed pyforest-1.0.3\n"
          ],
          "name": "stdout"
        }
      ]
    },
    {
      "cell_type": "code",
      "metadata": {
        "trusted": true,
        "id": "-nrShTDbUwE9",
        "colab_type": "code",
        "colab": {}
      },
      "source": [
        "#Import the libraries\n",
        "from pyforest import *"
      ],
      "execution_count": 3,
      "outputs": []
    },
    {
      "cell_type": "code",
      "metadata": {
        "trusted": true,
        "id": "qwULKZpfUwFH",
        "colab_type": "code",
        "colab": {
          "base_uri": "https://localhost:8080/",
          "height": 642
        },
        "outputId": "37d48752-9419-4be0-f6f5-ad0989065f9b"
      },
      "source": [
        "#Read the dataset\n",
        "df=pd.read_csv(\"waterquality.csv\", sep=',', engine='python')\n",
        "df"
      ],
      "execution_count": 6,
      "outputs": [
        {
          "output_type": "display_data",
          "data": {
            "application/javascript": [
              "\n",
              "        if (window._pyforest_update_imports_cell) { window._pyforest_update_imports_cell('import pandas as pd'); }\n",
              "    "
            ],
            "text/plain": [
              "<IPython.core.display.Javascript object>"
            ]
          },
          "metadata": {
            "tags": []
          }
        },
        {
          "output_type": "execute_result",
          "data": {
            "text/html": [
              "<div>\n",
              "<style scoped>\n",
              "    .dataframe tbody tr th:only-of-type {\n",
              "        vertical-align: middle;\n",
              "    }\n",
              "\n",
              "    .dataframe tbody tr th {\n",
              "        vertical-align: top;\n",
              "    }\n",
              "\n",
              "    .dataframe thead th {\n",
              "        text-align: right;\n",
              "    }\n",
              "</style>\n",
              "<table border=\"1\" class=\"dataframe\">\n",
              "  <thead>\n",
              "    <tr style=\"text-align: right;\">\n",
              "      <th></th>\n",
              "      <th>STATION CODE</th>\n",
              "      <th>LOCATIONS</th>\n",
              "      <th>STATE</th>\n",
              "      <th>TEMP</th>\n",
              "      <th>DO</th>\n",
              "      <th>pH</th>\n",
              "      <th>CONDUCTIVITY</th>\n",
              "      <th>BOD</th>\n",
              "      <th>NITRATE_N_NITRITE_N</th>\n",
              "      <th>FECAL_COLIFORM</th>\n",
              "      <th>TOTAL_COLIFORM</th>\n",
              "    </tr>\n",
              "  </thead>\n",
              "  <tbody>\n",
              "    <tr>\n",
              "      <th>0</th>\n",
              "      <td>1312</td>\n",
              "      <td>GODAVARI AT JAYAKWADI DAM, AURNAGABAD,MAHARASHTRA</td>\n",
              "      <td>MAHARASHTRA</td>\n",
              "      <td>29.2</td>\n",
              "      <td>6.4</td>\n",
              "      <td>8.1</td>\n",
              "      <td>735.0</td>\n",
              "      <td>3.4</td>\n",
              "      <td>2.00</td>\n",
              "      <td>3.0</td>\n",
              "      <td>73.0</td>\n",
              "    </tr>\n",
              "    <tr>\n",
              "      <th>1</th>\n",
              "      <td>2177</td>\n",
              "      <td>GODAVARI RIVER NEAR SOMESHWAR TEMPLE.</td>\n",
              "      <td>MAHARASHTRA</td>\n",
              "      <td>24.5</td>\n",
              "      <td>6.0</td>\n",
              "      <td>8.0</td>\n",
              "      <td>270.0</td>\n",
              "      <td>3.1</td>\n",
              "      <td>2.00</td>\n",
              "      <td>72.0</td>\n",
              "      <td>182.0</td>\n",
              "    </tr>\n",
              "    <tr>\n",
              "      <th>2</th>\n",
              "      <td>2182</td>\n",
              "      <td>GODAVARI RIVER AT SAIKHEDA.</td>\n",
              "      <td>MAHARASHTRA</td>\n",
              "      <td>25.8</td>\n",
              "      <td>5.5</td>\n",
              "      <td>7.8</td>\n",
              "      <td>355.0</td>\n",
              "      <td>4.2</td>\n",
              "      <td>9.00</td>\n",
              "      <td>59.0</td>\n",
              "      <td>133.0</td>\n",
              "    </tr>\n",
              "    <tr>\n",
              "      <th>3</th>\n",
              "      <td>2179</td>\n",
              "      <td>GODAVARI RIVER AT HANUMAN GHAT, NASHIK CITY.</td>\n",
              "      <td>MAHARASHTRA</td>\n",
              "      <td>24.8</td>\n",
              "      <td>5.5</td>\n",
              "      <td>7.8</td>\n",
              "      <td>371.0</td>\n",
              "      <td>5.6</td>\n",
              "      <td>3.55</td>\n",
              "      <td>90.0</td>\n",
              "      <td>283.0</td>\n",
              "    </tr>\n",
              "    <tr>\n",
              "      <th>4</th>\n",
              "      <td>2183</td>\n",
              "      <td>GODAVARI RIVER AT NANDUR- MADMESHWAR DAM.</td>\n",
              "      <td>MAHARASHTRA</td>\n",
              "      <td>25.7</td>\n",
              "      <td>5.7</td>\n",
              "      <td>7.9</td>\n",
              "      <td>294.0</td>\n",
              "      <td>3.2</td>\n",
              "      <td>2.69</td>\n",
              "      <td>45.0</td>\n",
              "      <td>132.0</td>\n",
              "    </tr>\n",
              "    <tr>\n",
              "      <th>...</th>\n",
              "      <td>...</td>\n",
              "      <td>...</td>\n",
              "      <td>...</td>\n",
              "      <td>...</td>\n",
              "      <td>...</td>\n",
              "      <td>...</td>\n",
              "      <td>...</td>\n",
              "      <td>...</td>\n",
              "      <td>...</td>\n",
              "      <td>...</td>\n",
              "      <td>...</td>\n",
              "    </tr>\n",
              "    <tr>\n",
              "      <th>529</th>\n",
              "      <td>2940</td>\n",
              "      <td>GAPE- SAGAR LAKE, DUNGARPUR, RAJASTHAN</td>\n",
              "      <td>RAJASTHAN</td>\n",
              "      <td>23.2</td>\n",
              "      <td>4.4</td>\n",
              "      <td>8.1</td>\n",
              "      <td>538.0</td>\n",
              "      <td>1.2</td>\n",
              "      <td>1.00</td>\n",
              "      <td>5.0</td>\n",
              "      <td>14.0</td>\n",
              "    </tr>\n",
              "    <tr>\n",
              "      <th>530</th>\n",
              "      <td>2941</td>\n",
              "      <td>LAKE JAISAMAND, SALUMBER, UDAIPUR, POINT NO. 1...</td>\n",
              "      <td>RAJASTHAN</td>\n",
              "      <td>22.9</td>\n",
              "      <td>5.6</td>\n",
              "      <td>8.4</td>\n",
              "      <td>591.0</td>\n",
              "      <td>1.1</td>\n",
              "      <td>3.00</td>\n",
              "      <td>4.0</td>\n",
              "      <td>8.0</td>\n",
              "    </tr>\n",
              "    <tr>\n",
              "      <th>531</th>\n",
              "      <td>2942</td>\n",
              "      <td>LAKE JAISAMAND, SALUMBER, UDAIPUR, POINT NO. 2...</td>\n",
              "      <td>RAJASTHAN</td>\n",
              "      <td>22.9</td>\n",
              "      <td>5.8</td>\n",
              "      <td>8.5</td>\n",
              "      <td>588.0</td>\n",
              "      <td>1.2</td>\n",
              "      <td>3.00</td>\n",
              "      <td>4.0</td>\n",
              "      <td>6.0</td>\n",
              "    </tr>\n",
              "    <tr>\n",
              "      <th>532</th>\n",
              "      <td>2943</td>\n",
              "      <td>LODHA TALAB, BANSWARA- DUNGARPUR ROAD, BANSWAR...</td>\n",
              "      <td>RAJASTHAN</td>\n",
              "      <td>28.7</td>\n",
              "      <td>4.1</td>\n",
              "      <td>7.9</td>\n",
              "      <td>1133.0</td>\n",
              "      <td>2.3</td>\n",
              "      <td>2.00</td>\n",
              "      <td>7.0</td>\n",
              "      <td>67.0</td>\n",
              "    </tr>\n",
              "    <tr>\n",
              "      <th>533</th>\n",
              "      <td>2944</td>\n",
              "      <td>JALMAHAL, JAIPUR, RAJASTHAN</td>\n",
              "      <td>RAJASTHAN</td>\n",
              "      <td>24.3</td>\n",
              "      <td>3.5</td>\n",
              "      <td>8.9</td>\n",
              "      <td>2004.0</td>\n",
              "      <td>6.5</td>\n",
              "      <td>1.00</td>\n",
              "      <td>13.0</td>\n",
              "      <td>248.0</td>\n",
              "    </tr>\n",
              "  </tbody>\n",
              "</table>\n",
              "<p>534 rows × 11 columns</p>\n",
              "</div>"
            ],
            "text/plain": [
              "     STATION CODE  ... TOTAL_COLIFORM\n",
              "0            1312  ...           73.0\n",
              "1            2177  ...          182.0\n",
              "2            2182  ...          133.0\n",
              "3            2179  ...          283.0\n",
              "4            2183  ...          132.0\n",
              "..            ...  ...            ...\n",
              "529          2940  ...           14.0\n",
              "530          2941  ...            8.0\n",
              "531          2942  ...            6.0\n",
              "532          2943  ...           67.0\n",
              "533          2944  ...          248.0\n",
              "\n",
              "[534 rows x 11 columns]"
            ]
          },
          "metadata": {
            "tags": []
          },
          "execution_count": 6
        }
      ]
    },
    {
      "cell_type": "code",
      "metadata": {
        "trusted": true,
        "id": "_y-n16SiUwFT",
        "colab_type": "code",
        "colab": {
          "base_uri": "https://localhost:8080/",
          "height": 217
        },
        "outputId": "a345b506-b70a-44b2-b4f2-23ceff889d48"
      },
      "source": [
        "#To check null values\n",
        "df.isnull().sum()"
      ],
      "execution_count": 7,
      "outputs": [
        {
          "output_type": "execute_result",
          "data": {
            "text/plain": [
              "STATION CODE            0\n",
              "LOCATIONS               0\n",
              "STATE                   0\n",
              "TEMP                    5\n",
              "DO                      2\n",
              "pH                      0\n",
              "CONDUCTIVITY           30\n",
              "BOD                     6\n",
              "NITRATE_N_NITRITE_N     2\n",
              "FECAL_COLIFORM         82\n",
              "TOTAL_COLIFORM         39\n",
              "dtype: int64"
            ]
          },
          "metadata": {
            "tags": []
          },
          "execution_count": 7
        }
      ]
    },
    {
      "cell_type": "code",
      "metadata": {
        "trusted": true,
        "id": "n6B4mMSDUwFZ",
        "colab_type": "code",
        "colab": {}
      },
      "source": [
        "#Fill null values with mean\n",
        "df= df.fillna(df.mean())"
      ],
      "execution_count": 9,
      "outputs": []
    },
    {
      "cell_type": "code",
      "metadata": {
        "trusted": true,
        "id": "ndr_ojYYUwFf",
        "colab_type": "code",
        "colab": {
          "base_uri": "https://localhost:8080/",
          "height": 333
        },
        "outputId": "dbc49ce1-afcd-438f-bfc1-bb4929a06861"
      },
      "source": [
        "#View top 10 rows of data\n",
        "df.head()"
      ],
      "execution_count": 10,
      "outputs": [
        {
          "output_type": "execute_result",
          "data": {
            "text/html": [
              "<div>\n",
              "<style scoped>\n",
              "    .dataframe tbody tr th:only-of-type {\n",
              "        vertical-align: middle;\n",
              "    }\n",
              "\n",
              "    .dataframe tbody tr th {\n",
              "        vertical-align: top;\n",
              "    }\n",
              "\n",
              "    .dataframe thead th {\n",
              "        text-align: right;\n",
              "    }\n",
              "</style>\n",
              "<table border=\"1\" class=\"dataframe\">\n",
              "  <thead>\n",
              "    <tr style=\"text-align: right;\">\n",
              "      <th></th>\n",
              "      <th>STATION CODE</th>\n",
              "      <th>LOCATIONS</th>\n",
              "      <th>STATE</th>\n",
              "      <th>TEMP</th>\n",
              "      <th>DO</th>\n",
              "      <th>pH</th>\n",
              "      <th>CONDUCTIVITY</th>\n",
              "      <th>BOD</th>\n",
              "      <th>NITRATE_N_NITRITE_N</th>\n",
              "      <th>FECAL_COLIFORM</th>\n",
              "      <th>TOTAL_COLIFORM</th>\n",
              "    </tr>\n",
              "  </thead>\n",
              "  <tbody>\n",
              "    <tr>\n",
              "      <th>0</th>\n",
              "      <td>1312</td>\n",
              "      <td>GODAVARI AT JAYAKWADI DAM, AURNAGABAD,MAHARASHTRA</td>\n",
              "      <td>MAHARASHTRA</td>\n",
              "      <td>29.2</td>\n",
              "      <td>6.4</td>\n",
              "      <td>8.1</td>\n",
              "      <td>735.0</td>\n",
              "      <td>3.4</td>\n",
              "      <td>2.00</td>\n",
              "      <td>3.0</td>\n",
              "      <td>73.0</td>\n",
              "    </tr>\n",
              "    <tr>\n",
              "      <th>1</th>\n",
              "      <td>2177</td>\n",
              "      <td>GODAVARI RIVER NEAR SOMESHWAR TEMPLE.</td>\n",
              "      <td>MAHARASHTRA</td>\n",
              "      <td>24.5</td>\n",
              "      <td>6.0</td>\n",
              "      <td>8.0</td>\n",
              "      <td>270.0</td>\n",
              "      <td>3.1</td>\n",
              "      <td>2.00</td>\n",
              "      <td>72.0</td>\n",
              "      <td>182.0</td>\n",
              "    </tr>\n",
              "    <tr>\n",
              "      <th>2</th>\n",
              "      <td>2182</td>\n",
              "      <td>GODAVARI RIVER AT SAIKHEDA.</td>\n",
              "      <td>MAHARASHTRA</td>\n",
              "      <td>25.8</td>\n",
              "      <td>5.5</td>\n",
              "      <td>7.8</td>\n",
              "      <td>355.0</td>\n",
              "      <td>4.2</td>\n",
              "      <td>9.00</td>\n",
              "      <td>59.0</td>\n",
              "      <td>133.0</td>\n",
              "    </tr>\n",
              "    <tr>\n",
              "      <th>3</th>\n",
              "      <td>2179</td>\n",
              "      <td>GODAVARI RIVER AT HANUMAN GHAT, NASHIK CITY.</td>\n",
              "      <td>MAHARASHTRA</td>\n",
              "      <td>24.8</td>\n",
              "      <td>5.5</td>\n",
              "      <td>7.8</td>\n",
              "      <td>371.0</td>\n",
              "      <td>5.6</td>\n",
              "      <td>3.55</td>\n",
              "      <td>90.0</td>\n",
              "      <td>283.0</td>\n",
              "    </tr>\n",
              "    <tr>\n",
              "      <th>4</th>\n",
              "      <td>2183</td>\n",
              "      <td>GODAVARI RIVER AT NANDUR- MADMESHWAR DAM.</td>\n",
              "      <td>MAHARASHTRA</td>\n",
              "      <td>25.7</td>\n",
              "      <td>5.7</td>\n",
              "      <td>7.9</td>\n",
              "      <td>294.0</td>\n",
              "      <td>3.2</td>\n",
              "      <td>2.69</td>\n",
              "      <td>45.0</td>\n",
              "      <td>132.0</td>\n",
              "    </tr>\n",
              "  </tbody>\n",
              "</table>\n",
              "</div>"
            ],
            "text/plain": [
              "   STATION CODE  ... TOTAL_COLIFORM\n",
              "0          1312  ...           73.0\n",
              "1          2177  ...          182.0\n",
              "2          2182  ...          133.0\n",
              "3          2179  ...          283.0\n",
              "4          2183  ...          132.0\n",
              "\n",
              "[5 rows x 11 columns]"
            ]
          },
          "metadata": {
            "tags": []
          },
          "execution_count": 10
        }
      ]
    },
    {
      "cell_type": "code",
      "metadata": {
        "trusted": true,
        "id": "JUmeSK6BUwFn",
        "colab_type": "code",
        "colab": {
          "base_uri": "https://localhost:8080/",
          "height": 217
        },
        "outputId": "cf0acedf-59dc-45a1-d919-5e386d7d16fa"
      },
      "source": [
        "df.isnull().sum()"
      ],
      "execution_count": 11,
      "outputs": [
        {
          "output_type": "execute_result",
          "data": {
            "text/plain": [
              "STATION CODE           0\n",
              "LOCATIONS              0\n",
              "STATE                  0\n",
              "TEMP                   0\n",
              "DO                     0\n",
              "pH                     0\n",
              "CONDUCTIVITY           0\n",
              "BOD                    0\n",
              "NITRATE_N_NITRITE_N    0\n",
              "FECAL_COLIFORM         0\n",
              "TOTAL_COLIFORM         0\n",
              "dtype: int64"
            ]
          },
          "metadata": {
            "tags": []
          },
          "execution_count": 11
        }
      ]
    },
    {
      "cell_type": "markdown",
      "metadata": {
        "id": "ect28y3gUwFu",
        "colab_type": "text"
      },
      "source": [
        "Plotting a correlation matrix to see the relation between different features\n",
        "\n",
        "Here positive values mean positively correlated i.e, if one increase then other also increases and vice versa"
      ]
    },
    {
      "cell_type": "code",
      "metadata": {
        "trusted": true,
        "id": "-0BVtH8NUwFv",
        "colab_type": "code",
        "colab": {
          "base_uri": "https://localhost:8080/",
          "height": 385
        },
        "outputId": "518d62ef-711f-47c6-ab37-2bd23040ebcb"
      },
      "source": [
        "#Correlaton matrix\n",
        "sns.heatmap(df.corr(),annot=True)"
      ],
      "execution_count": 12,
      "outputs": [
        {
          "output_type": "display_data",
          "data": {
            "application/javascript": [
              "\n",
              "        if (window._pyforest_update_imports_cell) { window._pyforest_update_imports_cell('import seaborn as sns\\nimport pandas as pd'); }\n",
              "    "
            ],
            "text/plain": [
              "<IPython.core.display.Javascript object>"
            ]
          },
          "metadata": {
            "tags": []
          }
        },
        {
          "output_type": "execute_result",
          "data": {
            "text/plain": [
              "<matplotlib.axes._subplots.AxesSubplot at 0x7f9041ad4d68>"
            ]
          },
          "metadata": {
            "tags": []
          },
          "execution_count": 12
        },
        {
          "output_type": "display_data",
          "data": {
            "image/png": "[encoded data removed]",
            "text/plain": [
              "<Figure size 432x288 with 2 Axes>"
            ]
          },
          "metadata": {
            "tags": [],
            "needs_background": "light"
          }
        }
      ]
    },
    {
      "cell_type": "markdown",
      "metadata": {
        "id": "xmddBpQRUwF1",
        "colab_type": "text"
      },
      "source": [
        "Pairplot of df"
      ]
    },
    {
      "cell_type": "code",
      "metadata": {
        "trusted": true,
        "id": "8TrfN-uKUwF2",
        "colab_type": "code",
        "colab": {}
      },
      "source": [
        "#Drop the columns\n",
        "df= df.drop(\"STATION CODE\", axis=1)"
      ],
      "execution_count": 13,
      "outputs": []
    },
    {
      "cell_type": "code",
      "metadata": {
        "trusted": true,
        "id": "stti2z36UwF7",
        "colab_type": "code",
        "colab": {
          "base_uri": "https://localhost:8080/",
          "height": 317
        },
        "outputId": "1742ed5f-5a92-442e-a867-370b8ad550c7"
      },
      "source": [
        "df.head()"
      ],
      "execution_count": 14,
      "outputs": [
        {
          "output_type": "execute_result",
          "data": {
            "text/html": [
              "<div>\n",
              "<style scoped>\n",
              "    .dataframe tbody tr th:only-of-type {\n",
              "        vertical-align: middle;\n",
              "    }\n",
              "\n",
              "    .dataframe tbody tr th {\n",
              "        vertical-align: top;\n",
              "    }\n",
              "\n",
              "    .dataframe thead th {\n",
              "        text-align: right;\n",
              "    }\n",
              "</style>\n",
              "<table border=\"1\" class=\"dataframe\">\n",
              "  <thead>\n",
              "    <tr style=\"text-align: right;\">\n",
              "      <th></th>\n",
              "      <th>LOCATIONS</th>\n",
              "      <th>STATE</th>\n",
              "      <th>TEMP</th>\n",
              "      <th>DO</th>\n",
              "      <th>pH</th>\n",
              "      <th>CONDUCTIVITY</th>\n",
              "      <th>BOD</th>\n",
              "      <th>NITRATE_N_NITRITE_N</th>\n",
              "      <th>FECAL_COLIFORM</th>\n",
              "      <th>TOTAL_COLIFORM</th>\n",
              "    </tr>\n",
              "  </thead>\n",
              "  <tbody>\n",
              "    <tr>\n",
              "      <th>0</th>\n",
              "      <td>GODAVARI AT JAYAKWADI DAM, AURNAGABAD,MAHARASHTRA</td>\n",
              "      <td>MAHARASHTRA</td>\n",
              "      <td>29.2</td>\n",
              "      <td>6.4</td>\n",
              "      <td>8.1</td>\n",
              "      <td>735.0</td>\n",
              "      <td>3.4</td>\n",
              "      <td>2.00</td>\n",
              "      <td>3.0</td>\n",
              "      <td>73.0</td>\n",
              "    </tr>\n",
              "    <tr>\n",
              "      <th>1</th>\n",
              "      <td>GODAVARI RIVER NEAR SOMESHWAR TEMPLE.</td>\n",
              "      <td>MAHARASHTRA</td>\n",
              "      <td>24.5</td>\n",
              "      <td>6.0</td>\n",
              "      <td>8.0</td>\n",
              "      <td>270.0</td>\n",
              "      <td>3.1</td>\n",
              "      <td>2.00</td>\n",
              "      <td>72.0</td>\n",
              "      <td>182.0</td>\n",
              "    </tr>\n",
              "    <tr>\n",
              "      <th>2</th>\n",
              "      <td>GODAVARI RIVER AT SAIKHEDA.</td>\n",
              "      <td>MAHARASHTRA</td>\n",
              "      <td>25.8</td>\n",
              "      <td>5.5</td>\n",
              "      <td>7.8</td>\n",
              "      <td>355.0</td>\n",
              "      <td>4.2</td>\n",
              "      <td>9.00</td>\n",
              "      <td>59.0</td>\n",
              "      <td>133.0</td>\n",
              "    </tr>\n",
              "    <tr>\n",
              "      <th>3</th>\n",
              "      <td>GODAVARI RIVER AT HANUMAN GHAT, NASHIK CITY.</td>\n",
              "      <td>MAHARASHTRA</td>\n",
              "      <td>24.8</td>\n",
              "      <td>5.5</td>\n",
              "      <td>7.8</td>\n",
              "      <td>371.0</td>\n",
              "      <td>5.6</td>\n",
              "      <td>3.55</td>\n",
              "      <td>90.0</td>\n",
              "      <td>283.0</td>\n",
              "    </tr>\n",
              "    <tr>\n",
              "      <th>4</th>\n",
              "      <td>GODAVARI RIVER AT NANDUR- MADMESHWAR DAM.</td>\n",
              "      <td>MAHARASHTRA</td>\n",
              "      <td>25.7</td>\n",
              "      <td>5.7</td>\n",
              "      <td>7.9</td>\n",
              "      <td>294.0</td>\n",
              "      <td>3.2</td>\n",
              "      <td>2.69</td>\n",
              "      <td>45.0</td>\n",
              "      <td>132.0</td>\n",
              "    </tr>\n",
              "  </tbody>\n",
              "</table>\n",
              "</div>"
            ],
            "text/plain": [
              "                                           LOCATIONS  ... TOTAL_COLIFORM\n",
              "0  GODAVARI AT JAYAKWADI DAM, AURNAGABAD,MAHARASHTRA  ...           73.0\n",
              "1              GODAVARI RIVER NEAR SOMESHWAR TEMPLE.  ...          182.0\n",
              "2                        GODAVARI RIVER AT SAIKHEDA.  ...          133.0\n",
              "3       GODAVARI RIVER AT HANUMAN GHAT, NASHIK CITY.  ...          283.0\n",
              "4          GODAVARI RIVER AT NANDUR- MADMESHWAR DAM.  ...          132.0\n",
              "\n",
              "[5 rows x 10 columns]"
            ]
          },
          "metadata": {
            "tags": []
          },
          "execution_count": 14
        }
      ]
    },
    {
      "cell_type": "code",
      "metadata": {
        "trusted": true,
        "id": "KHWQQYr8UwGC",
        "colab_type": "code",
        "colab": {
          "base_uri": "https://localhost:8080/",
          "height": 997
        },
        "outputId": "9c3f5db2-eab0-4f52-9918-504ff36a6706"
      },
      "source": [
        "#Visualize using pairplot \n",
        "sns.pairplot(df)"
      ],
      "execution_count": 15,
      "outputs": [
        {
          "output_type": "display_data",
          "data": {
            "application/javascript": [
              "\n",
              "        if (window._pyforest_update_imports_cell) { window._pyforest_update_imports_cell('import seaborn as sns\\nimport pandas as pd'); }\n",
              "    "
            ],
            "text/plain": [
              "<IPython.core.display.Javascript object>"
            ]
          },
          "metadata": {
            "tags": []
          }
        },
        {
          "output_type": "execute_result",
          "data": {
            "text/plain": [
              "<seaborn.axisgrid.PairGrid at 0x7f904c6e0278>"
            ]
          },
          "metadata": {
            "tags": []
          },
          "execution_count": 15
        },
        {
          "output_type": "display_data",
          "data": {
            "image/png": "[encoded data removed]",
            "text/plain": [
              "<Figure size 1440x1440 with 72 Axes>"
            ]
          },
          "metadata": {
            "tags": [],
            "needs_background": "light"
          }
        }
      ]
    },
    {
      "cell_type": "markdown",
      "metadata": {
        "id": "BnvkTDIfUwGI",
        "colab_type": "text"
      },
      "source": [
        "# Separating the pH column and using q values for the column separately"
      ]
    },
    {
      "cell_type": "markdown",
      "metadata": {
        "id": "F0DRcJM0UwGJ",
        "colab_type": "text"
      },
      "source": [
        "## The pH of river water is the measure of how acidic or basic the water is on a scale of 0-14. It is a measure of hydrogen ion concentration.The optimum pH for river water is around 7.4.\n"
      ]
    },
    {
      "cell_type": "code",
      "metadata": {
        "trusted": true,
        "id": "hftjSVtTUwGK",
        "colab_type": "code",
        "colab": {
          "base_uri": "https://localhost:8080/",
          "height": 569
        },
        "outputId": "12b01b99-e2c2-4ca8-f23a-85a967eca034"
      },
      "source": [
        "ph= df[\"pH\"]\n",
        "ph.value_counts(10)"
      ],
      "execution_count": 25,
      "outputs": [
        {
          "output_type": "execute_result",
          "data": {
            "text/plain": [
              "7.9     0.112360\n",
              "8.1     0.101124\n",
              "8.0     0.099251\n",
              "8.2     0.080524\n",
              "7.7     0.073034\n",
              "7.8     0.069288\n",
              "7.5     0.067416\n",
              "7.4     0.061798\n",
              "7.6     0.054307\n",
              "7.3     0.041199\n",
              "8.3     0.037453\n",
              "8.4     0.033708\n",
              "7.2     0.028090\n",
              "7.1     0.020599\n",
              "7.0     0.016854\n",
              "6.9     0.016854\n",
              "6.8     0.014981\n",
              "8.5     0.014981\n",
              "6.7     0.013109\n",
              "6.6     0.005618\n",
              "6.5     0.005618\n",
              "8.6     0.005618\n",
              "6.4     0.005618\n",
              "8.7     0.003745\n",
              "9.0     0.003745\n",
              "14.7    0.001873\n",
              "9.1     0.001873\n",
              "6.3     0.001873\n",
              "8.8     0.001873\n",
              "13.7    0.001873\n",
              "8.9     0.001873\n",
              "13.2    0.001873\n",
              "Name: pH, dtype: float64"
            ]
          },
          "metadata": {
            "tags": []
          },
          "execution_count": 25
        }
      ]
    },
    {
      "cell_type": "code",
      "metadata": {
        "trusted": true,
        "id": "R4TPrkewUwGV",
        "colab_type": "code",
        "colab": {
          "base_uri": "https://localhost:8080/",
          "height": 404
        },
        "outputId": "9a2d4b5d-daaf-4d4e-d5df-18582c0758e5"
      },
      "source": [
        "#View as Dataframe\n",
        "PH= pd.DataFrame(ph, index=None)\n",
        "PH"
      ],
      "execution_count": 20,
      "outputs": [
        {
          "output_type": "display_data",
          "data": {
            "application/javascript": [
              "\n",
              "        if (window._pyforest_update_imports_cell) { window._pyforest_update_imports_cell('import pickle\\nimport seaborn as sns\\nimport plotly.express as px\\nimport plotly as py\\nimport matplotlib.pyplot as plt\\nimport pydot\\nfrom pathlib import Path\\nimport pandas as pd'); }\n",
              "    "
            ],
            "text/plain": [
              "<IPython.core.display.Javascript object>"
            ]
          },
          "metadata": {
            "tags": []
          }
        },
        {
          "output_type": "execute_result",
          "data": {
            "text/html": [
              "<div>\n",
              "<style scoped>\n",
              "    .dataframe tbody tr th:only-of-type {\n",
              "        vertical-align: middle;\n",
              "    }\n",
              "\n",
              "    .dataframe tbody tr th {\n",
              "        vertical-align: top;\n",
              "    }\n",
              "\n",
              "    .dataframe thead th {\n",
              "        text-align: right;\n",
              "    }\n",
              "</style>\n",
              "<table border=\"1\" class=\"dataframe\">\n",
              "  <thead>\n",
              "    <tr style=\"text-align: right;\">\n",
              "      <th></th>\n",
              "      <th>pH</th>\n",
              "    </tr>\n",
              "  </thead>\n",
              "  <tbody>\n",
              "    <tr>\n",
              "      <th>0</th>\n",
              "      <td>8.1</td>\n",
              "    </tr>\n",
              "    <tr>\n",
              "      <th>1</th>\n",
              "      <td>8.0</td>\n",
              "    </tr>\n",
              "    <tr>\n",
              "      <th>2</th>\n",
              "      <td>7.8</td>\n",
              "    </tr>\n",
              "    <tr>\n",
              "      <th>3</th>\n",
              "      <td>7.8</td>\n",
              "    </tr>\n",
              "    <tr>\n",
              "      <th>4</th>\n",
              "      <td>7.9</td>\n",
              "    </tr>\n",
              "    <tr>\n",
              "      <th>...</th>\n",
              "      <td>...</td>\n",
              "    </tr>\n",
              "    <tr>\n",
              "      <th>529</th>\n",
              "      <td>8.1</td>\n",
              "    </tr>\n",
              "    <tr>\n",
              "      <th>530</th>\n",
              "      <td>8.4</td>\n",
              "    </tr>\n",
              "    <tr>\n",
              "      <th>531</th>\n",
              "      <td>8.5</td>\n",
              "    </tr>\n",
              "    <tr>\n",
              "      <th>532</th>\n",
              "      <td>7.9</td>\n",
              "    </tr>\n",
              "    <tr>\n",
              "      <th>533</th>\n",
              "      <td>8.9</td>\n",
              "    </tr>\n",
              "  </tbody>\n",
              "</table>\n",
              "<p>534 rows × 1 columns</p>\n",
              "</div>"
            ],
            "text/plain": [
              "      pH\n",
              "0    8.1\n",
              "1    8.0\n",
              "2    7.8\n",
              "3    7.8\n",
              "4    7.9\n",
              "..   ...\n",
              "529  8.1\n",
              "530  8.4\n",
              "531  8.5\n",
              "532  7.9\n",
              "533  8.9\n",
              "\n",
              "[534 rows x 1 columns]"
            ]
          },
          "metadata": {
            "tags": []
          },
          "execution_count": 20
        }
      ]
    },
    {
      "cell_type": "code",
      "metadata": {
        "trusted": true,
        "id": "L7D8mXVsUwGZ",
        "colab_type": "code",
        "colab": {
          "base_uri": "https://localhost:8080/",
          "height": 196
        },
        "outputId": "0c1e0b45-ac41-4dc1-a1a5-04433325a815"
      },
      "source": [
        "#First 5 columns of PH Data\n",
        "PH.head()"
      ],
      "execution_count": 22,
      "outputs": [
        {
          "output_type": "execute_result",
          "data": {
            "text/html": [
              "<div>\n",
              "<style scoped>\n",
              "    .dataframe tbody tr th:only-of-type {\n",
              "        vertical-align: middle;\n",
              "    }\n",
              "\n",
              "    .dataframe tbody tr th {\n",
              "        vertical-align: top;\n",
              "    }\n",
              "\n",
              "    .dataframe thead th {\n",
              "        text-align: right;\n",
              "    }\n",
              "</style>\n",
              "<table border=\"1\" class=\"dataframe\">\n",
              "  <thead>\n",
              "    <tr style=\"text-align: right;\">\n",
              "      <th></th>\n",
              "      <th>pH</th>\n",
              "    </tr>\n",
              "  </thead>\n",
              "  <tbody>\n",
              "    <tr>\n",
              "      <th>0</th>\n",
              "      <td>8.1</td>\n",
              "    </tr>\n",
              "    <tr>\n",
              "      <th>1</th>\n",
              "      <td>8.0</td>\n",
              "    </tr>\n",
              "    <tr>\n",
              "      <th>2</th>\n",
              "      <td>7.8</td>\n",
              "    </tr>\n",
              "    <tr>\n",
              "      <th>3</th>\n",
              "      <td>7.8</td>\n",
              "    </tr>\n",
              "    <tr>\n",
              "      <th>4</th>\n",
              "      <td>7.9</td>\n",
              "    </tr>\n",
              "  </tbody>\n",
              "</table>\n",
              "</div>"
            ],
            "text/plain": [
              "    pH\n",
              "0  8.1\n",
              "1  8.0\n",
              "2  7.8\n",
              "3  7.8\n",
              "4  7.9"
            ]
          },
          "metadata": {
            "tags": []
          },
          "execution_count": 22
        }
      ]
    },
    {
      "cell_type": "code",
      "metadata": {
        "trusted": true,
        "id": "_6SHL6krUwGe",
        "colab_type": "code",
        "colab": {
          "base_uri": "https://localhost:8080/",
          "height": 569
        },
        "outputId": "74863311-6440-41b0-c48b-727de9997cd5"
      },
      "source": [
        "PH.pH.value_counts()"
      ],
      "execution_count": 23,
      "outputs": [
        {
          "output_type": "execute_result",
          "data": {
            "text/plain": [
              "7.9     60\n",
              "8.1     54\n",
              "8.0     53\n",
              "8.2     43\n",
              "7.7     39\n",
              "7.8     37\n",
              "7.5     36\n",
              "7.4     33\n",
              "7.6     29\n",
              "7.3     22\n",
              "8.3     20\n",
              "8.4     18\n",
              "7.2     15\n",
              "7.1     11\n",
              "7.0      9\n",
              "6.9      9\n",
              "6.8      8\n",
              "8.5      8\n",
              "6.7      7\n",
              "6.6      3\n",
              "6.5      3\n",
              "8.6      3\n",
              "6.4      3\n",
              "8.7      2\n",
              "9.0      2\n",
              "14.7     1\n",
              "9.1      1\n",
              "6.3      1\n",
              "8.8      1\n",
              "13.7     1\n",
              "8.9      1\n",
              "13.2     1\n",
              "Name: pH, dtype: int64"
            ]
          },
          "metadata": {
            "tags": []
          },
          "execution_count": 23
        }
      ]
    },
    {
      "cell_type": "markdown",
      "metadata": {
        "id": "F6jc7C2TUwGn",
        "colab_type": "text"
      },
      "source": [
        "generating the q values by using a specific range from the q table"
      ]
    },
    {
      "cell_type": "code",
      "metadata": {
        "trusted": true,
        "id": "N1Nm3ny2UwGo",
        "colab_type": "code",
        "colab": {
          "base_uri": "https://localhost:8080/",
          "height": 196
        },
        "outputId": "007ff07f-303f-43ad-f64f-0cb56a94f48b"
      },
      "source": [
        "PH[\"QI\"]=PH.replace(to_replace =6.4, value =54)\n",
        "PH.head()"
      ],
      "execution_count": 28,
      "outputs": [
        {
          "output_type": "execute_result",
          "data": {
            "text/html": [
              "<div>\n",
              "<style scoped>\n",
              "    .dataframe tbody tr th:only-of-type {\n",
              "        vertical-align: middle;\n",
              "    }\n",
              "\n",
              "    .dataframe tbody tr th {\n",
              "        vertical-align: top;\n",
              "    }\n",
              "\n",
              "    .dataframe thead th {\n",
              "        text-align: right;\n",
              "    }\n",
              "</style>\n",
              "<table border=\"1\" class=\"dataframe\">\n",
              "  <thead>\n",
              "    <tr style=\"text-align: right;\">\n",
              "      <th></th>\n",
              "      <th>pH</th>\n",
              "      <th>QI</th>\n",
              "    </tr>\n",
              "  </thead>\n",
              "  <tbody>\n",
              "    <tr>\n",
              "      <th>0</th>\n",
              "      <td>8.1</td>\n",
              "      <td>8.1</td>\n",
              "    </tr>\n",
              "    <tr>\n",
              "      <th>1</th>\n",
              "      <td>8.0</td>\n",
              "      <td>8.0</td>\n",
              "    </tr>\n",
              "    <tr>\n",
              "      <th>2</th>\n",
              "      <td>7.8</td>\n",
              "      <td>7.8</td>\n",
              "    </tr>\n",
              "    <tr>\n",
              "      <th>3</th>\n",
              "      <td>7.8</td>\n",
              "      <td>7.8</td>\n",
              "    </tr>\n",
              "    <tr>\n",
              "      <th>4</th>\n",
              "      <td>7.9</td>\n",
              "      <td>7.9</td>\n",
              "    </tr>\n",
              "  </tbody>\n",
              "</table>\n",
              "</div>"
            ],
            "text/plain": [
              "    pH   QI\n",
              "0  8.1  8.1\n",
              "1  8.0  8.0\n",
              "2  7.8  7.8\n",
              "3  7.8  7.8\n",
              "4  7.9  7.9"
            ]
          },
          "metadata": {
            "tags": []
          },
          "execution_count": 28
        }
      ]
    },
    {
      "cell_type": "code",
      "metadata": {
        "trusted": true,
        "id": "8ySA6RJ6UwGz",
        "colab_type": "code",
        "colab": {}
      },
      "source": [
        "PH[\"QI\"]=PH[\"QI\"].replace(to_replace =[6.5,6.7,6.8,6.9],  \n",
        "                            value =75)\n",
        "\n",
        "PH[\"QI\"]=PH[\"QI\"].replace(to_replace =[7.0,7.1,7.2,7.3,7.4],  \n",
        "                            value =80)\n",
        "\n",
        "PH[\"QI\"]=PH[\"QI\"].replace(to_replace =[7.5,7.6,7.7,7.8,7.9],  \n",
        "                            value =95)\n",
        "\n",
        "PH[\"QI\"]=PH[\"QI\"].replace(to_replace =[8.0,8.1,8.2,8.3,8.4],  \n",
        "                            value =85)\n",
        "\n",
        "PH[\"QI\"]=PH[\"QI\"].replace(to_replace =[8.5,8.6,8.7,8.8,8.9],  \n",
        "                            value =65)\n",
        "\n",
        "PH[\"QI\"]=PH[\"QI\"].replace(to_replace =[9.0,9.1,9.2,9.3,9.4],  \n",
        "                            value =48)\n",
        "\n",
        "PH[\"QI\"]=PH[\"QI\"].replace(to_replace =[9.5,9.6,9.7,9.8,9.9],  \n",
        "                            value =30)\n",
        "\n",
        "PH[\"QI\"]=PH[\"QI\"].replace(to_replace =[10.0,10.1,10.2,10.3,10.4],  \n",
        "                            value =20)\n",
        "\n",
        "PH[\"QI\"]=PH[\"QI\"].replace(to_replace =[10.5,10.6,10.7,10.8,10.9],  \n",
        "                            value =12)\n",
        "\n",
        "PH[\"QI\"]=PH[\"QI\"].replace(to_replace =[11.0,11.1,11.2,11.3,11.4],  \n",
        "                            value =8)\n",
        "\n",
        "PH[\"QI\"]=PH[\"QI\"].replace(to_replace =[11.5,11.6,11.7,11.8,11.9],  \n",
        "                            value =4)\n",
        "\n",
        "PH[\"QI\"]=PH[\"QI\"].replace(to_replace =[12.0,12.1,12.2,12.3,12.4,12.5,12.6,12.7,12.8,12.9,13.0,13.1,13.2,13.3,13.4,13.5,13.6,13.7,13.8],  \n",
        "                            value =75)\n",
        "\n"
      ],
      "execution_count": 29,
      "outputs": []
    },
    {
      "cell_type": "code",
      "metadata": {
        "trusted": true,
        "id": "rNe7byxXUwG4",
        "colab_type": "code",
        "colab": {
          "base_uri": "https://localhost:8080/",
          "height": 201
        },
        "outputId": "7651dd89-a37a-4e0a-e5cf-d6a7c2385ab1"
      },
      "source": [
        "PH[\"QI\"].value_counts()"
      ],
      "execution_count": 30,
      "outputs": [
        {
          "output_type": "execute_result",
          "data": {
            "text/plain": [
              "95.0    201\n",
              "85.0    188\n",
              "80.0     90\n",
              "75.0     29\n",
              "65.0     15\n",
              "6.6       3\n",
              "54.0      3\n",
              "48.0      3\n",
              "14.7      1\n",
              "6.3       1\n",
              "Name: QI, dtype: int64"
            ]
          },
          "metadata": {
            "tags": []
          },
          "execution_count": 30
        }
      ]
    },
    {
      "cell_type": "code",
      "metadata": {
        "trusted": true,
        "id": "H-Rn2GIAUwG-",
        "colab_type": "code",
        "colab": {
          "base_uri": "https://localhost:8080/",
          "height": 201
        },
        "outputId": "c28a963c-5f30-4e1e-8f67-be7d39d2c3b5"
      },
      "source": [
        "PH.head(), PH.tail()"
      ],
      "execution_count": 40,
      "outputs": [
        {
          "output_type": "execute_result",
          "data": {
            "text/plain": [
              "(    pH    QI\n",
              " 0  8.1  85.0\n",
              " 1  8.0  85.0\n",
              " 2  7.8  95.0\n",
              " 3  7.8  95.0\n",
              " 4  7.9  95.0,       pH    QI\n",
              " 529  8.1  85.0\n",
              " 530  8.4  85.0\n",
              " 531  8.5  65.0\n",
              " 532  7.9  95.0\n",
              " 533  8.9  65.0)"
            ]
          },
          "metadata": {
            "tags": []
          },
          "execution_count": 40
        }
      ]
    },
    {
      "cell_type": "code",
      "metadata": {
        "trusted": true,
        "id": "bcpFk3--UwHD",
        "colab_type": "code",
        "colab": {
          "base_uri": "https://localhost:8080/",
          "height": 457
        },
        "outputId": "6b344c02-2d71-404a-f8f1-e085119c5927"
      },
      "source": [
        "sns.jointplot(x=\"pH\", y=\"QI\", data=PH, kind=\"reg\")"
      ],
      "execution_count": 41,
      "outputs": [
        {
          "output_type": "display_data",
          "data": {
            "application/javascript": [
              "\n",
              "        if (window._pyforest_update_imports_cell) { window._pyforest_update_imports_cell('import pickle\\nimport seaborn as sns\\nimport plotly.express as px\\nimport plotly as py\\nimport matplotlib.pyplot as plt\\nimport pydot\\nfrom pathlib import Path\\nimport pandas as pd'); }\n",
              "    "
            ],
            "text/plain": [
              "<IPython.core.display.Javascript object>"
            ]
          },
          "metadata": {
            "tags": []
          }
        },
        {
          "output_type": "execute_result",
          "data": {
            "text/plain": [
              "<seaborn.axisgrid.JointGrid at 0x7f903988de10>"
            ]
          },
          "metadata": {
            "tags": []
          },
          "execution_count": 41
        },
        {
          "output_type": "display_data",
          "data": {
            "image/png": "[encoded data removed]",
            "text/plain": [
              "<Figure size 432x432 with 3 Axes>"
            ]
          },
          "metadata": {
            "tags": [],
            "needs_background": "light"
          }
        }
      ]
    },
    {
      "cell_type": "markdown",
      "metadata": {
        "id": "LvYIzL-CUwHK",
        "colab_type": "text"
      },
      "source": [
        "From above we can see that maximum of the river water pH lies b/w 6.5 and 8.5 and QI lies b/w 80 and 100"
      ]
    },
    {
      "cell_type": "code",
      "metadata": {
        "trusted": true,
        "id": "jSRjNpxFUwHL",
        "colab_type": "code",
        "colab": {
          "base_uri": "https://localhost:8080/",
          "height": 299
        },
        "outputId": "87de225c-9165-4237-a9f4-dd768e68848a"
      },
      "source": [
        "sns.distplot(PH[\"pH\"], kde=True, bins=10)"
      ],
      "execution_count": 47,
      "outputs": [
        {
          "output_type": "display_data",
          "data": {
            "application/javascript": [
              "\n",
              "        if (window._pyforest_update_imports_cell) { window._pyforest_update_imports_cell('import pickle\\nimport seaborn as sns\\nimport plotly.express as px\\nimport plotly as py\\nimport matplotlib.pyplot as plt\\nimport altair as alt\\nimport pydot\\nfrom pathlib import Path\\nimport bokeh\\nimport pandas as pd'); }\n",
              "    "
            ],
            "text/plain": [
              "<IPython.core.display.Javascript object>"
            ]
          },
          "metadata": {
            "tags": []
          }
        },
        {
          "output_type": "execute_result",
          "data": {
            "text/plain": [
              "<matplotlib.axes._subplots.AxesSubplot at 0x7f9037838e80>"
            ]
          },
          "metadata": {
            "tags": []
          },
          "execution_count": 47
        },
        {
          "output_type": "display_data",
          "data": {
            "image/png": "[encoded data removed]",
            "text/plain": [
              "<Figure size 432x288 with 1 Axes>"
            ]
          },
          "metadata": {
            "tags": [],
            "needs_background": "light"
          }
        }
      ]
    },
    {
      "cell_type": "markdown",
      "metadata": {
        "id": "qoMmWdULUwHT",
        "colab_type": "text"
      },
      "source": [
        "concatenating qi values from ph with state"
      ]
    },
    {
      "cell_type": "code",
      "metadata": {
        "trusted": true,
        "id": "wMQBQpL7UwHU",
        "colab_type": "code",
        "colab": {
          "base_uri": "https://localhost:8080/",
          "height": 196
        },
        "outputId": "07f81b1d-1253-440e-ec55-56b971856bfd"
      },
      "source": [
        "ls= df[[\"LOCATIONS\",\"STATE\"]]\n",
        "ls.head()"
      ],
      "execution_count": 44,
      "outputs": [
        {
          "output_type": "execute_result",
          "data": {
            "text/html": [
              "<div>\n",
              "<style scoped>\n",
              "    .dataframe tbody tr th:only-of-type {\n",
              "        vertical-align: middle;\n",
              "    }\n",
              "\n",
              "    .dataframe tbody tr th {\n",
              "        vertical-align: top;\n",
              "    }\n",
              "\n",
              "    .dataframe thead th {\n",
              "        text-align: right;\n",
              "    }\n",
              "</style>\n",
              "<table border=\"1\" class=\"dataframe\">\n",
              "  <thead>\n",
              "    <tr style=\"text-align: right;\">\n",
              "      <th></th>\n",
              "      <th>LOCATIONS</th>\n",
              "      <th>STATE</th>\n",
              "    </tr>\n",
              "  </thead>\n",
              "  <tbody>\n",
              "    <tr>\n",
              "      <th>0</th>\n",
              "      <td>GODAVARI AT JAYAKWADI DAM, AURNAGABAD,MAHARASHTRA</td>\n",
              "      <td>MAHARASHTRA</td>\n",
              "    </tr>\n",
              "    <tr>\n",
              "      <th>1</th>\n",
              "      <td>GODAVARI RIVER NEAR SOMESHWAR TEMPLE.</td>\n",
              "      <td>MAHARASHTRA</td>\n",
              "    </tr>\n",
              "    <tr>\n",
              "      <th>2</th>\n",
              "      <td>GODAVARI RIVER AT SAIKHEDA.</td>\n",
              "      <td>MAHARASHTRA</td>\n",
              "    </tr>\n",
              "    <tr>\n",
              "      <th>3</th>\n",
              "      <td>GODAVARI RIVER AT HANUMAN GHAT, NASHIK CITY.</td>\n",
              "      <td>MAHARASHTRA</td>\n",
              "    </tr>\n",
              "    <tr>\n",
              "      <th>4</th>\n",
              "      <td>GODAVARI RIVER AT NANDUR- MADMESHWAR DAM.</td>\n",
              "      <td>MAHARASHTRA</td>\n",
              "    </tr>\n",
              "  </tbody>\n",
              "</table>\n",
              "</div>"
            ],
            "text/plain": [
              "                                           LOCATIONS        STATE\n",
              "0  GODAVARI AT JAYAKWADI DAM, AURNAGABAD,MAHARASHTRA  MAHARASHTRA\n",
              "1              GODAVARI RIVER NEAR SOMESHWAR TEMPLE.  MAHARASHTRA\n",
              "2                        GODAVARI RIVER AT SAIKHEDA.  MAHARASHTRA\n",
              "3       GODAVARI RIVER AT HANUMAN GHAT, NASHIK CITY.  MAHARASHTRA\n",
              "4          GODAVARI RIVER AT NANDUR- MADMESHWAR DAM.  MAHARASHTRA"
            ]
          },
          "metadata": {
            "tags": []
          },
          "execution_count": 44
        }
      ]
    },
    {
      "cell_type": "code",
      "metadata": {
        "trusted": true,
        "id": "W8dyyAEiUwHi",
        "colab_type": "code",
        "colab": {
          "base_uri": "https://localhost:8080/",
          "height": 196
        },
        "outputId": "31616bc1-5376-4f3b-eae1-615a09675027"
      },
      "source": [
        "df_col_merged = pd.concat([ls, PH], axis=1)\n",
        "df_col_merged.head()"
      ],
      "execution_count": 45,
      "outputs": [
        {
          "output_type": "display_data",
          "data": {
            "application/javascript": [
              "\n",
              "        if (window._pyforest_update_imports_cell) { window._pyforest_update_imports_cell('import pickle\\nimport seaborn as sns\\nimport plotly.express as px\\nimport plotly as py\\nimport matplotlib.pyplot as plt\\nimport altair as alt\\nimport pydot\\nfrom pathlib import Path\\nimport bokeh\\nimport pandas as pd'); }\n",
              "    "
            ],
            "text/plain": [
              "<IPython.core.display.Javascript object>"
            ]
          },
          "metadata": {
            "tags": []
          }
        },
        {
          "output_type": "execute_result",
          "data": {
            "text/html": [
              "<div>\n",
              "<style scoped>\n",
              "    .dataframe tbody tr th:only-of-type {\n",
              "        vertical-align: middle;\n",
              "    }\n",
              "\n",
              "    .dataframe tbody tr th {\n",
              "        vertical-align: top;\n",
              "    }\n",
              "\n",
              "    .dataframe thead th {\n",
              "        text-align: right;\n",
              "    }\n",
              "</style>\n",
              "<table border=\"1\" class=\"dataframe\">\n",
              "  <thead>\n",
              "    <tr style=\"text-align: right;\">\n",
              "      <th></th>\n",
              "      <th>LOCATIONS</th>\n",
              "      <th>STATE</th>\n",
              "      <th>pH</th>\n",
              "      <th>QI</th>\n",
              "    </tr>\n",
              "  </thead>\n",
              "  <tbody>\n",
              "    <tr>\n",
              "      <th>0</th>\n",
              "      <td>GODAVARI AT JAYAKWADI DAM, AURNAGABAD,MAHARASHTRA</td>\n",
              "      <td>MAHARASHTRA</td>\n",
              "      <td>8.1</td>\n",
              "      <td>85.0</td>\n",
              "    </tr>\n",
              "    <tr>\n",
              "      <th>1</th>\n",
              "      <td>GODAVARI RIVER NEAR SOMESHWAR TEMPLE.</td>\n",
              "      <td>MAHARASHTRA</td>\n",
              "      <td>8.0</td>\n",
              "      <td>85.0</td>\n",
              "    </tr>\n",
              "    <tr>\n",
              "      <th>2</th>\n",
              "      <td>GODAVARI RIVER AT SAIKHEDA.</td>\n",
              "      <td>MAHARASHTRA</td>\n",
              "      <td>7.8</td>\n",
              "      <td>95.0</td>\n",
              "    </tr>\n",
              "    <tr>\n",
              "      <th>3</th>\n",
              "      <td>GODAVARI RIVER AT HANUMAN GHAT, NASHIK CITY.</td>\n",
              "      <td>MAHARASHTRA</td>\n",
              "      <td>7.8</td>\n",
              "      <td>95.0</td>\n",
              "    </tr>\n",
              "    <tr>\n",
              "      <th>4</th>\n",
              "      <td>GODAVARI RIVER AT NANDUR- MADMESHWAR DAM.</td>\n",
              "      <td>MAHARASHTRA</td>\n",
              "      <td>7.9</td>\n",
              "      <td>95.0</td>\n",
              "    </tr>\n",
              "  </tbody>\n",
              "</table>\n",
              "</div>"
            ],
            "text/plain": [
              "                                           LOCATIONS        STATE   pH    QI\n",
              "0  GODAVARI AT JAYAKWADI DAM, AURNAGABAD,MAHARASHTRA  MAHARASHTRA  8.1  85.0\n",
              "1              GODAVARI RIVER NEAR SOMESHWAR TEMPLE.  MAHARASHTRA  8.0  85.0\n",
              "2                        GODAVARI RIVER AT SAIKHEDA.  MAHARASHTRA  7.8  95.0\n",
              "3       GODAVARI RIVER AT HANUMAN GHAT, NASHIK CITY.  MAHARASHTRA  7.8  95.0\n",
              "4          GODAVARI RIVER AT NANDUR- MADMESHWAR DAM.  MAHARASHTRA  7.9  95.0"
            ]
          },
          "metadata": {
            "tags": []
          },
          "execution_count": 45
        }
      ]
    },
    {
      "cell_type": "markdown",
      "metadata": {
        "id": "_EfXqjXfUwHr",
        "colab_type": "text"
      },
      "source": [
        "A barplot to show the relation of QI and States"
      ]
    },
    {
      "cell_type": "code",
      "metadata": {
        "trusted": true,
        "id": "yhlyDQWVUwHs",
        "colab_type": "code",
        "colab": {
          "base_uri": "https://localhost:8080/",
          "height": 668
        },
        "outputId": "8266c702-8a5e-4f63-a5b8-04abf2a8b8b7"
      },
      "source": [
        "ax=sns.barplot(x=\"STATE\", y= \"QI\", data=df_col_merged)\n",
        "ax.set_xticklabels(ax.get_xticklabels(), rotation=65, horizontalalignment='right')"
      ],
      "execution_count": 46,
      "outputs": [
        {
          "output_type": "display_data",
          "data": {
            "application/javascript": [
              "\n",
              "        if (window._pyforest_update_imports_cell) { window._pyforest_update_imports_cell('import pickle\\nimport seaborn as sns\\nimport plotly.express as px\\nimport plotly as py\\nimport matplotlib.pyplot as plt\\nimport altair as alt\\nimport pydot\\nfrom pathlib import Path\\nimport bokeh\\nimport pandas as pd'); }\n",
              "    "
            ],
            "text/plain": [
              "<IPython.core.display.Javascript object>"
            ]
          },
          "metadata": {
            "tags": []
          }
        },
        {
          "output_type": "execute_result",
          "data": {
            "text/plain": [
              "[Text(0, 0, 'MAHARASHTRA'),\n",
              " Text(0, 0, 'ANDHRA PRADESH'),\n",
              " Text(0, 0, 'UTTARAKHAND'),\n",
              " Text(0, 0, 'UTTAR PRADESH'),\n",
              " Text(0, 0, 'BIHAR'),\n",
              " Text(0, 0, 'WEST BENGAL'),\n",
              " Text(0, 0, 'ASSAM'),\n",
              " Text(0, 0, 'KARNATAKA'),\n",
              " Text(0, 0, 'HIMACHAL PRADESH'),\n",
              " Text(0, 0, 'DELHI'),\n",
              " Text(0, 0, 'KERALA'),\n",
              " Text(0, 0, 'TAMILNADU'),\n",
              " Text(0, 0, 'MADHYA PRADESH'),\n",
              " Text(0, 0, 'RAJASTHAN'),\n",
              " Text(0, 0, 'PUNJAB'),\n",
              " Text(0, 0, 'GOA'),\n",
              " Text(0, 0, 'CHHATTISGARH'),\n",
              " Text(0, 0, 'GUJARAT')]"
            ]
          },
          "metadata": {
            "tags": []
          },
          "execution_count": 46
        },
        {
          "output_type": "display_data",
          "data": {
            "image/png": "[encoded data removed]",
            "text/plain": [
              "<Figure size 432x288 with 1 Axes>"
            ]
          },
          "metadata": {
            "tags": [],
            "needs_background": "light"
          }
        }
      ]
    },
    {
      "cell_type": "markdown",
      "metadata": {
        "id": "xF3j6_yYUwH1",
        "colab_type": "text"
      },
      "source": [
        "# More work is to be done in the notebook and will update the whole notebook soon"
      ]
    },
    {
      "cell_type": "code",
      "metadata": {
        "trusted": true,
        "id": "o2BOTHSSUwH2",
        "colab_type": "code",
        "colab": {
          "base_uri": "https://localhost:8080/",
          "height": 196
        },
        "outputId": "f733a4c9-5143-4061-9b6a-8daf9a2ab98e"
      },
      "source": [
        "X= df_col_merged.drop([\"LOCATIONS\",\"STATE\",\"QI\"], axis=1)\n",
        "X.head()"
      ],
      "execution_count": 48,
      "outputs": [
        {
          "output_type": "execute_result",
          "data": {
            "text/html": [
              "<div>\n",
              "<style scoped>\n",
              "    .dataframe tbody tr th:only-of-type {\n",
              "        vertical-align: middle;\n",
              "    }\n",
              "\n",
              "    .dataframe tbody tr th {\n",
              "        vertical-align: top;\n",
              "    }\n",
              "\n",
              "    .dataframe thead th {\n",
              "        text-align: right;\n",
              "    }\n",
              "</style>\n",
              "<table border=\"1\" class=\"dataframe\">\n",
              "  <thead>\n",
              "    <tr style=\"text-align: right;\">\n",
              "      <th></th>\n",
              "      <th>pH</th>\n",
              "    </tr>\n",
              "  </thead>\n",
              "  <tbody>\n",
              "    <tr>\n",
              "      <th>0</th>\n",
              "      <td>8.1</td>\n",
              "    </tr>\n",
              "    <tr>\n",
              "      <th>1</th>\n",
              "      <td>8.0</td>\n",
              "    </tr>\n",
              "    <tr>\n",
              "      <th>2</th>\n",
              "      <td>7.8</td>\n",
              "    </tr>\n",
              "    <tr>\n",
              "      <th>3</th>\n",
              "      <td>7.8</td>\n",
              "    </tr>\n",
              "    <tr>\n",
              "      <th>4</th>\n",
              "      <td>7.9</td>\n",
              "    </tr>\n",
              "  </tbody>\n",
              "</table>\n",
              "</div>"
            ],
            "text/plain": [
              "    pH\n",
              "0  8.1\n",
              "1  8.0\n",
              "2  7.8\n",
              "3  7.8\n",
              "4  7.9"
            ]
          },
          "metadata": {
            "tags": []
          },
          "execution_count": 48
        }
      ]
    },
    {
      "cell_type": "code",
      "metadata": {
        "trusted": true,
        "id": "IAgBr1VfUwIA",
        "colab_type": "code",
        "colab": {
          "base_uri": "https://localhost:8080/",
          "height": 33
        },
        "outputId": "9f0a21ce-8d36-49f8-9846-9d6d7d54f4b0"
      },
      "source": [
        "X.shape"
      ],
      "execution_count": 49,
      "outputs": [
        {
          "output_type": "execute_result",
          "data": {
            "text/plain": [
              "(534, 1)"
            ]
          },
          "metadata": {
            "tags": []
          },
          "execution_count": 49
        }
      ]
    },
    {
      "cell_type": "code",
      "metadata": {
        "trusted": true,
        "id": "C5US2Q26UwIE",
        "colab_type": "code",
        "colab": {
          "base_uri": "https://localhost:8080/",
          "height": 117
        },
        "outputId": "b780ebe2-5120-40ce-e4ca-58918877ab41"
      },
      "source": [
        "y= df_col_merged[\"pH\"]\n",
        "y.head()"
      ],
      "execution_count": 50,
      "outputs": [
        {
          "output_type": "execute_result",
          "data": {
            "text/plain": [
              "0    8.1\n",
              "1    8.0\n",
              "2    7.8\n",
              "3    7.8\n",
              "4    7.9\n",
              "Name: pH, dtype: float64"
            ]
          },
          "metadata": {
            "tags": []
          },
          "execution_count": 50
        }
      ]
    },
    {
      "cell_type": "code",
      "metadata": {
        "trusted": true,
        "id": "0tHUHsGRUwII",
        "colab_type": "code",
        "colab": {
          "base_uri": "https://localhost:8080/",
          "height": 33
        },
        "outputId": "184f1180-bfe6-4169-9c6c-df675e298bdf"
      },
      "source": [
        "y.shape"
      ],
      "execution_count": 51,
      "outputs": [
        {
          "output_type": "execute_result",
          "data": {
            "text/plain": [
              "(534,)"
            ]
          },
          "metadata": {
            "tags": []
          },
          "execution_count": 51
        }
      ]
    },
    {
      "cell_type": "code",
      "metadata": {
        "trusted": true,
        "id": "pEcAMMFsUwIM",
        "colab_type": "code",
        "colab": {}
      },
      "source": [
        "from sklearn.model_selection import train_test_split\n",
        "X_train,X_test,y_train,y_test= train_test_split(X,y,test_size=0.2,random_state=42)"
      ],
      "execution_count": 52,
      "outputs": []
    },
    {
      "cell_type": "code",
      "metadata": {
        "trusted": true,
        "id": "hM_h6l9lUwIX",
        "colab_type": "code",
        "colab": {
          "base_uri": "https://localhost:8080/",
          "height": 33
        },
        "outputId": "17fc3974-84c6-425a-c245-a5f386757069"
      },
      "source": [
        "X_train.shape, X_test.shape, y_train.shape, y_test.shape"
      ],
      "execution_count": 53,
      "outputs": [
        {
          "output_type": "execute_result",
          "data": {
            "text/plain": [
              "((427, 1), (107, 1), (427,), (107,))"
            ]
          },
          "metadata": {
            "tags": []
          },
          "execution_count": 53
        }
      ]
    },
    {
      "cell_type": "code",
      "metadata": {
        "trusted": true,
        "id": "_sXvKSJaUwIc",
        "colab_type": "code",
        "colab": {}
      },
      "source": [
        "from sklearn.linear_model import LinearRegression, Ridge, Lasso"
      ],
      "execution_count": 54,
      "outputs": []
    },
    {
      "cell_type": "code",
      "metadata": {
        "trusted": true,
        "id": "dlQWEcQxUwIg",
        "colab_type": "code",
        "colab": {}
      },
      "source": [
        "from sklearn.model_selection import GridSearchCV"
      ],
      "execution_count": 55,
      "outputs": []
    },
    {
      "cell_type": "code",
      "metadata": {
        "trusted": true,
        "id": "g9yT_kq7UwIk",
        "colab_type": "code",
        "colab": {}
      },
      "source": [
        "from sklearn.model_selection import cross_val_score"
      ],
      "execution_count": 56,
      "outputs": []
    },
    {
      "cell_type": "code",
      "metadata": {
        "trusted": true,
        "id": "9Aje2dI7UwIy",
        "colab_type": "code",
        "colab": {}
      },
      "source": [
        "ridge= Ridge()"
      ],
      "execution_count": 57,
      "outputs": []
    },
    {
      "cell_type": "code",
      "metadata": {
        "trusted": true,
        "id": "bVCLRqQSUwI2",
        "colab_type": "code",
        "colab": {
          "base_uri": "https://localhost:8080/",
          "height": 167
        },
        "outputId": "97a5a853-54b9-4637-d3bd-9be67595f84c"
      },
      "source": [
        "parameters= {\"alpha\":[1e-15,1e-10,1e-8,1e-3,1e-2,1,5,10,20,30,40,50,60,70,80,90,100]}\n",
        "\n",
        "ridge_regressor= GridSearchCV(ridge,parameters,scoring=\"neg_mean_squared_error\", cv=10)\n",
        "\n",
        "ridge_regressor.fit(X,y)"
      ],
      "execution_count": 58,
      "outputs": [
        {
          "output_type": "execute_result",
          "data": {
            "text/plain": [
              "GridSearchCV(cv=10, error_score=nan,\n",
              "             estimator=Ridge(alpha=1.0, copy_X=True, fit_intercept=True,\n",
              "                             max_iter=None, normalize=False, random_state=None,\n",
              "                             solver='auto', tol=0.001),\n",
              "             iid='deprecated', n_jobs=None,\n",
              "             param_grid={'alpha': [1e-15, 1e-10, 1e-08, 0.001, 0.01, 1, 5, 10,\n",
              "                                   20, 30, 40, 50, 60, 70, 80, 90, 100]},\n",
              "             pre_dispatch='2*n_jobs', refit=True, return_train_score=False,\n",
              "             scoring='neg_mean_squared_error', verbose=0)"
            ]
          },
          "metadata": {
            "tags": []
          },
          "execution_count": 58
        }
      ]
    },
    {
      "cell_type": "code",
      "metadata": {
        "trusted": true,
        "id": "IS8Kb-YkUwI7",
        "colab_type": "code",
        "colab": {
          "base_uri": "https://localhost:8080/",
          "height": 33
        },
        "outputId": "e81cf6f0-04e6-4189-85fe-f20c816df8b6"
      },
      "source": [
        "ridge_regressor.best_params_"
      ],
      "execution_count": 59,
      "outputs": [
        {
          "output_type": "execute_result",
          "data": {
            "text/plain": [
              "{'alpha': 1e-15}"
            ]
          },
          "metadata": {
            "tags": []
          },
          "execution_count": 59
        }
      ]
    },
    {
      "cell_type": "code",
      "metadata": {
        "trusted": true,
        "id": "GIWZh6UAUwI_",
        "colab_type": "code",
        "colab": {
          "base_uri": "https://localhost:8080/",
          "height": 184
        },
        "outputId": "5e98ae5b-543f-4663-f60e-b5ffd26dbc3a"
      },
      "source": [
        "ridge_regressor.best_score_, ridge_regressor.score"
      ],
      "execution_count": 60,
      "outputs": [
        {
          "output_type": "execute_result",
          "data": {
            "text/plain": [
              "(-1.9884145947814044e-31,\n",
              " <bound method BaseSearchCV.score of GridSearchCV(cv=10, error_score=nan,\n",
              "              estimator=Ridge(alpha=1.0, copy_X=True, fit_intercept=True,\n",
              "                              max_iter=None, normalize=False, random_state=None,\n",
              "                              solver='auto', tol=0.001),\n",
              "              iid='deprecated', n_jobs=None,\n",
              "              param_grid={'alpha': [1e-15, 1e-10, 1e-08, 0.001, 0.01, 1, 5, 10,\n",
              "                                    20, 30, 40, 50, 60, 70, 80, 90, 100]},\n",
              "              pre_dispatch='2*n_jobs', refit=True, return_train_score=False,\n",
              "              scoring='neg_mean_squared_error', verbose=0)>)"
            ]
          },
          "metadata": {
            "tags": []
          },
          "execution_count": 60
        }
      ]
    },
    {
      "cell_type": "code",
      "metadata": {
        "trusted": true,
        "id": "wTIgdURiUwJF",
        "colab_type": "code",
        "colab": {
          "base_uri": "https://localhost:8080/",
          "height": 1000
        },
        "outputId": "730cd2b2-6b25-4abb-fd60-74e065386892"
      },
      "source": [
        "ridge_regressor.cv_results_"
      ],
      "execution_count": 61,
      "outputs": [
        {
          "output_type": "execute_result",
          "data": {
            "text/plain": [
              "{'mean_fit_time': array([0.00400546, 0.00189235, 0.00187864, 0.00178175, 0.00176902,\n",
              "        0.00180743, 0.00181782, 0.00186927, 0.00176971, 0.00173788,\n",
              "        0.00176058, 0.00175121, 0.00180426, 0.00192742, 0.00178049,\n",
              "        0.00179167, 0.00181751]),\n",
              " 'mean_score_time': array([0.00104003, 0.00087631, 0.00089557, 0.00085254, 0.00088387,\n",
              "        0.000862  , 0.00087681, 0.00088155, 0.0008405 , 0.00085394,\n",
              "        0.00086393, 0.00086467, 0.00086079, 0.00096498, 0.00086946,\n",
              "        0.00087187, 0.00087395]),\n",
              " 'mean_test_score': array([-1.98841459e-31, -1.28760575e-25, -1.28808888e-21, -1.28808381e-11,\n",
              "        -1.28795453e-09, -1.27385313e-05, -3.04798258e-04, -1.15571839e-03,\n",
              "        -4.17156369e-03, -8.51331113e-03, -1.37913639e-02, -1.97190892e-02,\n",
              "        -2.60841341e-02, -3.27283603e-02, -3.95336051e-02, -4.64114481e-02,\n",
              "        -5.32957695e-02]),\n",
              " 'param_alpha': masked_array(data=[1e-15, 1e-10, 1e-08, 0.001, 0.01, 1, 5, 10, 20, 30, 40,\n",
              "                    50, 60, 70, 80, 90, 100],\n",
              "              mask=[False, False, False, False, False, False, False, False,\n",
              "                    False, False, False, False, False, False, False, False,\n",
              "                    False],\n",
              "        fill_value='?',\n",
              "             dtype=object),\n",
              " 'params': [{'alpha': 1e-15},\n",
              "  {'alpha': 1e-10},\n",
              "  {'alpha': 1e-08},\n",
              "  {'alpha': 0.001},\n",
              "  {'alpha': 0.01},\n",
              "  {'alpha': 1},\n",
              "  {'alpha': 5},\n",
              "  {'alpha': 10},\n",
              "  {'alpha': 20},\n",
              "  {'alpha': 30},\n",
              "  {'alpha': 40},\n",
              "  {'alpha': 50},\n",
              "  {'alpha': 60},\n",
              "  {'alpha': 70},\n",
              "  {'alpha': 80},\n",
              "  {'alpha': 90},\n",
              "  {'alpha': 100}],\n",
              " 'rank_test_score': array([ 1,  2,  3,  4,  5,  6,  7,  8,  9, 10, 11, 12, 13, 14, 15, 16, 17],\n",
              "       dtype=int32),\n",
              " 'split0_test_score': array([-5.84341411e-31, -4.55532697e-26, -4.55885276e-22, -4.55889013e-12,\n",
              "        -4.55850672e-10, -4.51662523e-06, -1.08828768e-04, -4.16099362e-04,\n",
              "        -1.52518848e-03, -3.15616773e-03, -5.17787532e-03, -7.48915602e-03,\n",
              "        -1.00116039e-02, -1.26842016e-02, -1.54593205e-02, -1.82997098e-02,\n",
              "        -2.11762101e-02]),\n",
              " 'split1_test_score': array([-5.25907270e-31, -2.98908893e-26, -2.99693011e-22, -2.99683151e-12,\n",
              "        -2.99658353e-10, -2.96949262e-06, -7.15922890e-05, -2.73920688e-04,\n",
              "        -1.00536314e-03, -2.08297784e-03, -3.42105638e-03, -4.95323757e-03,\n",
              "        -6.62788723e-03, -8.40467064e-03, -1.02519851e-02, -1.21450197e-02,\n",
              "        -1.40642767e-02]),\n",
              " 'split2_test_score': array([-0.00000000e+00, -2.10049117e-26, -2.10097660e-22, -2.10096159e-12,\n",
              "        -2.10078949e-10, -2.08198664e-06, -5.02132262e-05, -1.92204815e-04,\n",
              "        -7.06014970e-04, -1.46385765e-03, -2.40587286e-03, -3.48560075e-03,\n",
              "        -4.66680676e-03, -5.92112019e-03, -7.22626098e-03, -8.56469648e-03,\n",
              "        -9.92261572e-03]),\n",
              " 'split3_test_score': array([-0.00000000e+00, -4.66468354e-26, -4.66822889e-22, -4.66821366e-12,\n",
              "        -4.66782056e-10, -4.62488082e-06, -1.11432072e-04, -4.26029382e-04,\n",
              "        -1.56142495e-03, -3.23084744e-03, -5.29992828e-03, -7.66507107e-03,\n",
              "        -1.02460019e-02, -1.29802683e-02, -1.58191357e-02, -1.87244998e-02,\n",
              "        -2.16665424e-02]),\n",
              " 'split4_test_score': array([-8.48397577e-31, -2.41838989e-25, -2.41886537e-21, -2.41885634e-11,\n",
              "        -2.41861776e-09, -2.39258768e-05, -5.72895268e-04, -2.17407061e-03,\n",
              "        -7.85850854e-03, -1.60564813e-02, -2.60364418e-02, -3.72573590e-02,\n",
              "        -4.93166519e-02, -6.19134141e-02, -7.48221017e-02, -8.78734887e-02,\n",
              "        -1.00940736e-01]),\n",
              " 'split5_test_score': array([-2.97683360e-32, -3.16840624e-26, -3.17278783e-22, -3.17274142e-12,\n",
              "        -3.17247890e-10, -3.14379871e-06, -7.57947693e-05, -2.90000287e-04,\n",
              "        -1.06438241e-03, -2.20526318e-03, -3.62190432e-03, -5.24404962e-03,\n",
              "        -7.01703386e-03, -8.89815429e-03, -1.08539525e-02, -1.28581606e-02,\n",
              "        -1.48901356e-02]),\n",
              " 'split6_test_score': array([-0.00000000e+00, -4.45267195e-25, -4.45420941e-21, -4.45417112e-11,\n",
              "        -4.45367861e-09, -4.39999682e-05, -1.04817271e-03, -3.95353182e-03,\n",
              "        -1.41310006e-02, -2.85816380e-02, -4.59236881e-02, -6.51694439e-02,\n",
              "        -8.56080185e-02, -1.06725435e-01, -1.28149310e-01, -1.49610037e-01,\n",
              "        -1.70913200e-01]),\n",
              " 'split7_test_score': array([-0.00000000e+00, -7.78890299e-26, -7.78210575e-22, -7.78214852e-12,\n",
              "        -7.78147325e-10, -7.70772633e-06, -1.85504601e-04, -7.08283304e-04,\n",
              "        -2.58946236e-03, -5.34583668e-03, -8.75102537e-03, -1.26317851e-02,\n",
              "        -1.68548423e-02, -2.13172477e-02, -2.59392353e-02, -3.06588871e-02,\n",
              "        -3.54281093e-02]),\n",
              " 'split8_test_score': array([-0.00000000e+00, -3.02911678e-25, -3.03114845e-21, -3.03116908e-11,\n",
              "        -3.03085848e-09, -2.99698249e-05, -7.16433447e-04, -2.71345242e-03,\n",
              "        -9.77266555e-03, -1.99020770e-02, -3.21762105e-02, -4.59180716e-02,\n",
              "        -6.06292717e-02, -7.59412390e-02, -9.15806835e-02, -1.07344851e-01,\n",
              "        -1.23083591e-01]),\n",
              " 'split9_test_score': array([-0.00000000e+00, -4.49188860e-26, -4.48677388e-22, -4.48662878e-12,\n",
              "        -4.48625235e-10, -4.44513243e-06, -1.07115436e-04, -4.09591208e-04,\n",
              "        -1.50162595e-03, -3.10796458e-03, -5.09963623e-03, -7.37711732e-03,\n",
              "        -9.86322287e-03, -1.24978521e-02, -1.52340657e-02, -1.80351314e-02,\n",
              "        -2.08722788e-02]),\n",
              " 'std_fit_time': array([5.80236097e-03, 6.40501163e-05, 5.94205110e-05, 3.54304448e-05,\n",
              "        4.62523195e-05, 7.04011309e-05, 4.09658695e-05, 2.39247123e-04,\n",
              "        2.96983909e-05, 2.12186642e-05, 4.25422130e-05, 1.88677691e-05,\n",
              "        7.85785970e-05, 2.10368314e-04, 1.11386315e-04, 9.18318794e-05,\n",
              "        9.86866772e-05]),\n",
              " 'std_score_time': array([2.09978663e-04, 3.38163368e-05, 3.47767722e-05, 2.93341678e-05,\n",
              "        5.46174035e-05, 1.93290428e-05, 3.43885557e-05, 5.40018082e-05,\n",
              "        2.71382874e-05, 3.22731142e-05, 2.22908494e-05, 4.08481446e-05,\n",
              "        1.35013981e-05, 1.34217853e-04, 3.78088269e-05, 4.40801652e-05,\n",
              "        3.28964423e-05]),\n",
              " 'std_test_score': array([3.07134935e-31, 1.40493981e-25, 1.40550074e-21, 1.40549565e-11,\n",
              "        1.40534114e-09, 1.38849814e-05, 3.30858015e-04, 1.24832353e-03,\n",
              "        4.46422955e-03, 9.03344158e-03, 1.45198801e-02, 2.06112115e-02,\n",
              "        2.70822478e-02, 3.37699251e-02, 4.05559385e-02, 4.73545271e-02,\n",
              "        5.41037763e-02])}"
            ]
          },
          "metadata": {
            "tags": []
          },
          "execution_count": 61
        }
      ]
    },
    {
      "cell_type": "code",
      "metadata": {
        "trusted": true,
        "id": "XXrliDu0UwJK",
        "colab_type": "code",
        "colab": {
          "base_uri": "https://localhost:8080/",
          "height": 858
        },
        "outputId": "e609ed72-2055-46bf-8bed-bce7f03ef32c"
      },
      "source": [
        "df2= pd.DataFrame(ridge_regressor.cv_results_)\n",
        "df2"
      ],
      "execution_count": 63,
      "outputs": [
        {
          "output_type": "display_data",
          "data": {
            "application/javascript": [
              "\n",
              "        if (window._pyforest_update_imports_cell) { window._pyforest_update_imports_cell('import sklearn\\nimport pickle\\nimport seaborn as sns\\nimport plotly.express as px\\nimport plotly as py\\nimport matplotlib.pyplot as plt\\nimport altair as alt\\nimport pydot\\nfrom pathlib import Path\\nimport bokeh\\nimport pandas as pd'); }\n",
              "    "
            ],
            "text/plain": [
              "<IPython.core.display.Javascript object>"
            ]
          },
          "metadata": {
            "tags": []
          }
        },
        {
          "output_type": "execute_result",
          "data": {
            "text/html": [
              "<div>\n",
              "<style scoped>\n",
              "    .dataframe tbody tr th:only-of-type {\n",
              "        vertical-align: middle;\n",
              "    }\n",
              "\n",
              "    .dataframe tbody tr th {\n",
              "        vertical-align: top;\n",
              "    }\n",
              "\n",
              "    .dataframe thead th {\n",
              "        text-align: right;\n",
              "    }\n",
              "</style>\n",
              "<table border=\"1\" class=\"dataframe\">\n",
              "  <thead>\n",
              "    <tr style=\"text-align: right;\">\n",
              "      <th></th>\n",
              "      <th>mean_fit_time</th>\n",
              "      <th>std_fit_time</th>\n",
              "      <th>mean_score_time</th>\n",
              "      <th>std_score_time</th>\n",
              "      <th>param_alpha</th>\n",
              "      <th>params</th>\n",
              "      <th>split0_test_score</th>\n",
              "      <th>split1_test_score</th>\n",
              "      <th>split2_test_score</th>\n",
              "      <th>split3_test_score</th>\n",
              "      <th>split4_test_score</th>\n",
              "      <th>split5_test_score</th>\n",
              "      <th>split6_test_score</th>\n",
              "      <th>split7_test_score</th>\n",
              "      <th>split8_test_score</th>\n",
              "      <th>split9_test_score</th>\n",
              "      <th>mean_test_score</th>\n",
              "      <th>std_test_score</th>\n",
              "      <th>rank_test_score</th>\n",
              "    </tr>\n",
              "  </thead>\n",
              "  <tbody>\n",
              "    <tr>\n",
              "      <th>0</th>\n",
              "      <td>0.004005</td>\n",
              "      <td>0.005802</td>\n",
              "      <td>0.001040</td>\n",
              "      <td>0.000210</td>\n",
              "      <td>1e-15</td>\n",
              "      <td>{'alpha': 1e-15}</td>\n",
              "      <td>-5.843414e-31</td>\n",
              "      <td>-5.259073e-31</td>\n",
              "      <td>-0.000000e+00</td>\n",
              "      <td>-0.000000e+00</td>\n",
              "      <td>-8.483976e-31</td>\n",
              "      <td>-2.976834e-32</td>\n",
              "      <td>-0.000000e+00</td>\n",
              "      <td>-0.000000e+00</td>\n",
              "      <td>-0.000000e+00</td>\n",
              "      <td>-0.000000e+00</td>\n",
              "      <td>-1.988415e-31</td>\n",
              "      <td>3.071349e-31</td>\n",
              "      <td>1</td>\n",
              "    </tr>\n",
              "    <tr>\n",
              "      <th>1</th>\n",
              "      <td>0.001892</td>\n",
              "      <td>0.000064</td>\n",
              "      <td>0.000876</td>\n",
              "      <td>0.000034</td>\n",
              "      <td>1e-10</td>\n",
              "      <td>{'alpha': 1e-10}</td>\n",
              "      <td>-4.555327e-26</td>\n",
              "      <td>-2.989089e-26</td>\n",
              "      <td>-2.100491e-26</td>\n",
              "      <td>-4.664684e-26</td>\n",
              "      <td>-2.418390e-25</td>\n",
              "      <td>-3.168406e-26</td>\n",
              "      <td>-4.452672e-25</td>\n",
              "      <td>-7.788903e-26</td>\n",
              "      <td>-3.029117e-25</td>\n",
              "      <td>-4.491889e-26</td>\n",
              "      <td>-1.287606e-25</td>\n",
              "      <td>1.404940e-25</td>\n",
              "      <td>2</td>\n",
              "    </tr>\n",
              "    <tr>\n",
              "      <th>2</th>\n",
              "      <td>0.001879</td>\n",
              "      <td>0.000059</td>\n",
              "      <td>0.000896</td>\n",
              "      <td>0.000035</td>\n",
              "      <td>1e-08</td>\n",
              "      <td>{'alpha': 1e-08}</td>\n",
              "      <td>-4.558853e-22</td>\n",
              "      <td>-2.996930e-22</td>\n",
              "      <td>-2.100977e-22</td>\n",
              "      <td>-4.668229e-22</td>\n",
              "      <td>-2.418865e-21</td>\n",
              "      <td>-3.172788e-22</td>\n",
              "      <td>-4.454209e-21</td>\n",
              "      <td>-7.782106e-22</td>\n",
              "      <td>-3.031148e-21</td>\n",
              "      <td>-4.486774e-22</td>\n",
              "      <td>-1.288089e-21</td>\n",
              "      <td>1.405501e-21</td>\n",
              "      <td>3</td>\n",
              "    </tr>\n",
              "    <tr>\n",
              "      <th>3</th>\n",
              "      <td>0.001782</td>\n",
              "      <td>0.000035</td>\n",
              "      <td>0.000853</td>\n",
              "      <td>0.000029</td>\n",
              "      <td>0.001</td>\n",
              "      <td>{'alpha': 0.001}</td>\n",
              "      <td>-4.558890e-12</td>\n",
              "      <td>-2.996832e-12</td>\n",
              "      <td>-2.100962e-12</td>\n",
              "      <td>-4.668214e-12</td>\n",
              "      <td>-2.418856e-11</td>\n",
              "      <td>-3.172741e-12</td>\n",
              "      <td>-4.454171e-11</td>\n",
              "      <td>-7.782149e-12</td>\n",
              "      <td>-3.031169e-11</td>\n",
              "      <td>-4.486629e-12</td>\n",
              "      <td>-1.288084e-11</td>\n",
              "      <td>1.405496e-11</td>\n",
              "      <td>4</td>\n",
              "    </tr>\n",
              "    <tr>\n",
              "      <th>4</th>\n",
              "      <td>0.001769</td>\n",
              "      <td>0.000046</td>\n",
              "      <td>0.000884</td>\n",
              "      <td>0.000055</td>\n",
              "      <td>0.01</td>\n",
              "      <td>{'alpha': 0.01}</td>\n",
              "      <td>-4.558507e-10</td>\n",
              "      <td>-2.996584e-10</td>\n",
              "      <td>-2.100789e-10</td>\n",
              "      <td>-4.667821e-10</td>\n",
              "      <td>-2.418618e-09</td>\n",
              "      <td>-3.172479e-10</td>\n",
              "      <td>-4.453679e-09</td>\n",
              "      <td>-7.781473e-10</td>\n",
              "      <td>-3.030858e-09</td>\n",
              "      <td>-4.486252e-10</td>\n",
              "      <td>-1.287955e-09</td>\n",
              "      <td>1.405341e-09</td>\n",
              "      <td>5</td>\n",
              "    </tr>\n",
              "    <tr>\n",
              "      <th>5</th>\n",
              "      <td>0.001807</td>\n",
              "      <td>0.000070</td>\n",
              "      <td>0.000862</td>\n",
              "      <td>0.000019</td>\n",
              "      <td>1</td>\n",
              "      <td>{'alpha': 1}</td>\n",
              "      <td>-4.516625e-06</td>\n",
              "      <td>-2.969493e-06</td>\n",
              "      <td>-2.081987e-06</td>\n",
              "      <td>-4.624881e-06</td>\n",
              "      <td>-2.392588e-05</td>\n",
              "      <td>-3.143799e-06</td>\n",
              "      <td>-4.399997e-05</td>\n",
              "      <td>-7.707726e-06</td>\n",
              "      <td>-2.996982e-05</td>\n",
              "      <td>-4.445132e-06</td>\n",
              "      <td>-1.273853e-05</td>\n",
              "      <td>1.388498e-05</td>\n",
              "      <td>6</td>\n",
              "    </tr>\n",
              "    <tr>\n",
              "      <th>6</th>\n",
              "      <td>0.001818</td>\n",
              "      <td>0.000041</td>\n",
              "      <td>0.000877</td>\n",
              "      <td>0.000034</td>\n",
              "      <td>5</td>\n",
              "      <td>{'alpha': 5}</td>\n",
              "      <td>-1.088288e-04</td>\n",
              "      <td>-7.159229e-05</td>\n",
              "      <td>-5.021323e-05</td>\n",
              "      <td>-1.114321e-04</td>\n",
              "      <td>-5.728953e-04</td>\n",
              "      <td>-7.579477e-05</td>\n",
              "      <td>-1.048173e-03</td>\n",
              "      <td>-1.855046e-04</td>\n",
              "      <td>-7.164334e-04</td>\n",
              "      <td>-1.071154e-04</td>\n",
              "      <td>-3.047983e-04</td>\n",
              "      <td>3.308580e-04</td>\n",
              "      <td>7</td>\n",
              "    </tr>\n",
              "    <tr>\n",
              "      <th>7</th>\n",
              "      <td>0.001869</td>\n",
              "      <td>0.000239</td>\n",
              "      <td>0.000882</td>\n",
              "      <td>0.000054</td>\n",
              "      <td>10</td>\n",
              "      <td>{'alpha': 10}</td>\n",
              "      <td>-4.160994e-04</td>\n",
              "      <td>-2.739207e-04</td>\n",
              "      <td>-1.922048e-04</td>\n",
              "      <td>-4.260294e-04</td>\n",
              "      <td>-2.174071e-03</td>\n",
              "      <td>-2.900003e-04</td>\n",
              "      <td>-3.953532e-03</td>\n",
              "      <td>-7.082833e-04</td>\n",
              "      <td>-2.713452e-03</td>\n",
              "      <td>-4.095912e-04</td>\n",
              "      <td>-1.155718e-03</td>\n",
              "      <td>1.248324e-03</td>\n",
              "      <td>8</td>\n",
              "    </tr>\n",
              "    <tr>\n",
              "      <th>8</th>\n",
              "      <td>0.001770</td>\n",
              "      <td>0.000030</td>\n",
              "      <td>0.000840</td>\n",
              "      <td>0.000027</td>\n",
              "      <td>20</td>\n",
              "      <td>{'alpha': 20}</td>\n",
              "      <td>-1.525188e-03</td>\n",
              "      <td>-1.005363e-03</td>\n",
              "      <td>-7.060150e-04</td>\n",
              "      <td>-1.561425e-03</td>\n",
              "      <td>-7.858509e-03</td>\n",
              "      <td>-1.064382e-03</td>\n",
              "      <td>-1.413100e-02</td>\n",
              "      <td>-2.589462e-03</td>\n",
              "      <td>-9.772666e-03</td>\n",
              "      <td>-1.501626e-03</td>\n",
              "      <td>-4.171564e-03</td>\n",
              "      <td>4.464230e-03</td>\n",
              "      <td>9</td>\n",
              "    </tr>\n",
              "    <tr>\n",
              "      <th>9</th>\n",
              "      <td>0.001738</td>\n",
              "      <td>0.000021</td>\n",
              "      <td>0.000854</td>\n",
              "      <td>0.000032</td>\n",
              "      <td>30</td>\n",
              "      <td>{'alpha': 30}</td>\n",
              "      <td>-3.156168e-03</td>\n",
              "      <td>-2.082978e-03</td>\n",
              "      <td>-1.463858e-03</td>\n",
              "      <td>-3.230847e-03</td>\n",
              "      <td>-1.605648e-02</td>\n",
              "      <td>-2.205263e-03</td>\n",
              "      <td>-2.858164e-02</td>\n",
              "      <td>-5.345837e-03</td>\n",
              "      <td>-1.990208e-02</td>\n",
              "      <td>-3.107965e-03</td>\n",
              "      <td>-8.513311e-03</td>\n",
              "      <td>9.033442e-03</td>\n",
              "      <td>10</td>\n",
              "    </tr>\n",
              "    <tr>\n",
              "      <th>10</th>\n",
              "      <td>0.001761</td>\n",
              "      <td>0.000043</td>\n",
              "      <td>0.000864</td>\n",
              "      <td>0.000022</td>\n",
              "      <td>40</td>\n",
              "      <td>{'alpha': 40}</td>\n",
              "      <td>-5.177875e-03</td>\n",
              "      <td>-3.421056e-03</td>\n",
              "      <td>-2.405873e-03</td>\n",
              "      <td>-5.299928e-03</td>\n",
              "      <td>-2.603644e-02</td>\n",
              "      <td>-3.621904e-03</td>\n",
              "      <td>-4.592369e-02</td>\n",
              "      <td>-8.751025e-03</td>\n",
              "      <td>-3.217621e-02</td>\n",
              "      <td>-5.099636e-03</td>\n",
              "      <td>-1.379136e-02</td>\n",
              "      <td>1.451988e-02</td>\n",
              "      <td>11</td>\n",
              "    </tr>\n",
              "    <tr>\n",
              "      <th>11</th>\n",
              "      <td>0.001751</td>\n",
              "      <td>0.000019</td>\n",
              "      <td>0.000865</td>\n",
              "      <td>0.000041</td>\n",
              "      <td>50</td>\n",
              "      <td>{'alpha': 50}</td>\n",
              "      <td>-7.489156e-03</td>\n",
              "      <td>-4.953238e-03</td>\n",
              "      <td>-3.485601e-03</td>\n",
              "      <td>-7.665071e-03</td>\n",
              "      <td>-3.725736e-02</td>\n",
              "      <td>-5.244050e-03</td>\n",
              "      <td>-6.516944e-02</td>\n",
              "      <td>-1.263179e-02</td>\n",
              "      <td>-4.591807e-02</td>\n",
              "      <td>-7.377117e-03</td>\n",
              "      <td>-1.971909e-02</td>\n",
              "      <td>2.061121e-02</td>\n",
              "      <td>12</td>\n",
              "    </tr>\n",
              "    <tr>\n",
              "      <th>12</th>\n",
              "      <td>0.001804</td>\n",
              "      <td>0.000079</td>\n",
              "      <td>0.000861</td>\n",
              "      <td>0.000014</td>\n",
              "      <td>60</td>\n",
              "      <td>{'alpha': 60}</td>\n",
              "      <td>-1.001160e-02</td>\n",
              "      <td>-6.627887e-03</td>\n",
              "      <td>-4.666807e-03</td>\n",
              "      <td>-1.024600e-02</td>\n",
              "      <td>-4.931665e-02</td>\n",
              "      <td>-7.017034e-03</td>\n",
              "      <td>-8.560802e-02</td>\n",
              "      <td>-1.685484e-02</td>\n",
              "      <td>-6.062927e-02</td>\n",
              "      <td>-9.863223e-03</td>\n",
              "      <td>-2.608413e-02</td>\n",
              "      <td>2.708225e-02</td>\n",
              "      <td>13</td>\n",
              "    </tr>\n",
              "    <tr>\n",
              "      <th>13</th>\n",
              "      <td>0.001927</td>\n",
              "      <td>0.000210</td>\n",
              "      <td>0.000965</td>\n",
              "      <td>0.000134</td>\n",
              "      <td>70</td>\n",
              "      <td>{'alpha': 70}</td>\n",
              "      <td>-1.268420e-02</td>\n",
              "      <td>-8.404671e-03</td>\n",
              "      <td>-5.921120e-03</td>\n",
              "      <td>-1.298027e-02</td>\n",
              "      <td>-6.191341e-02</td>\n",
              "      <td>-8.898154e-03</td>\n",
              "      <td>-1.067254e-01</td>\n",
              "      <td>-2.131725e-02</td>\n",
              "      <td>-7.594124e-02</td>\n",
              "      <td>-1.249785e-02</td>\n",
              "      <td>-3.272836e-02</td>\n",
              "      <td>3.376993e-02</td>\n",
              "      <td>14</td>\n",
              "    </tr>\n",
              "    <tr>\n",
              "      <th>14</th>\n",
              "      <td>0.001780</td>\n",
              "      <td>0.000111</td>\n",
              "      <td>0.000869</td>\n",
              "      <td>0.000038</td>\n",
              "      <td>80</td>\n",
              "      <td>{'alpha': 80}</td>\n",
              "      <td>-1.545932e-02</td>\n",
              "      <td>-1.025199e-02</td>\n",
              "      <td>-7.226261e-03</td>\n",
              "      <td>-1.581914e-02</td>\n",
              "      <td>-7.482210e-02</td>\n",
              "      <td>-1.085395e-02</td>\n",
              "      <td>-1.281493e-01</td>\n",
              "      <td>-2.593924e-02</td>\n",
              "      <td>-9.158068e-02</td>\n",
              "      <td>-1.523407e-02</td>\n",
              "      <td>-3.953361e-02</td>\n",
              "      <td>4.055594e-02</td>\n",
              "      <td>15</td>\n",
              "    </tr>\n",
              "    <tr>\n",
              "      <th>15</th>\n",
              "      <td>0.001792</td>\n",
              "      <td>0.000092</td>\n",
              "      <td>0.000872</td>\n",
              "      <td>0.000044</td>\n",
              "      <td>90</td>\n",
              "      <td>{'alpha': 90}</td>\n",
              "      <td>-1.829971e-02</td>\n",
              "      <td>-1.214502e-02</td>\n",
              "      <td>-8.564696e-03</td>\n",
              "      <td>-1.872450e-02</td>\n",
              "      <td>-8.787349e-02</td>\n",
              "      <td>-1.285816e-02</td>\n",
              "      <td>-1.496100e-01</td>\n",
              "      <td>-3.065889e-02</td>\n",
              "      <td>-1.073449e-01</td>\n",
              "      <td>-1.803513e-02</td>\n",
              "      <td>-4.641145e-02</td>\n",
              "      <td>4.735453e-02</td>\n",
              "      <td>16</td>\n",
              "    </tr>\n",
              "    <tr>\n",
              "      <th>16</th>\n",
              "      <td>0.001818</td>\n",
              "      <td>0.000099</td>\n",
              "      <td>0.000874</td>\n",
              "      <td>0.000033</td>\n",
              "      <td>100</td>\n",
              "      <td>{'alpha': 100}</td>\n",
              "      <td>-2.117621e-02</td>\n",
              "      <td>-1.406428e-02</td>\n",
              "      <td>-9.922616e-03</td>\n",
              "      <td>-2.166654e-02</td>\n",
              "      <td>-1.009407e-01</td>\n",
              "      <td>-1.489014e-02</td>\n",
              "      <td>-1.709132e-01</td>\n",
              "      <td>-3.542811e-02</td>\n",
              "      <td>-1.230836e-01</td>\n",
              "      <td>-2.087228e-02</td>\n",
              "      <td>-5.329577e-02</td>\n",
              "      <td>5.410378e-02</td>\n",
              "      <td>17</td>\n",
              "    </tr>\n",
              "  </tbody>\n",
              "</table>\n",
              "</div>"
            ],
            "text/plain": [
              "    mean_fit_time  std_fit_time  ...  std_test_score  rank_test_score\n",
              "0        0.004005      0.005802  ...    3.071349e-31                1\n",
              "1        0.001892      0.000064  ...    1.404940e-25                2\n",
              "2        0.001879      0.000059  ...    1.405501e-21                3\n",
              "3        0.001782      0.000035  ...    1.405496e-11                4\n",
              "4        0.001769      0.000046  ...    1.405341e-09                5\n",
              "5        0.001807      0.000070  ...    1.388498e-05                6\n",
              "6        0.001818      0.000041  ...    3.308580e-04                7\n",
              "7        0.001869      0.000239  ...    1.248324e-03                8\n",
              "8        0.001770      0.000030  ...    4.464230e-03                9\n",
              "9        0.001738      0.000021  ...    9.033442e-03               10\n",
              "10       0.001761      0.000043  ...    1.451988e-02               11\n",
              "11       0.001751      0.000019  ...    2.061121e-02               12\n",
              "12       0.001804      0.000079  ...    2.708225e-02               13\n",
              "13       0.001927      0.000210  ...    3.376993e-02               14\n",
              "14       0.001780      0.000111  ...    4.055594e-02               15\n",
              "15       0.001792      0.000092  ...    4.735453e-02               16\n",
              "16       0.001818      0.000099  ...    5.410378e-02               17\n",
              "\n",
              "[17 rows x 19 columns]"
            ]
          },
          "metadata": {
            "tags": []
          },
          "execution_count": 63
        }
      ]
    },
    {
      "cell_type": "code",
      "metadata": {
        "trusted": true,
        "id": "06RtHRDXUwJP",
        "colab_type": "code",
        "colab": {}
      },
      "source": [
        ""
      ],
      "execution_count": null,
      "outputs": []
    }
  ]
}